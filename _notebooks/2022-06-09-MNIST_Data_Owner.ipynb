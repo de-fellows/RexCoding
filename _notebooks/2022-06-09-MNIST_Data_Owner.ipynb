{
 "cells": [
  {
   "cell_type": "markdown",
   "id": "325bd9e4",
   "metadata": {},
   "source": [
    "# Federated Learning (Data Owner)\n"
   ]
  },
  {
   "cell_type": "markdown",
   "id": "8f5178bf",
   "metadata": {},
   "source": [
    "*Published by* <a href = \"https://www.leow.ca\"> by Leo Wei </a>"
   ]
  },
  {
   "cell_type": "markdown",
   "id": "64a89912",
   "metadata": {},
   "source": [
    "Before reading the rest of this blog, make sure you read the <a href = \"https://de-fellows.github.io/RexCoding/2022/06/09/MNIST_Data_Scientist.html\"> Federated Learning (Data Scientist)</a>. Or have both of them open side by side."
   ]
  },
  {
   "cell_type": "markdown",
   "id": "c45c586c",
   "metadata": {},
   "source": [
    "# Pysyft Duet (Data Owner)"
   ]
  },
  {
   "cell_type": "markdown",
   "id": "dd63d639",
   "metadata": {},
   "source": [
    "As a data owner, you want someone lese to perform data science on data that you own that want to protect. <br/>\n",
    "To do this, we can load our data into our local `duet` server. <br/>\n",
    "To begin the process, you must launch a Duet session and help your Duet partner (data scientist) connect to this server."
   ]
  },
  {
   "cell_type": "markdown",
   "id": "287b1059",
   "metadata": {},
   "source": [
    "## Duet Basics"
   ]
  },
  {
   "cell_type": "markdown",
   "id": "f1e86805",
   "metadata": {},
   "source": [
    "Make sure that the network_url you use is chosen from https://raw.githubusercontent.com/OpenMined/OpenGridNodes/master/network_address"
   ]
  },
  {
   "cell_type": "code",
   "execution_count": 1,
   "id": "b17520af",
   "metadata": {},
   "outputs": [
    {
     "name": "stdout",
     "output_type": "stream",
     "text": [
      "🎤  🎸  ♪♪♪ Starting Duet ♫♫♫  🎻  🎹\n",
      "\n",
      "♫♫♫ >\u001b[93m DISCLAIMER\u001b[0m: \u001b[1mDuet is an experimental feature currently in beta.\n",
      "♫♫♫ > Use at your own risk.\n",
      "\u001b[0m\n",
      "\u001b[1m\n",
      "    > ❤️ \u001b[91mLove\u001b[0m \u001b[92mDuet\u001b[0m? \u001b[93mPlease\u001b[0m \u001b[94mconsider\u001b[0m \u001b[95msupporting\u001b[0m \u001b[91mour\u001b[0m \u001b[93mcommunity!\u001b[0m\n",
      "    > https://github.com/sponsors/OpenMined\u001b[1m\n",
      "\n",
      "♫♫♫ > Punching through firewall to OpenGrid Network Node at:\n",
      "♫♫♫ > http://ec2-18-218-7-180.us-east-2.compute.amazonaws.com:5000\n",
      "♫♫♫ >\n",
      "♫♫♫ > ...waiting for response from OpenGrid Network... \n",
      "♫♫♫ > \u001b[92mDONE!\u001b[0m\n",
      "♫♫♫ > Duet Server ID: \u001b[1m00eec93acc58f144d78a365705d42223\u001b[0m\n",
      "\n",
      "♫♫♫ > \u001b[95mSTEP 1:\u001b[0m Send the following code to your Duet Partner!\n",
      "\n",
      "import syft as sy\n",
      "duet = sy.duet(\"\u001b[1m00eec93acc58f144d78a365705d42223\u001b[0m\")\n",
      "\n",
      "♫♫♫ > \u001b[95mSTEP 2:\u001b[0m Ask your partner for their Client ID and enter it below!\n",
      "♫♫♫ > Duet Partner's Client ID: 3406364123dfde0c6e7394b2167a9ef9\n",
      "\n",
      "♫♫♫ > Connecting...\n"
     ]
    },
    {
     "name": "stderr",
     "output_type": "stream",
     "text": [
      "/opt/anaconda3/envs/duet/lib/python3.9/site-packages/aiortc/rtcdtlstransport.py:211: CryptographyDeprecationWarning: This version of cryptography contains a temporary pyOpenSSL fallback path. Upgrade pyOpenSSL now.\n",
      "  _openssl_assert(lib.SSL_CTX_use_certificate(ctx, self._cert._x509) == 1)  # type: ignore\n",
      "/opt/anaconda3/envs/duet/lib/python3.9/site-packages/aiortc/rtcdtlstransport.py:186: CryptographyDeprecationWarning: This version of cryptography contains a temporary pyOpenSSL fallback path. Upgrade pyOpenSSL now.\n",
      "  value=certificate_digest(self._cert._x509),  # type: ignore\n"
     ]
    },
    {
     "name": "stdout",
     "output_type": "stream",
     "text": [
      "\n",
      "♫♫♫ > \u001b[92mCONNECTED!\u001b[0m\n",
      "\n",
      "♫♫♫ > DUET LIVE STATUS  *  Objects: 18  Requests: 0   Messages: 159124  Request Handlers: 1                                                         \r"
     ]
    }
   ],
   "source": [
    "import syft as sy\n",
    "duet = sy.launch_duet(network_url=\"http://ec2-18-218-7-180.us-east-2.compute.amazonaws.com:5000\")"
   ]
  },
  {
   "cell_type": "markdown",
   "id": "f2e77ffb",
   "metadata": {},
   "source": [
    "Let's upload some data to the Duet server"
   ]
  },
  {
   "cell_type": "code",
   "execution_count": 2,
   "id": "82d120fe",
   "metadata": {},
   "outputs": [],
   "source": [
    "import torch as th"
   ]
  },
  {
   "cell_type": "code",
   "execution_count": 3,
   "id": "303208e2",
   "metadata": {},
   "outputs": [],
   "source": [
    "# data owner has data on 6 people's grades\n",
    "grade_data = th.tensor([98, 78, 83, 88, 67, 73])\n",
    "grade_data = grade_data.tag(\"grades\")\n",
    "grade_data = grade_data.describe(\"This is a list of the grades of 6 people\")"
   ]
  },
  {
   "cell_type": "code",
   "execution_count": 4,
   "id": "98a34987",
   "metadata": {},
   "outputs": [
    {
     "name": "stderr",
     "output_type": "stream",
     "text": [
      "[2022-06-19T16:37:24.257117-0600][CRITICAL][logger]][15016] You do not have permission to .get() Object with ID: <UID: 0e6d0efcb06441db9d958e2006f5cbc8>Please submit a request.\n",
      "[2022-06-19T16:37:24.258016-0600][CRITICAL][logger]][15016] You do not have permission to .get() Object with ID: <UID: 0e6d0efcb06441db9d958e2006f5cbc8>Please submit a request.\n"
     ]
    }
   ],
   "source": [
    "# data owner can make the data searchable to the data scientist by uploading it on the duet \n",
    "# server, note that the data is still on the owner's machine and cannot be viewed or access \n",
    "# without the permission from the data owner\n",
    "grade_data_pointer = grade_data.send(duet, pointable = True)"
   ]
  },
  {
   "cell_type": "code",
   "execution_count": 5,
   "id": "30df9357",
   "metadata": {},
   "outputs": [
    {
     "data": {
      "text/html": [
       "<div>\n",
       "<style scoped>\n",
       "    .dataframe tbody tr th:only-of-type {\n",
       "        vertical-align: middle;\n",
       "    }\n",
       "\n",
       "    .dataframe tbody tr th {\n",
       "        vertical-align: top;\n",
       "    }\n",
       "\n",
       "    .dataframe thead th {\n",
       "        text-align: right;\n",
       "    }\n",
       "</style>\n",
       "<table border=\"1\" class=\"dataframe\">\n",
       "  <thead>\n",
       "    <tr style=\"text-align: right;\">\n",
       "      <th></th>\n",
       "      <th>Requested Object's tags</th>\n",
       "      <th>Reason</th>\n",
       "      <th>Request ID</th>\n",
       "      <th>Requested Object's ID</th>\n",
       "      <th>Requested Object's type</th>\n",
       "    </tr>\n",
       "  </thead>\n",
       "  <tbody>\n",
       "    <tr>\n",
       "      <th>0</th>\n",
       "      <td>[grades, float, mean]</td>\n",
       "      <td>please, I need it</td>\n",
       "      <td>&lt;UID: 16cb1d6c39024a87acf1a29dd1f3d9d7&gt;</td>\n",
       "      <td>&lt;UID: 0e6d0efcb06441db9d958e2006f5cbc8&gt;</td>\n",
       "      <td></td>\n",
       "    </tr>\n",
       "  </tbody>\n",
       "</table>\n",
       "</div>"
      ],
      "text/plain": [
       "  Requested Object's tags             Reason  \\\n",
       "0   [grades, float, mean]  please, I need it   \n",
       "\n",
       "                                Request ID  \\\n",
       "0  <UID: 16cb1d6c39024a87acf1a29dd1f3d9d7>   \n",
       "\n",
       "                     Requested Object's ID Requested Object's type  \n",
       "0  <UID: 0e6d0efcb06441db9d958e2006f5cbc8>                          "
      ]
     },
     "execution_count": 5,
     "metadata": {},
     "output_type": "execute_result"
    }
   ],
   "source": [
    "# we can check if there are requests from the data scientist\n",
    "duet.requests.pandas"
   ]
  },
  {
   "cell_type": "code",
   "execution_count": 6,
   "id": "9d8f03e5",
   "metadata": {},
   "outputs": [
    {
     "name": "stderr",
     "output_type": "stream",
     "text": [
      "[2022-06-19T16:37:35.873523-0600][CRITICAL][logger]][15016] You do not have permission to .get() Object with ID: <UID: 0e6d0efcb06441db9d958e2006f5cbc8>Please submit a request.\n",
      "[2022-06-19T16:37:35.874204-0600][CRITICAL][logger]][15016] You do not have permission to .get() Object with ID: <UID: 0e6d0efcb06441db9d958e2006f5cbc8>Please submit a request.\n"
     ]
    }
   ],
   "source": [
    "# as a data owner, you have the choice of denying or accepting the response\n",
    "duet.requests[0].deny()"
   ]
  },
  {
   "cell_type": "code",
   "execution_count": 7,
   "id": "cba3d4a8",
   "metadata": {},
   "outputs": [
    {
     "data": {
      "text/html": [
       "<div>\n",
       "<style scoped>\n",
       "    .dataframe tbody tr th:only-of-type {\n",
       "        vertical-align: middle;\n",
       "    }\n",
       "\n",
       "    .dataframe tbody tr th {\n",
       "        vertical-align: top;\n",
       "    }\n",
       "\n",
       "    .dataframe thead th {\n",
       "        text-align: right;\n",
       "    }\n",
       "</style>\n",
       "<table border=\"1\" class=\"dataframe\">\n",
       "  <thead>\n",
       "    <tr style=\"text-align: right;\">\n",
       "      <th></th>\n",
       "      <th>Requested Object's tags</th>\n",
       "      <th>Reason</th>\n",
       "      <th>Request ID</th>\n",
       "      <th>Requested Object's ID</th>\n",
       "      <th>Requested Object's type</th>\n",
       "    </tr>\n",
       "  </thead>\n",
       "  <tbody>\n",
       "    <tr>\n",
       "      <th>0</th>\n",
       "      <td>[grades, float, mean]</td>\n",
       "      <td>I am a data scientist and I need to know the a...</td>\n",
       "      <td>&lt;UID: 1faa4d8b428748f3840271919a750a5b&gt;</td>\n",
       "      <td>&lt;UID: 0e6d0efcb06441db9d958e2006f5cbc8&gt;</td>\n",
       "      <td></td>\n",
       "    </tr>\n",
       "  </tbody>\n",
       "</table>\n",
       "</div>"
      ],
      "text/plain": [
       "  Requested Object's tags                                             Reason  \\\n",
       "0   [grades, float, mean]  I am a data scientist and I need to know the a...   \n",
       "\n",
       "                                Request ID  \\\n",
       "0  <UID: 1faa4d8b428748f3840271919a750a5b>   \n",
       "\n",
       "                     Requested Object's ID Requested Object's type  \n",
       "0  <UID: 0e6d0efcb06441db9d958e2006f5cbc8>                          "
      ]
     },
     "execution_count": 7,
     "metadata": {},
     "output_type": "execute_result"
    }
   ],
   "source": [
    "duet.requests.pandas"
   ]
  },
  {
   "cell_type": "code",
   "execution_count": 8,
   "id": "8a6c0f5d",
   "metadata": {},
   "outputs": [
    {
     "data": {
      "text/plain": [
       "\"I am a data scientist and I need to know the average of the students' grades for my analysis\""
      ]
     },
     "execution_count": 8,
     "metadata": {},
     "output_type": "execute_result"
    }
   ],
   "source": [
    "duet.requests[0].request_description"
   ]
  },
  {
   "cell_type": "code",
   "execution_count": 9,
   "id": "05ce4fde",
   "metadata": {},
   "outputs": [],
   "source": [
    "duet.requests[0].accept()"
   ]
  },
  {
   "cell_type": "markdown",
   "id": "f53650a7",
   "metadata": {},
   "source": [
    "# MNIST with Duet"
   ]
  },
  {
   "cell_type": "markdown",
   "id": "7cf2c962",
   "metadata": {},
   "source": [
    "## Part 1: Launch a Duet Server and Connect (Done above)"
   ]
  },
  {
   "cell_type": "markdown",
   "id": "a9feba61",
   "metadata": {},
   "source": [
    "## Part 2: Get data"
   ]
  },
  {
   "cell_type": "code",
   "execution_count": 10,
   "id": "e8c5a956",
   "metadata": {},
   "outputs": [
    {
     "data": {
      "text/plain": [
       "Dataset MNIST\n",
       "    Number of datapoints: 10000\n",
       "    Root location: /Users/leowei/.syft/data\n",
       "    Split: Test\n",
       "    StandardTransform\n",
       "Transform: Compose(\n",
       "               ToTensor()\n",
       "               Normalize(mean=(0.1307,), std=(0.3081,))\n",
       "           )"
      ]
     },
     "execution_count": 10,
     "metadata": {},
     "output_type": "execute_result"
    }
   ],
   "source": [
    "from syft.util import get_root_data_path\n",
    "import torchvision\n",
    "torchvision.datasets.MNIST(get_root_data_path(), train=True, \n",
    "                           download=True, \n",
    "                           transform = torchvision.transforms.Compose([torchvision.transforms.ToTensor(), \n",
    "                                                                       torchvision.transforms.Normalize((0.1307,), (0.3081,))]))\n",
    "torchvision.datasets.MNIST(get_root_data_path(), train=False, \n",
    "                           download=True, \n",
    "                           transform = torchvision.transforms.Compose([torchvision.transforms.ToTensor(), \n",
    "                                                                       torchvision.transforms.Normalize((0.1307,), (0.3081,))]))"
   ]
  },
  {
   "cell_type": "markdown",
   "id": "27a924b7",
   "metadata": {},
   "source": [
    "## Part 2: Add Request Handlers"
   ]
  },
  {
   "cell_type": "code",
   "execution_count": 11,
   "id": "7cef9641",
   "metadata": {},
   "outputs": [
    {
     "data": {
      "text/html": [
       "<div>\n",
       "<style scoped>\n",
       "    .dataframe tbody tr th:only-of-type {\n",
       "        vertical-align: middle;\n",
       "    }\n",
       "\n",
       "    .dataframe tbody tr th {\n",
       "        vertical-align: top;\n",
       "    }\n",
       "\n",
       "    .dataframe thead th {\n",
       "        text-align: right;\n",
       "    }\n",
       "</style>\n",
       "<table border=\"1\" class=\"dataframe\">\n",
       "  <thead>\n",
       "    <tr style=\"text-align: right;\">\n",
       "      <th></th>\n",
       "    </tr>\n",
       "  </thead>\n",
       "  <tbody>\n",
       "  </tbody>\n",
       "</table>\n",
       "</div>"
      ],
      "text/plain": [
       "Empty DataFrame\n",
       "Columns: []\n",
       "Index: []"
      ]
     },
     "execution_count": 11,
     "metadata": {},
     "output_type": "execute_result"
    }
   ],
   "source": [
    "duet.requests.pandas"
   ]
  },
  {
   "cell_type": "code",
   "execution_count": 12,
   "id": "e8d9e9f2",
   "metadata": {},
   "outputs": [
    {
     "data": {
      "text/html": [
       "<div>\n",
       "<style scoped>\n",
       "    .dataframe tbody tr th:only-of-type {\n",
       "        vertical-align: middle;\n",
       "    }\n",
       "\n",
       "    .dataframe tbody tr th {\n",
       "        vertical-align: top;\n",
       "    }\n",
       "\n",
       "    .dataframe thead th {\n",
       "        text-align: right;\n",
       "    }\n",
       "</style>\n",
       "<table border=\"1\" class=\"dataframe\">\n",
       "  <thead>\n",
       "    <tr style=\"text-align: right;\">\n",
       "      <th></th>\n",
       "      <th>ID</th>\n",
       "      <th>Tags</th>\n",
       "      <th>Description</th>\n",
       "      <th>object_type</th>\n",
       "    </tr>\n",
       "  </thead>\n",
       "  <tbody>\n",
       "    <tr>\n",
       "      <th>0</th>\n",
       "      <td>&lt;UID: 2550b41ead684a24ac87a5dced4c5c6d&gt;</td>\n",
       "      <td>[grades]</td>\n",
       "      <td>This is a list of the grades of 6 people</td>\n",
       "      <td>&lt;class 'torch.Tensor'&gt;</td>\n",
       "    </tr>\n",
       "  </tbody>\n",
       "</table>\n",
       "</div>"
      ],
      "text/plain": [
       "                                        ID      Tags  \\\n",
       "0  <UID: 2550b41ead684a24ac87a5dced4c5c6d>  [grades]   \n",
       "\n",
       "                                Description             object_type  \n",
       "0  This is a list of the grades of 6 people  <class 'torch.Tensor'>  "
      ]
     },
     "execution_count": 12,
     "metadata": {},
     "output_type": "execute_result"
    }
   ],
   "source": [
    "duet.store.pandas\n",
    "# duet.requests.add_handler(action = \"deny\")"
   ]
  },
  {
   "cell_type": "code",
   "execution_count": 13,
   "id": "05ac485c",
   "metadata": {},
   "outputs": [
    {
     "name": "stderr",
     "output_type": "stream",
     "text": [
      "/opt/anaconda3/envs/duet/lib/python3.9/site-packages/syft/lib/torch/uppercase_tensor.py:30: UserWarning: The .grad attribute of a Tensor that is not a leaf Tensor is being accessed. Its .grad attribute won't be populated during autograd.backward(). If you indeed want the gradient for a non-leaf Tensor, use .retain_grad() on the non-leaf Tensor. If you access the non-leaf Tensor by mistake, make sure you access the leaf Tensor instead. See github.com/pytorch/pytorch/pull/30531 for more informations.\n",
      "  grad = getattr(obj, \"grad\", None)\n"
     ]
    }
   ],
   "source": [
    "duet.requests.add_handler(action=\"accept\")"
   ]
  }
 ],
 "metadata": {
  "kernelspec": {
   "display_name": "Python 3 (ipykernel)",
   "language": "python",
   "name": "python3"
  },
  "language_info": {
   "codemirror_mode": {
    "name": "ipython",
    "version": 3
   },
   "file_extension": ".py",
   "mimetype": "text/x-python",
   "name": "python",
   "nbconvert_exporter": "python",
   "pygments_lexer": "ipython3",
   "version": "3.9.12"
  }
 },
 "nbformat": 4,
 "nbformat_minor": 5
}
