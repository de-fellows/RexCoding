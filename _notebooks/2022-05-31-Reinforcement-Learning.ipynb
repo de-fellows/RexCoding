{
 "cells": [
  {
   "cell_type": "markdown",
   "id": "7dccda9e-1aad-4c1e-a743-440eed783973",
   "metadata": {},
   "source": [
    "# Reinforcement Learning for Engineers in a Hurry\n",
    "> \"Simple and practical RL leveraging Keras and OpenAI Gym\"\n",
    "- Author: Matthew Ocando - [GitHub](https://github.com/matthewocando)\n",
    "- categories: [Machine Learning, Reinforcement Learning, Neural Networks]"
   ]
  },
  {
   "cell_type": "markdown",
   "id": "9d0a59f5-e34f-47a5-9f90-21835814c51f",
   "metadata": {},
   "source": [
    "## What is Reinforcement Learning?\n",
    "\n",
    "Reinforcement Learning (RL) in the context of Machine Learning (ML) is one of the three fundamental ML paradigms.\n",
    "\n",
    "<img src=\"imgs_for_RL/venn.png\" alt=\"ML Intersection\" width=\"400\"/>\n",
    "\n",
    "To properly answer this question, we first need to dive into the different aspects of RL.\n",
    "\n",
    "Herein, we will use certain terminology to discuss the nature of RL. It is crucial to understand their meanings and how they distinguish RL from the other branches of ML. To get things started, we will present the notion of an **agent** existing in an **environment.** \n",
    "\n",
    "An **environment** in the relevant context refers to a space - not necessarily a physical one - that exists and can be interacted with. Interactions with such an environment are called **actions** and should produce some sort of response that can be percieved by anything existing in that environment.\n",
    "\n",
    "An **agent** exists in an environment and is able to percieve it, meaning that any response that the environment produces can be experienced by the agent. More specifically, an **intelligent agent** (IA) is one who takes non-random actions based on feedback from an environment. This feedback comes in the form of two notions, **state** and **reward**, which we will discuss more later. An IA takes said actions in order to reach some desirable end result. They may exhibit learning by adjusting their actions over time, or memory by using past experiences in an environment to adjust their current actions.\n",
    "\n",
    "Putting these concepts together, RL involves an agent learning to take actions in an environment to reach some goal."
   ]
  },
  {
   "cell_type": "markdown",
   "id": "7578fbdc-542a-44ce-aa4d-d9bc47b6e991",
   "metadata": {},
   "source": [
    "## Making a Move\n",
    "\n",
    "For the purpose of RL, it is necessary to have actions performed in a controlled and measurable manner so that we may use information produced by the environment for the benefit of learning. This is where our **step function** comes into play. A step function can be thought of as the process of taking an action, and recieving a response. It is best summarized in a diagram.\n",
    "\n",
    "<img src=\"imgs_for_RL/RLflow.jpg\" alt=\"RL flowchart\" width=\"500\"/>\n",
    "\n",
    "We see the aforementioned terms **state** and **reward** appearing in this flowchart. The state of the environment embodies some variable that describes the environment and changes over time. For example, humidity may be a state variable of the atmosphere. The reward is some feedback from the environment that characterizes the action taken by the agent. A desirable action outcome recieves a positive reward, while an undesireable outcome recieves a negative reward.\n",
    "\n",
    "An agent chooses to take an action A on the environment at time t based on the current state S at that same time t. The current action A applied on the environment results in a new state produced at time t+1. As we 'take a step,' The new state becomes the current, producing a certain action. The cycle repeats, each being called a **step**. This results in a continuous feedback loop that allows the agent to exist meaningfully."
   ]
  },
  {
   "cell_type": "markdown",
   "id": "c7a728ef-b823-4bb9-8e31-af47bcb7da5d",
   "metadata": {},
   "source": [
    "## Decisions, Decisions\n",
    "\n",
    "The pertinent question still remains, how *does* an IA make decisions, or learn to do so? Noteably in the previous section, we had little to say about the reward aspect of the flowchart. This reward is what teaches our IA to make certain decisions.\n",
    "\n",
    "The 'brain' of the IA is the **policy network**. In essence, this is a mathematical function that takes a set of inputs and maps them to an output space. This function has parameters that can be changed to produce different outputs for a given input set. We can exploit this relationship if we are able to determine how to tune these parameters such that the mapping function always leads our IA to the best output based on its inputs. This is the concept of **learning**.\n",
    "\n",
    "More specifically, in RL an IA learns to tune these parameters so that it always makes the best choice for a given environment state. The notion of 'best' is where our reward comes in. If an IA recieves a positive reward for an action performed due to an input state, we tune the policy network's parameters such that the IA is a bit more likely to produce the same action the next time that state comes around. If an IA recieves a negative reward (penalty), we do the opposite and tune so that it is less likely to repeat this behaviour.\n",
    "\n",
    "The 'tuning' process is a vastly complex topic that need not be explained here to grasp the idea of RL. It suffices to know why this tuning happens and how it affects the IA's behaviour."
   ]
  },
  {
   "cell_type": "markdown",
   "id": "99211eb3-af3e-4af9-beaa-cd79de1fe927",
   "metadata": {},
   "source": [
    "## The Brain\n",
    "\n",
    "For the purpose of this tutorial, we will use a **Neural Network** (NN) as the policy network for our IA. \n",
    "\n",
    "<img src=\"imgs_for_RL/NNtp.png\" alt=\"NN flowchart\" width=\"500\"/>\n",
    "\n",
    "Neural networks reflect the way that biological brains are designed (in a very simplified manner, that is). Once again, NNs are realtively complex and will not be explained here, but it suffices to know that they fit the role of a policy network. The NN has tunable parameters (weights, biases), an input layer (for our state) and an output layer (for our action). The weights and biases will be varied according to the reward recieved during learning.\n",
    "\n"
   ]
  },
  {
   "cell_type": "markdown",
   "id": "01256631-9322-48a9-8975-7174de82e060",
   "metadata": {},
   "source": [
    "## Putting the Pieces Together\n",
    "\n",
    "All in all, we end up with a diagram that looks like the following.\n",
    "\n",
    "<img src=\"imgs_for_RL/compile.png\" alt=\"RL compiled\" width=\"500\"/>\n",
    "\n",
    "The NN takes actions based on the state. When learning, the reward updates the parameters of the NN.\n",
    "\n",
    "Something to note is that when the agent is not learning, the rewards are out the picture. Rewards are only present when learning, and otherwise, our agent is only able to see the state of the environment."
   ]
  },
  {
   "cell_type": "markdown",
   "id": "QJShJqa-p71c",
   "metadata": {
    "id": "QJShJqa-p71c"
   },
   "source": [
    "## Training an Intelligent Agent"
   ]
  },
  {
   "cell_type": "markdown",
   "id": "4754cc02-1e8c-403f-a8a3-5db62b799a60",
   "metadata": {},
   "source": [
    "We will be working in Python, using Keras/Tensorflow as our backbone as well as a reinforcement learning API, Keras-RL. Additionally, to simplify the creation of an environment we will be leveraging OpenAI Gym {% fn 1 %} which presents many simple environments with states, steps, actions, rewards and such already integrated."
   ]
  },
  {
   "cell_type": "markdown",
   "id": "71175c10-339d-4538-ba07-ec4094bc280c",
   "metadata": {},
   "source": [
    "### 0. Getting Things Ready\n",
    "\n",
    "First, we need to install any dependencies that we may not already have."
   ]
  },
  {
   "cell_type": "code",
   "execution_count": 75,
   "id": "_8wdbyueqKWq",
   "metadata": {
    "colab": {
     "base_uri": "https://localhost:8080/"
    },
    "id": "_8wdbyueqKWq",
    "outputId": "b1e670e2-8c12-4d86-badd-5e10d41a1ba3"
   },
   "outputs": [],
   "source": [
    "#collapse\n",
    "#!pip install numpy\n",
    "#!pip install gym\n",
    "#!pip install pygame\n",
    "#!pip install tensorflow==2.5.0\n",
    "#!pip install keras\n",
    "#!pip install keras-rl2\n",
    "#!pip install nnv"
   ]
  },
  {
   "cell_type": "markdown",
   "id": "N-_t3CiFqOU8",
   "metadata": {
    "id": "N-_t3CiFqOU8"
   },
   "source": [
    "### 1. Testing the Environment"
   ]
  },
  {
   "cell_type": "markdown",
   "id": "96b72cb2-9d5f-4c12-8135-103559cf204e",
   "metadata": {},
   "source": [
    "We make the necessary imports to get started with the design of our environment."
   ]
  },
  {
   "cell_type": "code",
   "execution_count": 76,
   "id": "CUOEELG9qZNp",
   "metadata": {
    "id": "CUOEELG9qZNp"
   },
   "outputs": [],
   "source": [
    "#collapse\n",
    "import gym\n",
    "import random\n",
    "import warnings"
   ]
  },
  {
   "cell_type": "markdown",
   "id": "ee99b273-6c4a-4b65-bec8-fa9bbbb6735c",
   "metadata": {},
   "source": [
    "Next, we can start setting up our environment as follows."
   ]
  },
  {
   "cell_type": "code",
   "execution_count": 2,
   "id": "10dedb90-94ce-45de-ac7a-5cb378ce77f0",
   "metadata": {
    "id": "TYMSoA1vqclP"
   },
   "outputs": [],
   "source": [
    "env = gym.make(\"CartPole-v1\")"
   ]
  },
  {
   "cell_type": "markdown",
   "id": "c37049dc-36f2-4aa7-9aff-8e9ce824a471",
   "metadata": {},
   "source": [
    "For the purpose of this demonstration, I have chosen a simple game as the environment. The CartPole game runs on PyGame, and has the user attempt to balance a leaning pole on a moving cart.\n",
    "\n",
    "<img src=\"imgs_for_RL/cp1.png\" alt=\"cart pole 1\" width=\"500\"/>\n",
    "\n",
    "Let's learn a bit about our environment. What are the sizes of our state and action spaces?"
   ]
  },
  {
   "cell_type": "code",
   "execution_count": 3,
   "id": "2034581f-035c-45d6-b6a7-4b1dfd9f60de",
   "metadata": {
    "id": "TYMSoA1vqclP"
   },
   "outputs": [
    {
     "name": "stdout",
     "output_type": "stream",
     "text": [
      "4 2\n"
     ]
    }
   ],
   "source": [
    "states = env.observation_space.shape[0]\n",
    "actions = env.action_space.n\n",
    "print(states,actions)"
   ]
  },
  {
   "cell_type": "markdown",
   "id": "274c27d2-b99c-4ce7-8893-2b45bb253ad5",
   "metadata": {},
   "source": [
    "As we can see, our environment has 4 states and 2 possible actions. A bit of digging into the OpenAI Gym documentation and we are able to figure out what these actually are.\n",
    "\n",
    "<img src=\"imgs_for_RL/states.png\" alt=\"states\" width=\"400\"/>\n",
    "\n",
    "The 4 states are the cart position and velocity, and pole angle and angular velocity. We can see the various boundaries for each of these states in the above tables. For context, the cart position is calculated from the origin and its velocity is the the difference in its position per step. Similarly, the pole angle is measured from the normal to the cart axis and the angular velocity is the change in this angle per step. These 4 states will serve as the input into our policy network. \n",
    "\n",
    "<img src=\"imgs_for_RL/cp2.png\" alt=\"cart pole 2\" width=\"300\"/>\n",
    "\n",
    "Now is probably a good time to mention that a step does not necessarily have to coincide with a unit of real time. As such, velocity in the above states does not involve change per unit time but rather change per step.\n",
    "\n",
    "\n",
    "<img src=\"imgs_for_RL/actions.png\" alt=\"states\" width=\"210\"/>\n",
    "\n",
    "The 2 actions that we can take involve moving the cart in either the positive or negative x direction ([1,0] respectively). These represent the output of our policy network.\n",
    "\n",
    "Looking into the documentation, the game is bounded by certain rules. We recieve a +1 reward (score) for each step in which the pole is still upright. Upright implies that the pole is within the angle range [-0.2095,0.2095]. The game terminates at a max score of 500, when the pole is no longer upright, or when the cart position exits the limits [-2.4, 2.4] - whichever condition is reached first.\n",
    "\n",
    "Now, we will attempt to test our environment with a random agent - one which does not have a policy network and makes decisions randomly."
   ]
  },
  {
   "cell_type": "code",
   "execution_count": 73,
   "id": "N_wszJXKxEeL",
   "metadata": {
    "colab": {
     "base_uri": "https://localhost:8080/",
     "height": 381
    },
    "id": "N_wszJXKxEeL",
    "outputId": "7aec381f-1934-4a9e-8a6f-4aaea67ba476"
   },
   "outputs": [],
   "source": [
    "#collapse\n",
    "def RandomAgentTest(environment,episodes):\n",
    "    total = 0     #Running summation of the score in each game run\n",
    "    for episode in range(1, episodes+1): #Run game 'episode' number of times\n",
    "        state = environment.reset() #reset game environment to the base state\n",
    "        done = False        #variable holds boolean corresponding to whether game episode is complete or not\n",
    "        score = 0           #current episode score, resets to 0\n",
    "        \n",
    "        while not done:\n",
    "          environment.render()                                         #start our environment               \n",
    "          action = random.choice([0,1])                        #Choose a random action from action space. 1 -> move right, 0 -> move left\n",
    "          n_state, reward, done, info = environment.step(action)       #Take random action\n",
    "          score+=reward                                        #Add reward to cumulative score\n",
    "        print('Episode:{} Score:{}'.format(episode, score))\n",
    "        total = total + score\n",
    "    print('---------------------')\n",
    "    print('Mean score over',episodes,'episodes  --> ',total/episodes)"
   ]
  },
  {
   "cell_type": "code",
   "execution_count": 8,
   "id": "9eb0b4e4-307c-4c31-b423-4b0886c33fe8",
   "metadata": {},
   "outputs": [
    {
     "name": "stdout",
     "output_type": "stream",
     "text": [
      "Episode:1 Score:20.0\n",
      "Episode:2 Score:14.0\n",
      "Episode:3 Score:19.0\n",
      "Episode:4 Score:14.0\n",
      "Episode:5 Score:17.0\n",
      "Episode:6 Score:34.0\n",
      "Episode:7 Score:20.0\n",
      "Episode:8 Score:43.0\n",
      "Episode:9 Score:14.0\n",
      "Episode:10 Score:29.0\n",
      "---------------------\n",
      "Mean score over 10 episodes  -->  22.4\n"
     ]
    }
   ],
   "source": [
    "RandomAgentTest(env,10)"
   ]
  },
  {
   "cell_type": "markdown",
   "id": "4f637b77-4b41-4b16-89d9-ace32da62079",
   "metadata": {},
   "source": [
    "As a frame of reference, this game has a maximum score of 500. As we can see, random actions give a very poor score.\n",
    "\n",
    "<img src=\"imgs_for_RL/cp3.gif\" alt=\"cart pole 3\" width=\"500\"/>\n",
    "\n",
    "Now, we will design a policy network for our agent to give it the ability to learn."
   ]
  },
  {
   "cell_type": "markdown",
   "id": "e969a006-c585-47d6-8431-602c2b127543",
   "metadata": {},
   "source": [
    "### 2. Adding Intelligence - Keras NN Model"
   ]
  },
  {
   "cell_type": "markdown",
   "id": "52814148-838e-44fd-9ba1-363dc0f9a377",
   "metadata": {},
   "source": [
    "First, we need to import the necessary resources."
   ]
  },
  {
   "cell_type": "code",
   "execution_count": 74,
   "id": "1439bd48-0532-4c5f-b401-de951916cdc9",
   "metadata": {},
   "outputs": [],
   "source": [
    "#collapse\n",
    "import numpy as np\n",
    "\n",
    "from tensorflow.keras.models import Sequential\n",
    "from tensorflow.keras.layers import Dense, Flatten\n",
    "from tensorflow.keras.optimizers import SGD\n",
    "\n",
    "from rl.agents import DQNAgent\n",
    "from rl.policy import EpsGreedyQPolicy\n",
    "from rl.memory import SequentialMemory"
   ]
  },
  {
   "cell_type": "markdown",
   "id": "f8df4352-bb1e-46d8-9bfb-78ed3fca01cc",
   "metadata": {},
   "source": [
    "Our RL model need not be too complex, as the game that is being tackled is relatively simple. We need the input of the network to accept our 4 states, and we need an output of 2 actions. The action with the higher activation at the network's output is the action that the agent will perform.\n",
    "\n",
    "For the hidden (inner) layers of the NN, we will have two dense (fully connected) layers. Each layer will have 12 neurons, with ReLU activation between layers (to prevent the layers from collapsing into a linear function)."
   ]
  },
  {
   "cell_type": "code",
   "execution_count": 10,
   "id": "117425f9-0c79-48df-a687-b8488a197550",
   "metadata": {},
   "outputs": [
    {
     "name": "stdout",
     "output_type": "stream",
     "text": [
      "Model: \"sequential\"\n",
      "_________________________________________________________________\n",
      "Layer (type)                 Output Shape              Param #   \n",
      "=================================================================\n",
      "flatten (Flatten)            (None, 4)                 0         \n",
      "_________________________________________________________________\n",
      "dense (Dense)                (None, 12)                60        \n",
      "_________________________________________________________________\n",
      "dense_1 (Dense)              (None, 12)                156       \n",
      "_________________________________________________________________\n",
      "dense_2 (Dense)              (None, 2)                 26        \n",
      "=================================================================\n",
      "Total params: 242\n",
      "Trainable params: 242\n",
      "Non-trainable params: 0\n",
      "_________________________________________________________________\n"
     ]
    }
   ],
   "source": [
    "model = Sequential()\n",
    "\n",
    "model.add(Flatten(input_shape=(1,states)))      #'states' variable holds the number of states of the environment (4 inputs)\n",
    "model.add(Dense(12,activation='relu'))          #dense -> fully connected layer, relu activation between layers. 12 neurons.\n",
    "model.add(Dense(12, activation='relu'))\n",
    "model.add(Dense(actions, activation='linear'))  #'actions' variable holds the number of actions of the environment (2 outputs)\n",
    "\n",
    "model.summary()"
   ]
  },
  {
   "cell_type": "markdown",
   "id": "81a87983-ea6d-4055-8b92-f35f766f429f",
   "metadata": {},
   "source": [
    "\n",
    "For a visual representation of the above NN:"
   ]
  },
  {
   "cell_type": "code",
   "execution_count": 78,
   "id": "914937e7-fe48-470d-be10-6e563d7310ae",
   "metadata": {},
   "outputs": [
    {
     "data": {
      "image/png": "[encoded data removed]",
      "text/plain": [
       "<Figure size 432x288 with 1 Axes>"
      ]
     },
     "metadata": {
      "needs_background": "light"
     },
     "output_type": "display_data"
    },
    {
     "data": {
      "text/plain": [
       "(<Figure size 432x288 with 1 Axes>, <AxesSubplot:>)"
      ]
     },
     "execution_count": 78,
     "metadata": {},
     "output_type": "execute_result"
    }
   ],
   "source": [
    "#collapse\n",
    "from nnv import NNV\n",
    "layers = [\n",
    "    {\"title\":\"input\\n(states)\", \"units\": states, \"color\": \"darkBlue\",\"edges_color\":\"red\"},\n",
    "    {\"title\":\"hidden 1\\n(relu)\", \"units\": 12, \"edges_color\":\"black\"},\n",
    "    {\"title\":\"hidden 2\\n(relu)\", \"units\": 12, \"edges_color\":\"red\"},\n",
    "    {\"title\":\"output\\n(actions)\", \"units\": actions,\"color\": \"darkBlue\"},  ]\n",
    "NNV(layers).render()"
   ]
  },
  {
   "cell_type": "markdown",
   "id": "9060bdaf-8e23-4087-8a5f-819603b1793f",
   "metadata": {},
   "source": [
    "### 3. Training our Model/Agent"
   ]
  },
  {
   "cell_type": "markdown",
   "id": "53a9722b-221e-4d28-8b24-b401308a755a",
   "metadata": {},
   "source": [
    "Now that we are at the training stage, we will expain some key topics necessary to having a general understanding of the process."
   ]
  },
  {
   "cell_type": "markdown",
   "id": "7451d448-b3cc-4665-be96-a3af796a9cdf",
   "metadata": {},
   "source": [
    "#### 3A. Preparation\n",
    "####  i) Replay Memory"
   ]
  },
  {
   "cell_type": "markdown",
   "id": "3b63b2e9-c000-4a56-ae41-662876f623ac",
   "metadata": {},
   "source": [
    "Replay memory is essentially a catalogue of past states and actions kept when training our agent. {% fn 2 %} Keras-RL provides a convenient class for storing this information, which can be used as follows."
   ]
  },
  {
   "cell_type": "code",
   "execution_count": 12,
   "id": "5a067856-c3cb-4ccc-bc5b-2986e16eaa14",
   "metadata": {},
   "outputs": [],
   "source": [
    "memory = SequentialMemory(limit=50000, window_length=1)"
   ]
  },
  {
   "cell_type": "markdown",
   "id": "9ad2276b-6ab7-493c-9828-3f406b28e04a",
   "metadata": {},
   "source": [
    "The 'limit' hyperparameter specifies the size of memory made available during training. When we surpass 50000 experiences, the oldest will be replaced by the newest.\n",
    "\n",
    "This begs the question - why do we need memory when training?\n",
    "\n",
    "When we train our IA, it easy to build sequential correlation between actions and states. In simpler terms, if we train our agent on states as they come with time (sequentially), we run the risk of teaching our agent to perform actions soleley based on time, rather than information recieved from the environment. As such, we sample batches of experiences from our memory at random when training our agent as to break this correlation. {% fn 2 %}\n",
    "\n",
    "A great analogy here would be a comparison between 2 hypothetical students taking a multiple choice math exam. Student A gets hold of the answer key, and decides to remember the answer to every question based on its number in order. Student B decides to study the content, and learn how to answer each question based on what is asked. Student A here reflects training our agent without memory, relying solely on the sequential order of the questions to know the corresponding answer. Student B understands what each question presents, and represents training with memory."
   ]
  },
  {
   "cell_type": "markdown",
   "id": "c9cd62d2-a94e-4454-a586-bafbda754841",
   "metadata": {},
   "source": [
    "#### ii) Policy"
   ]
  },
  {
   "cell_type": "markdown",
   "id": "cfd7e67b-5e14-4abe-b954-d69a5c8b1f07",
   "metadata": {},
   "source": [
    "Policy in Keras-RL defines the strategy we use to train our NN. We will be using a simple ε-greedy policy which seeks to balance exploration and exploitation. {% fn 2 %}"
   ]
  },
  {
   "cell_type": "code",
   "execution_count": 66,
   "id": "c85047f8-efc9-41da-8d48-c3584228a9bf",
   "metadata": {},
   "outputs": [],
   "source": [
    "policy = EpsGreedyQPolicy(eps=0.3)"
   ]
  },
  {
   "cell_type": "markdown",
   "id": "decaf526-ba8c-4601-a2ba-54f1a11083bb",
   "metadata": {},
   "source": [
    "The 'eps' hyperparameter controls the probability of exploration, and therefore eps=0.3 implies a 30% probability of exploration.\n",
    "\n",
    "**Exploration** involves the agent taking random actions in its environment, allowing it to find new 'paths' of actions that it can take to optimize the reward. \n",
    "\n",
    "**Exploitation** involves the agent taking actions with the highest expected reward, allowing it to follow 'paths' of actions that yielded greater reward in previous episodes."
   ]
  },
  {
   "cell_type": "markdown",
   "id": "4ae6b68c-f599-4299-88e1-3c54056ea97c",
   "metadata": {},
   "source": [
    "#### iii) Deep Q-Network Agent"
   ]
  },
  {
   "cell_type": "markdown",
   "id": "9108dc33-ec1a-449d-9cd5-e7d6fed27cef",
   "metadata": {},
   "source": [
    "We will now put these concepts into play during our training."
   ]
  },
  {
   "cell_type": "code",
   "execution_count": 67,
   "id": "09ba7c90-3e03-4bb1-869d-a1153273e0a9",
   "metadata": {},
   "outputs": [],
   "source": [
    "agent  = DQNAgent(model=model, memory=memory, policy=policy ,nb_actions=actions, nb_steps_warmup=1000)"
   ]
  },
  {
   "cell_type": "markdown",
   "id": "2ff73ce5-6d4d-4e7a-84a8-343bf12e0b55",
   "metadata": {},
   "source": [
    "First, we must create our agent object with references to our model, memory, and policy as seen above. We can define the number of actions that our agent can take through the 'nb_actions' parameter. Furthermore, the parameter 'nb_steps_warmup' allows us to define how many steps our agent should take before we begin to sample from memory for training.\n",
    "\n",
    "In terms of our ***optimizer***, we will be using Stochastic Gradient Descent (SGD). SGD is the agorithm responsible for adjusting the weights inside of our neural network, details of which we will not go into. Learning Rate (learning_rate) is a hyperparameter that influences the optimization of our NN weights. For a performance metric, we will use mean squared error (mse)."
   ]
  },
  {
   "cell_type": "code",
   "execution_count": 68,
   "id": "2f2783ac-c072-471a-9959-00f41b7465ee",
   "metadata": {},
   "outputs": [],
   "source": [
    "agent.compile(SGD(learning_rate=1e-3), metrics=['mse'])"
   ]
  },
  {
   "cell_type": "markdown",
   "id": "710833db-d3dd-47d1-8c06-421f7a093c5d",
   "metadata": {},
   "source": [
    "#### 3B. Training"
   ]
  },
  {
   "cell_type": "markdown",
   "id": "f38c7c29-c2a5-4217-a5e7-c6ab924fe40e",
   "metadata": {},
   "source": [
    "The next step involves the training of our agent. We will call our .fit() method, which initiates this training. To this method we pass our environment, and give a limit to the number of steps for which we will train. Additionally, we set visualize to False so that our environment is not visible while training, as this would slow down the process."
   ]
  },
  {
   "cell_type": "code",
   "execution_count": 69,
   "id": "8d2f255d-8e02-4340-b237-e69e00e180d3",
   "metadata": {},
   "outputs": [
    {
     "name": "stdout",
     "output_type": "stream",
     "text": [
      "Training for 30000 steps ...\n",
      "Interval 1 (0 steps performed)\n",
      "10000/10000 [==============================] - 70s 7ms/step - reward: 1.0000\n",
      "179 episodes - episode_reward: 55.531 [9.000, 240.000] - loss: 17.322 - mse: 7884.326 - mean_q: 125.991\n",
      "\n",
      "Interval 2 (10000 steps performed)\n",
      "10000/10000 [==============================] - ETA: 0s - reward: 1.000 - 74s 7ms/step - reward: 1.0000\n",
      "101 episodes - episode_reward: 99.168 [11.000, 327.000] - loss: 18.144 - mse: 7978.776 - mean_q: 126.132\n",
      "\n",
      "Interval 3 (20000 steps performed)\n",
      "10000/10000 [==============================] - 74s 7ms/step - reward: 1.0000\n",
      "done, took 218.268 seconds\n"
     ]
    },
    {
     "data": {
      "text/plain": [
       "<tensorflow.python.keras.callbacks.History at 0x221943ec2b0>"
      ]
     },
     "execution_count": 69,
     "metadata": {},
     "output_type": "execute_result"
    }
   ],
   "source": [
    "warnings.filterwarnings(\"ignore\", category=DeprecationWarning) \n",
    "warnings.filterwarnings(\"ignore\", category=UserWarning)         #Suppressing Deprecation & User Warnings\n",
    "agent.fit(env, nb_steps=30000, visualize=False, verbose=1)"
   ]
  },
  {
   "cell_type": "markdown",
   "id": "0fc8e53e-eca9-43b2-b48e-8da0d98799cb",
   "metadata": {},
   "source": [
    "Now that we have our trained agent, we can test our agent's performance inside of the environment and compare it to our random agent at the beginning of this tutorial."
   ]
  },
  {
   "cell_type": "code",
   "execution_count": 70,
   "id": "af565482-c79e-4fef-a46f-07eca2b49410",
   "metadata": {},
   "outputs": [
    {
     "name": "stdout",
     "output_type": "stream",
     "text": [
      "Testing for 20 episodes ...\n",
      "Episode 1: reward: 227.000, steps: 227\n",
      "Episode 2: reward: 200.000, steps: 200\n",
      "Episode 3: reward: 213.000, steps: 213\n",
      "Episode 4: reward: 196.000, steps: 196\n",
      "Episode 5: reward: 204.000, steps: 204\n",
      "Episode 6: reward: 206.000, steps: 206\n",
      "Episode 7: reward: 204.000, steps: 204\n",
      "Episode 8: reward: 210.000, steps: 210\n",
      "Episode 9: reward: 207.000, steps: 207\n",
      "Episode 10: reward: 210.000, steps: 210\n",
      "Episode 11: reward: 190.000, steps: 190\n",
      "Episode 12: reward: 207.000, steps: 207\n",
      "Episode 13: reward: 225.000, steps: 225\n",
      "Episode 14: reward: 211.000, steps: 211\n",
      "Episode 15: reward: 194.000, steps: 194\n",
      "Episode 16: reward: 193.000, steps: 193\n",
      "Episode 17: reward: 219.000, steps: 219\n",
      "Episode 18: reward: 208.000, steps: 208\n",
      "Episode 19: reward: 200.000, steps: 200\n",
      "Episode 20: reward: 218.000, steps: 218\n",
      "---------------------------------------\n",
      "Mean score over 20 is    --->    207.1\n"
     ]
    }
   ],
   "source": [
    "n_test_episodes = 20\n",
    "scores = agent.test(env, nb_episodes=n_test_episodes, visualize=0)\n",
    "print('---------------------------------------')\n",
    "print('Mean score over',n_test_episodes,'is    --->   ', np.mean(scores.history['episode_reward']))"
   ]
  },
  {
   "cell_type": "code",
   "execution_count": 85,
   "id": "1a7a41eb-e3ae-460e-9e06-55a3421a0cb2",
   "metadata": {
    "tags": []
   },
   "outputs": [
    {
     "name": "stdout",
     "output_type": "stream",
     "text": [
      "Episode:1 Score:12.0\n",
      "Episode:2 Score:17.0\n",
      "Episode:3 Score:20.0\n",
      "Episode:4 Score:62.0\n",
      "Episode:5 Score:25.0\n",
      "Episode:6 Score:17.0\n",
      "Episode:7 Score:30.0\n",
      "Episode:8 Score:20.0\n",
      "Episode:9 Score:19.0\n",
      "Episode:10 Score:15.0\n",
      "Episode:11 Score:13.0\n",
      "Episode:12 Score:26.0\n",
      "Episode:13 Score:27.0\n",
      "Episode:14 Score:27.0\n",
      "Episode:15 Score:48.0\n",
      "Episode:16 Score:15.0\n",
      "Episode:17 Score:16.0\n",
      "Episode:18 Score:81.0\n",
      "Episode:19 Score:18.0\n",
      "Episode:20 Score:20.0\n",
      "---------------------\n",
      "Mean score over 20 episodes  -->  26.4\n"
     ]
    }
   ],
   "source": [
    "RandomAgentTest(env,20)"
   ]
  },
  {
   "cell_type": "markdown",
   "id": "796d82b5-500b-47d1-87c2-910e0403e504",
   "metadata": {},
   "source": [
    "If we observe the above output cells, we can see that our trained agent averaged a score of 207.1 over 20 episodes, while our random agent averaged 26.4 - a huge difference!\n",
    "\n",
    "We can see how our IA performs on a single run of the game below."
   ]
  },
  {
   "cell_type": "code",
   "execution_count": 71,
   "id": "3ff25405-b876-43a2-acc2-5dddd4053e60",
   "metadata": {},
   "outputs": [
    {
     "name": "stdout",
     "output_type": "stream",
     "text": [
      "Testing for 1 episodes ...\n",
      "Episode 1: reward: 210.000, steps: 210\n"
     ]
    },
    {
     "data": {
      "text/plain": [
       "<tensorflow.python.keras.callbacks.History at 0x22190bc3e50>"
      ]
     },
     "execution_count": 71,
     "metadata": {},
     "output_type": "execute_result"
    }
   ],
   "source": [
    "agent.test(env, nb_episodes=1, visualize=1)"
   ]
  },
  {
   "cell_type": "markdown",
   "id": "7dff5377-aefd-420d-bd54-e3bae0acf310",
   "metadata": {},
   "source": [
    "<img src=\"imgs_for_RL/IA.gif\" alt=\"cart pole 3\" width=\"500\"/>\n",
    "\n",
    "Note the ability of the agent to keep the pole balanced for a significantly longer period of time when contrasted to the random agent. This difference reflects the fact that we now have an agent with some hint of useful decision making."
   ]
  },
  {
   "cell_type": "markdown",
   "id": "ba2ae966-4aa2-4b28-8f63-e12eea907834",
   "metadata": {},
   "source": [
    "## Wrapping Up"
   ]
  },
  {
   "cell_type": "markdown",
   "id": "4e475949-dcab-4c9b-9313-81367c2415aa",
   "metadata": {},
   "source": [
    "It is with some caution that we can say that our trained agent is now 'smart enough' to play this game. \n",
    "\n",
    "As we can infer, RL has numerous applications that extend from such a simplistic environment and can find usefulness in a large scope of fields. It is a field with diverse reach that finds a place for itself in a modern world concerned with automation. Simple environments like the one presented here can serve as an analogue to more real-world problems. Having given this introduction, I implore the reader to further their knowledge into Reinforcement Learning.\n",
    "\n",
    "Hopefully this read has made you wonder how you can apply RL to other tasks similar to the one presented here. A great stepping stone would be to look into the [OpenAI Gym Documentation ](https://www.gymlibrary.ml/) and explore the environemnets available its users, which range from Atari game recreations to simple 3D locomotion simulations. Try your hand at creating an agent to traverse these environments and along the way explore the various tweaks that can be applied during training to maximize your score!"
   ]
  },
  {
   "cell_type": "markdown",
   "id": "990b2fd0-6c83-43cd-a81e-7c420a367ab1",
   "metadata": {},
   "source": [
    "{{ '[OpenAI Gym Documentation ](https://www.gymlibrary.ml/)' | fndetail: 1 }}\n",
    "{{ 'Reinforcement Learning: An Introduction, Second Edition by Richard S. Sutton and Andrew G. Bartow [link](http://incompleteideas.net/book/RLbook2020.pdf)' | fndetail: 2 }}"
   ]
  }
 ],
 "metadata": {
  "colab": {
   "collapsed_sections": [],
   "name": "OpenAI-gym-testing.ipynb",
   "provenance": []
  },
  "kernelspec": {
   "display_name": "Python 3 (ipykernel)",
   "language": "python",
   "name": "python3"
  },
  "language_info": {
   "codemirror_mode": {
    "name": "ipython",
    "version": 3
   },
   "file_extension": ".py",
   "mimetype": "text/x-python",
   "name": "python",
   "nbconvert_exporter": "python",
   "pygments_lexer": "ipython3",
   "version": "3.9.7"
  }
 },
 "nbformat": 4,
 "nbformat_minor": 5
}
