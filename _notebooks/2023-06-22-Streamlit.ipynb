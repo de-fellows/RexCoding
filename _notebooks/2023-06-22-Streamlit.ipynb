{
 "cells": [
  {
   "attachments": {},
   "cell_type": "markdown",
   "metadata": {},
   "source": [
    "# Streamlit Data Visualization\n",
    "> \"A guide to creating a web application showing the visualization of a dataset using Streamlit.\"\n",
    "\n",
    "- author: Gia Khang Ngo\n",
    "- categories: [Python, Streamlit, Pandas]\n",
    "- comments: true\n",
    "- toc: true\n",
    "- branch: master\n",
    "- badges: true"
   ]
  },
  {
   "attachments": {},
   "cell_type": "markdown",
   "metadata": {},
   "source": [
    "## Goals\n",
    "* Create a web application displaying Steph Curry's statistics from 2009 to 2021.\n",
    "    * Installing Streamlit\n",
    "    * Set up a Streamlit web application\n",
    "    * Working with data using Pandas\n",
    "\n",
    "## Introduction\n",
    "Streamlit is an open-source Python framework used for building interactive web applications. It simplifies the process of creating and deploying data science and machine learning models by providing a user-friendly interface. With Streamlit, Python scripts can be converted into web applications without the need for extensive web development knowledge. It allows a coder to create interactive and responsive UI components, such as sliders, buttons, dropdown menus, and data visualizations, with just a few lines of code. Coding with Streamlit is similar to coding with Graphic User Interface modules like tkinter, where the coder can add widgets and interactive functions to the application. This creates a “junior version” of a project where the coder does not have to worry about Webserver developing with POST and GET methods, but focus more on front-end developing like sorting through data with Pandas module, and back-end GUI development. Hence, this tackles the **Play the whole game** principle of Perkins’ [Making Learning Whole](https://www.gse.harvard.edu/news/uk/09/01/education-bat-seven-principles-educators) paradigm."
   ]
  },
  {
   "attachments": {},
   "cell_type": "markdown",
   "metadata": {},
   "source": [
    "## Body\n",
    "### Installing Streamlit and Displaying the Web Application\n",
    "In order to install Streamlit, the following line can be written in the cmd terminal:"
   ]
  },
  {
   "cell_type": "code",
   "execution_count": 1,
   "metadata": {},
   "outputs": [],
   "source": [
    "#\n",
    "# pip install streamlit"
   ]
  },
  {
   "attachments": {},
   "cell_type": "markdown",
   "metadata": {},
   "source": [
    "After installing Streamlit, create a blank Python file. For example: `curry.py`. Then a blank server can be displayed using the following command in cmd terminal:"
   ]
  },
  {
   "cell_type": "code",
   "execution_count": 2,
   "metadata": {},
   "outputs": [],
   "source": [
    "#\n",
    "# streamlit run curry.py\n",
    "# streamlit run (Python file name)"
   ]
  },
  {
   "attachments": {},
   "cell_type": "markdown",
   "metadata": {},
   "source": [
    "![Screenshot](./streamlit-supp/blank.png)"
   ]
  },
  {
   "attachments": {},
   "cell_type": "markdown",
   "metadata": {},
   "source": [
    "While not necessary, it is convenient to enable `Rerun on save`. This allows the web application to be updated everytime the Python file is changed and saved. It is done by clicking on the three horizontal bars on the upper right corner. Then click on `Settings` and check the `Run on save` box."
   ]
  },
  {
   "attachments": {},
   "cell_type": "markdown",
   "metadata": {},
   "source": [
    "![Screenshot](./streamlit-supp/rerun.png)"
   ]
  },
  {
   "attachments": {},
   "cell_type": "markdown",
   "metadata": {},
   "source": [
    "### Adding Web Application Titles and Introduction\n",
    "\n",
    "In the Python file `curry.py`, import the module `streamlit`. Then, the title and subheading of the web application can be displayed using the Streamlit API text widgets `st.markdown`. This shows lines of markdown text that can be modified. As an example, the color of the title will be changed to the Warriors yellow using hex-code color through markdown format. In addition, it is important to use the argument `unsafe_allow_html=True` as it allows color markdown format to show in the web application. Please refer to [Streamlit API Documentation](https://docs.streamlit.io/library/api-reference) for more details regarding different types of Streamlit widgets."
   ]
  },
  {
   "cell_type": "code",
   "execution_count": 3,
   "metadata": {},
   "outputs": [
    {
     "name": "stderr",
     "output_type": "stream",
     "text": [
      "2023-06-22 14:43:32.573 \n",
      "  \u001b[33m\u001b[1mWarning:\u001b[0m to view this Streamlit app on a browser, run it with the following\n",
      "  command:\n",
      "\n",
      "    streamlit run C:\\Users\\khang\\AppData\\Roaming\\Python\\Python310\\site-packages\\ipykernel_launcher.py [ARGUMENTS]\n"
     ]
    },
    {
     "data": {
      "text/plain": [
       "DeltaGenerator(_root_container=0, _provided_cursor=None, _parent=None, _block_type=None, _form_data=None)"
      ]
     },
     "execution_count": 3,
     "metadata": {},
     "output_type": "execute_result"
    }
   ],
   "source": [
    "#hide_output\n",
    "import streamlit as st\n",
    "\n",
    "st.markdown('# <font color=\"#ffc72c\">Stephen Curry NBA Statistics</font>', unsafe_allow_html=True)\n",
    "st.markdown('*Gia Khang Ngo*')\n",
    "st.markdown('## <font color=\"#006BB6\">Introduction</font>', unsafe_allow_html=True)"
   ]
  },
  {
   "attachments": {},
   "cell_type": "markdown",
   "metadata": {},
   "source": [
    "![Screenshot](./streamlit-supp/title.png)"
   ]
  },
  {
   "attachments": {},
   "cell_type": "markdown",
   "metadata": {},
   "source": [
    "With the Introduction, if it is preffered to display two images or two blocks of texts side-by-side, `st.columns` is used to insert containers laid out as side-by-side columns. This is similar to GUI development with tkinter grid with rows and columns. Two column containers are created. Then in each columns, an image is inserted using `st.image`, where a link to the image is posted and the argument `width` is used to set the image size. Moreover, with `st.markdown`, a brief introduction is provided with the link to the original data source."
   ]
  },
  {
   "cell_type": "code",
   "execution_count": 4,
   "metadata": {},
   "outputs": [],
   "source": [
    "col1,col2, =st.columns(2)\n",
    "with col2:\n",
    "    st.image('https://i.pinimg.com/originals/82/9a/82/829a82bd6f39f7456c6f4cc2dacc27f6.jpg', width= 300)\n",
    "\n",
    "with col1:\n",
    "    st.markdown('''* A visual graphic of NBA player Stephen Curry's statistics from 2009 to 2021.\n",
    "    * **Data source:** [Kaggle.com](https://www.kaggle.com/datasets/mujinjo/stephen-curry-stats-20092021-in-nba).''')\n",
    "\n",
    "    st.image('https://pbs.twimg.com/media/FVbqDw1WQAM6BmI?format=jpg&name=large', width= 350)"
   ]
  },
  {
   "attachments": {},
   "cell_type": "markdown",
   "metadata": {},
   "source": [
    "![Screenshot](./streamlit-supp/intro.png)"
   ]
  },
  {
   "attachments": {},
   "cell_type": "markdown",
   "metadata": {},
   "source": [
    "### Import and Display Raw Data\n",
    "\n",
    "The csv file containing Stephen Curry data is imported using Pandas module through `pd.read_csv`. Then `st.expander` is used to create a container that can be expanded or collapsed. This container holds the data table, to make the layout less clustered. With `st.dataframe`, the Pandas dataframe is displayed in a table in Streamlit. Furthermore, a download button can be created using `st.download_button` to allow the user to download the utf-8 encoded csv file of the database. The argument `mime` is used to set the MIME type of the data, which is csv."
   ]
  },
  {
   "cell_type": "code",
   "execution_count": 5,
   "metadata": {},
   "outputs": [
    {
     "data": {
      "text/plain": [
       "False"
      ]
     },
     "execution_count": 5,
     "metadata": {},
     "output_type": "execute_result"
    }
   ],
   "source": [
    "#hide_output\n",
    "import pandas as pd\n",
    "\n",
    "curry_data = pd.read_csv('./streamlit-supp/Stephen-Curry-Stats.csv')\n",
    "st.markdown('#### <font color = \"#006BB6\">Raw Data', unsafe_allow_html=True)\n",
    "check_data = st.expander('Click to see raw data')\n",
    "with check_data:\n",
    "    st.dataframe(curry_data)\n",
    "\n",
    "# Download Data Button\n",
    "st.download_button(label= 'Download Raw Data', data=curry_data.to_csv().encode('utf-8'), file_name='Stephen Curry Stats.csv', mime='text/csv')"
   ]
  },
  {
   "attachments": {},
   "cell_type": "markdown",
   "metadata": {},
   "source": [
    "*Collapsed Raw data:*\n",
    "![Screenshot](./streamlit-supp/collapse-data.png)\n",
    "\n",
    "*Expanded Raw data:*\n",
    "![Screenshot](./streamlit-supp/expand-data.png)\n",
    "\n",
    "*Using Download button:*\n",
    "![Screenshot](./streamlit-supp/download.png)"
   ]
  },
  {
   "attachments": {},
   "cell_type": "markdown",
   "metadata": {},
   "source": [
    "### Sidebar for User Inputs\n",
    "\n",
    "In order to add more features and allow user inputs, `st.sidebar` is used to create a sidebar of the web application. In order to access and implement widgets in the sidebar, access it using `st.sidebar.(widget)`. For example with `st.sidebar.markdown`, a markdown text is displayed in the sidebar, with functions similar to `st.markdown` for the main page. Moreover, `st.sidebar.multiselect` adds a dropdown menu, where the user can input which season years they would like to display the data for. The user input is assigned to a python variable for further data sorting with Pandas."
   ]
  },
  {
   "cell_type": "code",
   "execution_count": 6,
   "metadata": {},
   "outputs": [],
   "source": [
    "st.sidebar.markdown('**<font color=\"#ffc72c\">User Input Features</font>**', unsafe_allow_html=True)\n",
    "st.sidebar.markdown(\"*Select the seasons you want to analyze:*\")\n",
    "season_year = st.sidebar.multiselect('Curry\\'s Seasonal Year (Bar chart)', curry_data['Season_year'].unique())"
   ]
  },
  {
   "attachments": {},
   "cell_type": "markdown",
   "metadata": {},
   "source": [
    "![Screenshot](./streamlit-supp/sidebar.png)"
   ]
  },
  {
   "attachments": {},
   "cell_type": "markdown",
   "metadata": {},
   "source": [
    "### Bar Chart Plotting for Field Goals\n",
    "\n",
    "Before plotting, it is necessary to take into account what will happen when the user does not input any seasonal year. An if-else statement is used for said situation, where the else statement contains `st.error`, which shows an error asking the user to input at least one seasonal year if there are none inputted. Within the if statement, the Field goal data is sorted using [Pandas](https://pandas.pydata.org/docs/reference/index.html#api) slicing for the user-inputted seasonal years. Then the success rate is calculated using the Field Goals Made and Field Goals Attempted data. It is important to note that the Python method `sorted` is used to sort the user-inputted seasonal years. This means that no matter the order that the user selected the years, the seasonal years displayed on the bar chart is always from the earliest to the latest.\n",
    "\n",
    "To plot the bar chart, the Python charting library `plotly` is used through `st.plotly_chart`, specifically `plotly.graph_objects` is imported to access the bar chart drawing functions. `matplotlib.pyplot` may also be used through `st.pyplot`. However, `plotly` is integrated better with Streamlit. Please refer to the `Chart elements` section of the [API Documentation](https://docs.streamlit.io/library/api-reference/charts) for more details about the available Streamlit plotting widgets.\n",
    "\n",
    "Looking at the code section below, an instance `go.Figure` is created where the argument contains the method `go.Bar` to plot the bar graphs of the Field Goals Made (FGM) and Field Goals Attempted (FGA) of the user-inputted seasonal years. Within it, the `hovertext` argument in `plotly` allows the user to hover over the bar chart to see the percentage success, calculated using the FGM and FGA. Finally, the graph title and axis labels are edited using `update_layout` method. Then, the Figure instance is inputted to `st.plotly_chart` to display the graph on the web appplication."
   ]
  },
  {
   "cell_type": "code",
   "execution_count": 7,
   "metadata": {},
   "outputs": [],
   "source": [
    "import plotly.graph_objects as go\n",
    "\n",
    "st.markdown('## <font color = \"#006BB6\">Field Goals Made and Attempted per Year', unsafe_allow_html=True)\n",
    "\n",
    "if season_year:\n",
    "    st.write('Hover over the graph to see success percentage.')\n",
    "    list_year = []\n",
    "    list_FGA = []\n",
    "    list_FGM = []\n",
    "    list_percent = []\n",
    "\n",
    "    # Create lists of seasonal years, field goals attempts, field goals mades.\n",
    "    for i_year in sorted(season_year):\n",
    "        yA = curry_data[curry_data['Season_year'] == i_year]['FGA'].sum()   # The sum of field goals attempted for the user-inputted season years\n",
    "        yM = curry_data[curry_data['Season_year'] == i_year]['FGM'].sum()   # The sum of field goals made for the user-inputted season years\n",
    "        list_year.append(i_year)\n",
    "        list_FGA.append(yA)\n",
    "        list_FGM.append(yM)\n",
    "        list_percent.append(f'Success rate: {yM/yA*100:.1f}%')              # Success rate list by dividing field goals made by field goals attempted\n",
    "    \n",
    "    # Plot bar chart\n",
    "    fig1 = go.Figure(data=[\n",
    "        go.Bar(x=list_year, y=list_FGM, name='Field Goals Made',\n",
    "        hovertext=list_percent, marker_color='rgb(253, 185, 39)'),\n",
    "        go.Bar(x=list_year, y=list_FGA, name='Field Goals Attempted',\n",
    "        hovertext=list_percent, marker_color='rgb(29, 66, 138)')\n",
    "    ])\n",
    "    \n",
    "    fig1 = fig1.update_layout(\n",
    "        title='Steph Curry Field Goals Statistics',\n",
    "        xaxis_title='Season year',\n",
    "        yaxis_title='Number of Field Goals',\n",
    "        width=800,\n",
    "        height=600\n",
    "    )\n",
    "    st.plotly_chart(fig1)\n",
    "    \n",
    "# Display error when no season year is inputed\n",
    "else:\n",
    "    st.error(\"Please select at least one season year in the sidebar.\")"
   ]
  },
  {
   "attachments": {},
   "cell_type": "markdown",
   "metadata": {},
   "source": [
    "*Error when no user inputs:*\n",
    "![Screenshot](./streamlit-supp/no-input.png)\n",
    "    \n",
    "*Bar chart:*\n",
    "![Screenshot](./streamlit-supp/bar-chart.png)"
   ]
  },
  {
   "attachments": {},
   "cell_type": "markdown",
   "metadata": {},
   "source": [
    "### Supplementerary exercise 1\n",
    "\n",
    "In order to drill in all the information, it is a good idea to do a few exercises. The first exercise is to extend on all the given codes given on this blog, based on the [Stephen Curry statistics](https://github.com/de-fellows/Khang-Draft-2023/blob/main/Code/Stephen-Curry-Stats.csv) csv file.\n",
    "\n",
    "First, please copy and paste all the codes from the beginning of the blog to a new python file. Or, simply download `curry.py` from the following [GitHub link](https://github.com/de-fellows/Khang-Draft-2023.git) under the `Code` folder. Then, write a code block to display a heat map showing Stephen Curry's assists made vs minutes played. The code must contains:\n",
    "\n",
    "- A subheading with similar color font.\n",
    "- Data slicing with [Pandas](https://pandas.pydata.org/docs/reference/index.html#api).\n",
    "- A heat map displaying Stephen Curry's assists made for minutes played. *Hint: look up `go.Figure` and `go.Histogram2d` functions from `plotly.graph_objects`, which can be found in the [API Documentation](https://docs.streamlit.io/library/api-reference)*.\n",
    "- An error being displayed if there are no season year inputted.\n",
    "- Some comments on what the data visualization shows about the data.\n",
    "\n",
    "An example of what the heat map looks like on the web application:\n",
    "![Screenshot](./streamlit-supp/heat-map.png)\n",
    "\n",
    "#### Answer:"
   ]
  },
  {
   "cell_type": "code",
   "execution_count": 8,
   "metadata": {},
   "outputs": [],
   "source": [
    "#collapse\n",
    "\n",
    "#Heat map for Curry's assists made for minutes played     \n",
    "st.markdown('## <font color = \"#006BB6\">Assists made for Minutes Played', unsafe_allow_html=True)\n",
    "if season_year:\n",
    "    #Create empty lists for assists and minutes to add to\n",
    "    list_AST = []\n",
    "    list_MIN = []\n",
    "    \n",
    "    #loops through and adds the assists and minutes from the csv file for the years the user chooses\n",
    "    for i_year in season_year:\n",
    "        yAST = curry_data[curry_data['Season_year'] == i_year]['AST'].to_list()\n",
    "        yMIN = curry_data[curry_data['Season_year'] == i_year]['MIN'].to_list()\n",
    "        list_AST.extend(yAST)\n",
    "        list_MIN.extend(yMIN)\n",
    "        \n",
    "    #creates graph in the form of a 2d histogram (AKA a heatmap), and changes size if each square on heatmap\n",
    "    fig3 = go.Figure(data= \n",
    "        go.Histogram2d(x=list_MIN, y=list_AST,\n",
    "        autobinx=False,\n",
    "        xbins=dict(size=0.9),\n",
    "        autobiny=False,\n",
    "        ybins=dict(size=0.9)\n",
    "        ))\n",
    "    \n",
    "    #adds title and axis names\n",
    "    fig3 = fig3.update_layout(\n",
    "        title='Steph Curry Assists per Minute Played',\n",
    "        xaxis_title='Minutes',\n",
    "        yaxis_title='Assists'\n",
    "        )\n",
    "\n",
    "    #plots graph\n",
    "    st.plotly_chart(fig3)\n",
    "\n",
    "    st.markdown('- The heatmap demonstates Steph Curry\\'s average assists made for the amount of minutes played in a game.')\n",
    "    st.markdown('- Stephen Curry normally averages 4-8 assists and 30-40 minutes played per game.')\n",
    " \n",
    "# Display error when no season year is chosen\n",
    "else:\n",
    "    st.error(\"Please select at least one season year in the sidebar.\")"
   ]
  },
  {
   "attachments": {},
   "cell_type": "markdown",
   "metadata": {},
   "source": [
    "### Supplementary exercise 2\n",
    "\n",
    "Finally, please design a web application with your own theme and layout, using the `Red Wine Quality` data, which can be downloaded from the [UCI Repository](https://archive.ics.uci.edu/dataset/186/wine+quality). The data can be seen under the table below:"
   ]
  },
  {
   "cell_type": "code",
   "execution_count": 9,
   "metadata": {},
   "outputs": [
    {
     "data": {
      "text/html": [
       "<div>\n",
       "<style scoped>\n",
       "    .dataframe tbody tr th:only-of-type {\n",
       "        vertical-align: middle;\n",
       "    }\n",
       "\n",
       "    .dataframe tbody tr th {\n",
       "        vertical-align: top;\n",
       "    }\n",
       "\n",
       "    .dataframe thead th {\n",
       "        text-align: right;\n",
       "    }\n",
       "</style>\n",
       "<table border=\"1\" class=\"dataframe\">\n",
       "  <thead>\n",
       "    <tr style=\"text-align: right;\">\n",
       "      <th></th>\n",
       "      <th>fixed acidity</th>\n",
       "      <th>volatile acidity</th>\n",
       "      <th>citric acid</th>\n",
       "      <th>residual sugar</th>\n",
       "      <th>chlorides</th>\n",
       "      <th>free sulfur dioxide</th>\n",
       "      <th>total sulfur dioxide</th>\n",
       "      <th>density</th>\n",
       "      <th>pH</th>\n",
       "      <th>sulphates</th>\n",
       "      <th>alcohol</th>\n",
       "      <th>quality</th>\n",
       "    </tr>\n",
       "  </thead>\n",
       "  <tbody>\n",
       "    <tr>\n",
       "      <th>0</th>\n",
       "      <td>7.4</td>\n",
       "      <td>0.700</td>\n",
       "      <td>0.00</td>\n",
       "      <td>1.9</td>\n",
       "      <td>0.076</td>\n",
       "      <td>11.0</td>\n",
       "      <td>34.0</td>\n",
       "      <td>0.99780</td>\n",
       "      <td>3.51</td>\n",
       "      <td>0.56</td>\n",
       "      <td>9.4</td>\n",
       "      <td>5</td>\n",
       "    </tr>\n",
       "    <tr>\n",
       "      <th>1</th>\n",
       "      <td>7.8</td>\n",
       "      <td>0.880</td>\n",
       "      <td>0.00</td>\n",
       "      <td>2.6</td>\n",
       "      <td>0.098</td>\n",
       "      <td>25.0</td>\n",
       "      <td>67.0</td>\n",
       "      <td>0.99680</td>\n",
       "      <td>3.20</td>\n",
       "      <td>0.68</td>\n",
       "      <td>9.8</td>\n",
       "      <td>5</td>\n",
       "    </tr>\n",
       "    <tr>\n",
       "      <th>2</th>\n",
       "      <td>7.8</td>\n",
       "      <td>0.760</td>\n",
       "      <td>0.04</td>\n",
       "      <td>2.3</td>\n",
       "      <td>0.092</td>\n",
       "      <td>15.0</td>\n",
       "      <td>54.0</td>\n",
       "      <td>0.99700</td>\n",
       "      <td>3.26</td>\n",
       "      <td>0.65</td>\n",
       "      <td>9.8</td>\n",
       "      <td>5</td>\n",
       "    </tr>\n",
       "    <tr>\n",
       "      <th>3</th>\n",
       "      <td>11.2</td>\n",
       "      <td>0.280</td>\n",
       "      <td>0.56</td>\n",
       "      <td>1.9</td>\n",
       "      <td>0.075</td>\n",
       "      <td>17.0</td>\n",
       "      <td>60.0</td>\n",
       "      <td>0.99800</td>\n",
       "      <td>3.16</td>\n",
       "      <td>0.58</td>\n",
       "      <td>9.8</td>\n",
       "      <td>6</td>\n",
       "    </tr>\n",
       "    <tr>\n",
       "      <th>4</th>\n",
       "      <td>7.4</td>\n",
       "      <td>0.700</td>\n",
       "      <td>0.00</td>\n",
       "      <td>1.9</td>\n",
       "      <td>0.076</td>\n",
       "      <td>11.0</td>\n",
       "      <td>34.0</td>\n",
       "      <td>0.99780</td>\n",
       "      <td>3.51</td>\n",
       "      <td>0.56</td>\n",
       "      <td>9.4</td>\n",
       "      <td>5</td>\n",
       "    </tr>\n",
       "    <tr>\n",
       "      <th>...</th>\n",
       "      <td>...</td>\n",
       "      <td>...</td>\n",
       "      <td>...</td>\n",
       "      <td>...</td>\n",
       "      <td>...</td>\n",
       "      <td>...</td>\n",
       "      <td>...</td>\n",
       "      <td>...</td>\n",
       "      <td>...</td>\n",
       "      <td>...</td>\n",
       "      <td>...</td>\n",
       "      <td>...</td>\n",
       "    </tr>\n",
       "    <tr>\n",
       "      <th>1594</th>\n",
       "      <td>6.2</td>\n",
       "      <td>0.600</td>\n",
       "      <td>0.08</td>\n",
       "      <td>2.0</td>\n",
       "      <td>0.090</td>\n",
       "      <td>32.0</td>\n",
       "      <td>44.0</td>\n",
       "      <td>0.99490</td>\n",
       "      <td>3.45</td>\n",
       "      <td>0.58</td>\n",
       "      <td>10.5</td>\n",
       "      <td>5</td>\n",
       "    </tr>\n",
       "    <tr>\n",
       "      <th>1595</th>\n",
       "      <td>5.9</td>\n",
       "      <td>0.550</td>\n",
       "      <td>0.10</td>\n",
       "      <td>2.2</td>\n",
       "      <td>0.062</td>\n",
       "      <td>39.0</td>\n",
       "      <td>51.0</td>\n",
       "      <td>0.99512</td>\n",
       "      <td>3.52</td>\n",
       "      <td>0.76</td>\n",
       "      <td>11.2</td>\n",
       "      <td>6</td>\n",
       "    </tr>\n",
       "    <tr>\n",
       "      <th>1596</th>\n",
       "      <td>6.3</td>\n",
       "      <td>0.510</td>\n",
       "      <td>0.13</td>\n",
       "      <td>2.3</td>\n",
       "      <td>0.076</td>\n",
       "      <td>29.0</td>\n",
       "      <td>40.0</td>\n",
       "      <td>0.99574</td>\n",
       "      <td>3.42</td>\n",
       "      <td>0.75</td>\n",
       "      <td>11.0</td>\n",
       "      <td>6</td>\n",
       "    </tr>\n",
       "    <tr>\n",
       "      <th>1597</th>\n",
       "      <td>5.9</td>\n",
       "      <td>0.645</td>\n",
       "      <td>0.12</td>\n",
       "      <td>2.0</td>\n",
       "      <td>0.075</td>\n",
       "      <td>32.0</td>\n",
       "      <td>44.0</td>\n",
       "      <td>0.99547</td>\n",
       "      <td>3.57</td>\n",
       "      <td>0.71</td>\n",
       "      <td>10.2</td>\n",
       "      <td>5</td>\n",
       "    </tr>\n",
       "    <tr>\n",
       "      <th>1598</th>\n",
       "      <td>6.0</td>\n",
       "      <td>0.310</td>\n",
       "      <td>0.47</td>\n",
       "      <td>3.6</td>\n",
       "      <td>0.067</td>\n",
       "      <td>18.0</td>\n",
       "      <td>42.0</td>\n",
       "      <td>0.99549</td>\n",
       "      <td>3.39</td>\n",
       "      <td>0.66</td>\n",
       "      <td>11.0</td>\n",
       "      <td>6</td>\n",
       "    </tr>\n",
       "  </tbody>\n",
       "</table>\n",
       "<p>1599 rows × 12 columns</p>\n",
       "</div>"
      ],
      "text/plain": [
       "      fixed acidity  volatile acidity  citric acid  residual sugar  chlorides  \\\n",
       "0               7.4             0.700         0.00             1.9      0.076   \n",
       "1               7.8             0.880         0.00             2.6      0.098   \n",
       "2               7.8             0.760         0.04             2.3      0.092   \n",
       "3              11.2             0.280         0.56             1.9      0.075   \n",
       "4               7.4             0.700         0.00             1.9      0.076   \n",
       "...             ...               ...          ...             ...        ...   \n",
       "1594            6.2             0.600         0.08             2.0      0.090   \n",
       "1595            5.9             0.550         0.10             2.2      0.062   \n",
       "1596            6.3             0.510         0.13             2.3      0.076   \n",
       "1597            5.9             0.645         0.12             2.0      0.075   \n",
       "1598            6.0             0.310         0.47             3.6      0.067   \n",
       "\n",
       "      free sulfur dioxide  total sulfur dioxide  density    pH  sulphates  \\\n",
       "0                    11.0                  34.0  0.99780  3.51       0.56   \n",
       "1                    25.0                  67.0  0.99680  3.20       0.68   \n",
       "2                    15.0                  54.0  0.99700  3.26       0.65   \n",
       "3                    17.0                  60.0  0.99800  3.16       0.58   \n",
       "4                    11.0                  34.0  0.99780  3.51       0.56   \n",
       "...                   ...                   ...      ...   ...        ...   \n",
       "1594                 32.0                  44.0  0.99490  3.45       0.58   \n",
       "1595                 39.0                  51.0  0.99512  3.52       0.76   \n",
       "1596                 29.0                  40.0  0.99574  3.42       0.75   \n",
       "1597                 32.0                  44.0  0.99547  3.57       0.71   \n",
       "1598                 18.0                  42.0  0.99549  3.39       0.66   \n",
       "\n",
       "      alcohol  quality  \n",
       "0         9.4        5  \n",
       "1         9.8        5  \n",
       "2         9.8        5  \n",
       "3         9.8        6  \n",
       "4         9.4        5  \n",
       "...       ...      ...  \n",
       "1594     10.5        5  \n",
       "1595     11.2        6  \n",
       "1596     11.0        6  \n",
       "1597     10.2        5  \n",
       "1598     11.0        6  \n",
       "\n",
       "[1599 rows x 12 columns]"
      ]
     },
     "execution_count": 9,
     "metadata": {},
     "output_type": "execute_result"
    }
   ],
   "source": [
    "wine_data = pd.read_csv('streamlit-supp/winequality-red.csv', sep=';')\n",
    "wine_data"
   ]
  },
  {
   "attachments": {},
   "cell_type": "markdown",
   "metadata": {},
   "source": [
    "The data visualization web application should contain:\n",
    "\n",
    "- A title\n",
    "- Subheadings\n",
    "- Data table and download button\n",
    "- Two user-inputted functions of choice to select different wine qualities. *Suggestion: `st.selectbox` from [API Documentation](https://docs.streamlit.io/library/api-reference)*\n",
    "- A scatter plot showing two attributes of your choice (for example: citric acid vs alcohol), of the two user-inputted wine qualities. *Hint: Use [plotly](https://plotly.com/python/line-and-scatter/) or [pyplot](https://matplotlib.org/2.0.2/api/pyplot_api.html#matplotlib.pyplot.scatter), with `st.plotly_chart` or `st.pyplot` respectively*\n",
    "\n",
    "An example of a scatter plot displaying wine citric acid vs alcohol content when the user inputted wine quality 4 and 7:\n",
    "![Screenshot](./streamlit-supp/wine.png)"
   ]
  },
  {
   "attachments": {},
   "cell_type": "markdown",
   "metadata": {},
   "source": [
    "## Conclusion\n",
    "\n",
    "Through Streamlit, one can easily create a web application displaying data visualization. Using the Field Goals Made and Field Goals Attempted data of Steph Curry, an example of the web application was shown. It is encouraged to go through the [API Documentation](https://docs.streamlit.io/library/api-reference) and expand on this example through `Supplementary exercise 1`, or create a new web application through `Supplementary exercise 2`. I hope you are able to gain a new understanding about Streamlit."
   ]
  },
  {
   "attachments": {},
   "cell_type": "markdown",
   "metadata": {},
   "source": [
    "## Reference\n",
    "\n",
    "- Jo, M. Stephen Curry stats 2009-2021 in NBA. Kaggle. https://www.kaggle.com/datasets/mujinjo/stephen-curry-stats-20092021-in-nba (accessed 17th May 2023).\n",
    "\n",
    "- Streamlit API Documentation. https://docs.streamlit.io/library/api-reference (accessed 17th May 2023).\n",
    "\n",
    "- Cortez,Paulo, Cerdeira,A., Almeida,F., Matos,T., and Reis,J.. (2009). Wine Quality. UCI Machine Learning Repository. https://doi.org/10.24432/C56S3T (accessed 17th June 2023)."
   ]
  }
 ],
 "metadata": {
  "kernelspec": {
   "display_name": "Python 3",
   "language": "python",
   "name": "python3"
  },
  "language_info": {
   "codemirror_mode": {
    "name": "ipython",
    "version": 3
   },
   "file_extension": ".py",
   "mimetype": "text/x-python",
   "name": "python",
   "nbconvert_exporter": "python",
   "pygments_lexer": "ipython3",
   "version": "3.10.7"
  },
  "orig_nbformat": 4
 },
 "nbformat": 4,
 "nbformat_minor": 2
}
