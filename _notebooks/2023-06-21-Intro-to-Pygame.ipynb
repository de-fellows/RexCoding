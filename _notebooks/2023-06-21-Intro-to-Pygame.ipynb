{
 "cells": [
  {
   "attachments": {},
   "cell_type": "markdown",
   "metadata": {},
   "source": [
    "# \"Intro to Pygame\"\n",
    "> \"Pygame basics for your first video game!\"\n",
    "\n",
    "- toc: true\n",
    "- branch: master\n",
    "- badges: true\n",
    "- comments: true\n",
    "- author: Christina Kampel\n",
    "- categories: [python, pygame]"
   ]
  },
  {
   "attachments": {},
   "cell_type": "markdown",
   "metadata": {},
   "source": [
    "Christina Kampel<br>\n",
    "Digital Engineering Fellowship 2023<br>\n",
    "University of Calgary"
   ]
  },
  {
   "attachments": {},
   "cell_type": "markdown",
   "metadata": {},
   "source": [
    "## Playing the Whole Game\n",
    "\n",
    "Getting started with an unfamiliar library can be a daunting task - especially with one as large as pygame. So let's start by using the first principle of [David Perkins' Seven Principles of Teaching](https://www.gse.harvard.edu/news/uk/09/01/education-bat-seven-principles-educators): Play the Whole Game. Try out the game below, then come back to this page. All of the elements you see in the game are broken down here."
   ]
  },
  {
   "attachments": {},
   "cell_type": "markdown",
   "metadata": {},
   "source": [
    "## Try This Out!\n",
    "\n",
    "Here is a simple pygame example that uses the concepts below: [simple_pygame.py](simple_pygame.py)"
   ]
  },
  {
   "attachments": {},
   "cell_type": "markdown",
   "metadata": {},
   "source": [
    "## Why Pygame?\n",
    "\n",
    "Pygame is a tool for developing video games using python. The library allows you to do a few things that are not otherwise easy to do:\n",
    "- Open a graphical user interface (GUI) window\n",
    "- Draw objects, shapes, and text in the window\n",
    "- Get player input without stopping the game (which is what would happen if `input()` was used)\n",
    "\n",
    "Pygame is best for simple games, and is good for learning the logic behind an event loop."
   ]
  },
  {
   "attachments": {},
   "cell_type": "markdown",
   "metadata": {},
   "source": [
    "## Installing Pygame\n",
    "\n",
    "For installing on a variety of devices, see the official Getting Started wiki <a href=\"https://www.pygame.org/wiki/GettingStarted\">here</a>.\n",
    "\n",
    "For Windows, enter the following in a command prompt:"
   ]
  },
  {
   "cell_type": "code",
   "execution_count": null,
   "metadata": {},
   "outputs": [],
   "source": [
    "python -m pip install pygame"
   ]
  },
  {
   "attachments": {},
   "cell_type": "markdown",
   "metadata": {},
   "source": [
    "To test that it works correctly, try:"
   ]
  },
  {
   "cell_type": "code",
   "execution_count": null,
   "metadata": {},
   "outputs": [],
   "source": [
    "python -m pygame.examples.aliens"
   ]
  },
  {
   "attachments": {},
   "cell_type": "markdown",
   "metadata": {},
   "source": [
    "If pygame is installed properly, it should open an aliens game that looks like this:\n",
    "\n",
    "<img src=\"intro_to_pygame_images/Pygame-Aliens-Test.png\" alt=\"Pygame Aliens\" width=\"400\"/>"
   ]
  },
  {
   "attachments": {},
   "cell_type": "markdown",
   "metadata": {},
   "source": [
    "To test that a python file will run correctly, create a `.py` file and run:"
   ]
  },
  {
   "cell_type": "code",
   "execution_count": 1,
   "metadata": {},
   "outputs": [
    {
     "name": "stdout",
     "output_type": "stream",
     "text": [
      "pygame 2.4.0 (SDL 2.26.4, Python 3.9.7)\n",
      "Hello from the pygame community. https://www.pygame.org/contribute.html\n",
      "2.4.0\n"
     ]
    }
   ],
   "source": [
    "import pygame\n",
    "\n",
    "print(pygame.ver)"
   ]
  },
  {
   "attachments": {},
   "cell_type": "markdown",
   "metadata": {},
   "source": [
    "## The Basic Framework\n",
    "\n",
    "All pygame applications need this basic structure to run.\n",
    "\n",
    "The code below has been modified from Python Simplified's video <a href=\"https://www.youtube.com/watch?v=W-QOtdD3qx4\">Create a Simple Video Game with Pygame - Step by Step Tutorial for Python Beginners!</a>."
   ]
  },
  {
   "cell_type": "code",
   "execution_count": 2,
   "metadata": {},
   "outputs": [
    {
     "name": "stdout",
     "output_type": "stream",
     "text": [
      "pygame 2.4.0 (SDL 2.26.4, Python 3.9.7)\n",
      "Hello from the pygame community. https://www.pygame.org/contribute.html\n"
     ]
    }
   ],
   "source": [
    "# Running this code will open an empty pygame window. Clicking the \"quit\" button on the window closes the application.\n",
    "\n",
    "# 1. Import libraries\n",
    "import pygame\n",
    "from pygame.locals import *\n",
    "\n",
    "# 2. Initialize all imported pygame modules - this will raise exceptions if it fails\n",
    "pygame.init()\n",
    "\n",
    "# 3. Global variable used with the event listener in step 7\n",
    "running = True\n",
    "\n",
    "# 4. Clock used for controlling frame rate\n",
    "clock = pygame.time.Clock()\n",
    "\n",
    "# 5. Set display window size - the window is pygame's built-in GUI\n",
    "screen = pygame.display.set_mode((700,500))\n",
    "\n",
    "# 6. Event loop - all motions and events that happen as the game runs are inside this loop\n",
    "while running:\n",
    "\n",
    "    # 7. Event listener for quitting the game - when the player clicks the \"quit\" button on the window, \"running\" is set to False and the application closes\n",
    "    for event in pygame.event.get():\n",
    "        if event.type == QUIT:\n",
    "            running = False\n",
    "    \n",
    "# 8. Set the frame rate to 60 FPS (frames per second) - a constant frame rate helps the game run smoother\n",
    "    clock.tick(60)\n",
    "\n",
    "# 9. Close the application\n",
    "pygame.quit()"
   ]
  },
  {
   "attachments": {},
   "cell_type": "markdown",
   "metadata": {},
   "source": [
    "The empty window looks like this:\n",
    "\n",
    "<img src=\"intro_to_pygame_images/Empty-Pygame-Window.png\" alt=\"Pygame Aliens\" width=\"400\"/>"
   ]
  },
  {
   "attachments": {},
   "cell_type": "markdown",
   "metadata": {},
   "source": [
    "## Coordinates in Pygame\n",
    "\n",
    "Pygame coordinates work a little differently than a typical graph: (0,0) is the top left corner of the window and positive values are counted right and down from this point. A point (50,100) would look like this:\n",
    "\n",
    "<img src=\"intro_to_pygame_images/Pygame-Coordinates.png\" alt=\"Normal Coordinates vs. Pygame Coordinates\"/>"
   ]
  },
  {
   "attachments": {},
   "cell_type": "markdown",
   "metadata": {},
   "source": [
    "## Setting the Window Title and Icon\n",
    "\n",
    "Changing the title of the game window can be done using:"
   ]
  },
  {
   "cell_type": "code",
   "execution_count": 3,
   "metadata": {},
   "outputs": [],
   "source": [
    "pygame.display.set_caption(\"My Game\")"
   ]
  },
  {
   "attachments": {},
   "cell_type": "markdown",
   "metadata": {},
   "source": [
    "The default pygame icon can be changed into any image using a surface (see the section on Surfaces below):"
   ]
  },
  {
   "cell_type": "code",
   "execution_count": null,
   "metadata": {},
   "outputs": [],
   "source": [
    "# a pygame.Surface object that stores an image\n",
    "surface = pygame.Surface()\n",
    "# change the display icon\n",
    "pygame.display.set_icon(surface)"
   ]
  },
  {
   "attachments": {},
   "cell_type": "markdown",
   "metadata": {},
   "source": [
    "## Event Listeners\n",
    "\n",
    "Event listeners wait to perform an action until a certain type of event has occurred, usually player input. For example, when the player presses the left arrow key, move a character left. The general format is:\n",
    "\n",
    "**Check that a certain type of event has occurred --> Do something.**\n",
    "\n",
    "In the basic framework, we used an event listener to quit the application when the player closes the window."
   ]
  },
  {
   "cell_type": "code",
   "execution_count": null,
   "metadata": {},
   "outputs": [],
   "source": [
    "running = True                          # flag to control whether or not the game will run\n",
    "pygame.init()                           # initialize the window\n",
    "while running:\n",
    "    for event in pygame.event.get():    # All events of the game are stored in the events module. We need to \"get\" them to look at them.\n",
    "        if event.type == QUIT:          # Checking if a \"QUIT\" type of event has occured, a.k.a. the player clicking the \"quit\" button\n",
    "            running = False\n",
    "pygame.quit()                           # close the window"
   ]
  },
  {
   "attachments": {},
   "cell_type": "markdown",
   "metadata": {},
   "source": [
    "## Surfaces\n",
    "\n",
    "A `pygame.Surface` object is used for representing images in the game. For example, a surface can be an icon that the player controls, or the background of the game. Surfaces can only be moved using the coordinates of its top left corner.\n",
    "\n",
    "There are two types of surfaces:\n",
    "- **Display Surface:** the window of the game. It is always visible, and there is only one. The pygame application will not run without one."
   ]
  },
  {
   "cell_type": "code",
   "execution_count": null,
   "metadata": {},
   "outputs": [],
   "source": [
    "# create a display surface with width=700 and height=500\n",
    "screen = pygame.display.set_mode((700,500))"
   ]
  },
  {
   "attachments": {},
   "cell_type": "markdown",
   "metadata": {},
   "source": [
    "- **Regular Surface:** a surface that may or may not be visible on the screen. There can be an unlimited number of them."
   ]
  },
  {
   "cell_type": "code",
   "execution_count": null,
   "metadata": {},
   "outputs": [],
   "source": [
    "# create a surface of width=5, height=10\n",
    "regular_surf = pygame.surface((5, 10))"
   ]
  },
  {
   "attachments": {},
   "cell_type": "markdown",
   "metadata": {},
   "source": [
    "### Image Imports\n",
    "\n",
    "Images imported using `pyame.image.load()` are automatically stored as (regular) surfaces."
   ]
  },
  {
   "cell_type": "code",
   "execution_count": 4,
   "metadata": {},
   "outputs": [],
   "source": [
    "# create a surface from an image import\n",
    "img_surf = pygame.image.load('intro_to_pygame_images/image.png')"
   ]
  },
  {
   "attachments": {},
   "cell_type": "markdown",
   "metadata": {},
   "source": [
    "### Converting to Pygame-Friendly Format\n",
    "\n",
    "`Surface.convert()` and `Surface.convert_alpha()` are used to turn an image into a format that is easier for pygame to handle. Note that the `convert()` makes transparent pixels appear black or white when the surface is added to the screen. To keep transparent pixels, use `convert_alpha()`.\n",
    "\n",
    "The pygame modules and display screen must be initialized before these methods are called."
   ]
  },
  {
   "cell_type": "code",
   "execution_count": 10,
   "metadata": {},
   "outputs": [],
   "source": [
    "# initialize modules and screen\n",
    "pygame.init()\n",
    "screen = pygame.display.set_mode((700,500))\n",
    "\n",
    "# create a surface from an image import and use convert()\n",
    "img_surf = pygame.image.load('intro_to_pygame_images/image.png').convert()\n",
    "\n",
    "# OR create surface and use convert_alpha()\n",
    "img_surf = pygame.image.load('intro_to_pygame_images/image.png').convert_alpha()\n",
    "\n",
    "# close application\n",
    "pygame.quit()"
   ]
  },
  {
   "attachments": {},
   "cell_type": "markdown",
   "metadata": {},
   "source": [
    "### Surface Dimensions\n",
    "\n",
    "To get the dimensions of a surface, use `Surface.get_width()` and `Surface.get_height()`. The pygame modules and display screen must be initialized first."
   ]
  },
  {
   "cell_type": "code",
   "execution_count": 6,
   "metadata": {},
   "outputs": [
    {
     "name": "stdout",
     "output_type": "stream",
     "text": [
      "120 120\n"
     ]
    }
   ],
   "source": [
    "# get dimensions of image.png\n",
    "\n",
    "# initialize modules and screen\n",
    "pygame.init()\n",
    "screen = pygame.display.set_mode((700,500))\n",
    "\n",
    "# create a surface from an image import\n",
    "img_surf = pygame.image.load('intro_to_pygame_images/image.png')\n",
    "\n",
    "# get dimensions\n",
    "width = img_surf.get_width()\n",
    "height = img_surf.get_height()\n",
    "print(width, height)\n",
    "\n",
    "# close application\n",
    "pygame.quit()"
   ]
  },
  {
   "attachments": {},
   "cell_type": "markdown",
   "metadata": {},
   "source": [
    "### Resizing Surfaces\n",
    "\n",
    "To resize a surface, use `pygame.transform.scale(Surface, (width, height))`."
   ]
  },
  {
   "cell_type": "code",
   "execution_count": 7,
   "metadata": {},
   "outputs": [],
   "source": [
    "# resize img_surf to width=60, height=60\n",
    "img_surf_small = pygame.transform.scale(img_surf, (60,60))"
   ]
  },
  {
   "cell_type": "code",
   "execution_count": 8,
   "metadata": {},
   "outputs": [
    {
     "name": "stdout",
     "output_type": "stream",
     "text": [
      "60 60\n"
     ]
    }
   ],
   "source": [
    "# check that the resizing worked - get new dimensions of img_surf_small\n",
    "\n",
    "# initialize modules and screen\n",
    "pygame.init()\n",
    "\n",
    "# get dimensions\n",
    "width = img_surf_small.get_width()\n",
    "height = img_surf_small.get_height()\n",
    "print(width, height)\n",
    "\n",
    "# close application\n",
    "pygame.quit()"
   ]
  },
  {
   "attachments": {},
   "cell_type": "markdown",
   "metadata": {},
   "source": [
    "## Rectangles\n",
    "\n",
    "A `pygame.Rect` object is used to store rectangular coordinates (location data). Unlike surfaces, which can only be moved using the top left corner, rectangles can be moved using a variety of attributes:\n",
    "\n",
    "```\n",
    "x,y\n",
    "top, left, bottom, right\n",
    "topleft, bottomleft, topright, bottomright\n",
    "midtop, midleft, midbottom, midright\n",
    "center, centerx, centery\n",
    "size, width, height\n",
    "w,h\n",
    "```\n",
    "\n",
    "To create a rectangle, use `pygame.Rect(left, top, width, height)`."
   ]
  },
  {
   "cell_type": "code",
   "execution_count": null,
   "metadata": {},
   "outputs": [],
   "source": [
    "# create a rectangle with the top left corner located at x=100, y=200, and with width=10 and height=20\n",
    "rect = pygame.Rect(100, 200, 10, 20)"
   ]
  },
  {
   "cell_type": "code",
   "execution_count": null,
   "metadata": {},
   "outputs": [],
   "source": [
    "# use a keyword argument to create a rectangle with its center located at x=100, y=200, and with width=10 and height=20\n",
    "rect = pygame.Rect(center=(100,200), width=10, height=20)"
   ]
  },
  {
   "attachments": {},
   "cell_type": "markdown",
   "metadata": {},
   "source": [
    "### Drawing a Rectangle on the Screen\n",
    "\n",
    "Use `pygame.draw.rect(Surface, (R,G,B), Rect)` to draw a rectangle on the display surface. The pygame modules and display screen must be initialized before creating the rectangle, and `pygame.display.update()` must be called after `draw()` in order for the rectangle to appear on the screen."
   ]
  },
  {
   "cell_type": "code",
   "execution_count": 11,
   "metadata": {},
   "outputs": [],
   "source": [
    "# draw a red rectangle on the screen\n",
    "\n",
    "# initialize modules, global variable, clock and screen\n",
    "pygame.init()\n",
    "running = True\n",
    "clock = pygame.time.Clock()\n",
    "screen = pygame.display.set_mode((700,500))\n",
    "\n",
    "# create a rectangle with the top left corner located at x=100, y=200, and with width=50 and height=60\n",
    "rect = pygame.Rect(100, 200, 50, 60)\n",
    "\n",
    "# event loop\n",
    "while running:\n",
    "    # event listener for quitting the game\n",
    "    for event in pygame.event.get():\n",
    "        if event.type == QUIT:\n",
    "            running = False\n",
    "    \n",
    "    # draw rectangle on screen in red (RED=255, GREEN=0, BLUE=0)\n",
    "    pygame.draw.rect(screen, (255, 0, 0), rect)\n",
    "    \n",
    "    # update the display - required for the rectangle to appear\n",
    "    pygame.display.update()\n",
    "\n",
    "    # set frame rate\n",
    "    clock.tick(60)\n",
    "\n",
    "# close application\n",
    "pygame.quit()"
   ]
  },
  {
   "attachments": {},
   "cell_type": "markdown",
   "metadata": {},
   "source": [
    "The result:\n",
    "\n",
    "<img src=\"intro_to_pygame_images/Pygame_With_Rectangle.png\" alt=\"Pygame window with red rectangle\" width=400/>"
   ]
  },
  {
   "attachments": {},
   "cell_type": "markdown",
   "metadata": {},
   "source": [
    "### Storing Location Data of a Surface\n",
    "\n",
    "The `get_rect()` method is used on surfaces to return a Rect object with the same size as the surface. By default, the position of the Rect is (0,0)."
   ]
  },
  {
   "cell_type": "code",
   "execution_count": null,
   "metadata": {},
   "outputs": [],
   "source": [
    "# create a surface from an image import - Surface stores image data\n",
    "img_surf = pygame.image.load('intro_to_pygame_images/image.png')\n",
    "# create a rectangle from the surface - Rect stores location data\n",
    "img_rect = img_surf.get_rect()"
   ]
  },
  {
   "cell_type": "code",
   "execution_count": null,
   "metadata": {},
   "outputs": [],
   "source": [
    "# create a rectangle from a surface, located 200 pixels from the left and 400 pixels from the top of the screen\n",
    "img_rect = img_surf.get_rect((200,400))"
   ]
  },
  {
   "attachments": {},
   "cell_type": "markdown",
   "metadata": {},
   "source": [
    "## Adding an Image to the Screen\n",
    "\n",
    "The `Surface.blit()` method places an image onto the screen of the pygame application. It requires:\n",
    "- A display surface\n",
    "- An image surface\n",
    "- A destination, either a rectangle or coordinates\n",
    "\n",
    "This method must be done inside of the event loop.\n",
    "\n",
    "The order of `Surface.blit()` calls is important - images will be placed on the screen in the order that they are called."
   ]
  },
  {
   "cell_type": "code",
   "execution_count": null,
   "metadata": {},
   "outputs": [],
   "source": [
    "# place an image on the screen at the location of its rectangle\n",
    "screen.blit(img_surf, img_rect)"
   ]
  },
  {
   "cell_type": "code",
   "execution_count": null,
   "metadata": {},
   "outputs": [],
   "source": [
    "# place an image on the screen so that its top left corner is at x=100, y=200\n",
    "screen.blit(img_surf, (100,200))"
   ]
  },
  {
   "attachments": {},
   "cell_type": "markdown",
   "metadata": {},
   "source": [
    "## Movement\n",
    "\n",
    "Here we combine event listeners, surfaces and rectangles to move a player's icon around a screen.\n",
    "\n",
    "Let's use the arrow keys to control the icon. We need an event listener for each arrow key, and a change in x and y as the result. Remember that pygame coordinates work differently than normal cartesian coordinates.\n",
    "\n",
    "Note that `pygame.display.update()` must be called in the event loop to show the player's new position on the screen.\n",
    "\n",
    "See the example below."
   ]
  },
  {
   "cell_type": "code",
   "execution_count": 16,
   "metadata": {},
   "outputs": [],
   "source": [
    "import pygame\n",
    "from pygame.locals import *\n",
    "\n",
    "# initialize modules and window\n",
    "pygame.init()\n",
    "running = True\n",
    "clock = pygame.time.Clock()\n",
    "screen = pygame.display.set_mode((500,500))\n",
    "\n",
    "# player's character - a bear icon\n",
    "bear_surf = pygame.image.load('intro_to_pygame_images/brown_bear.png').convert_alpha()\n",
    "bear_loc = bear_surf.get_rect()\n",
    "\n",
    "# event loop\n",
    "while running:\n",
    "    # event listeners\n",
    "    for event in pygame.event.get():\n",
    "\n",
    "        # user quitting game\n",
    "        if event.type == QUIT:\n",
    "            running = False\n",
    "\n",
    "        # movements for player icon - uses arrow keys and movement occurs every key press\n",
    "        # KEYDOWN is the downward press of any key on the keyboard\n",
    "        # move() specifies the change in x and y when the key is pressed\n",
    "        if event.type == KEYDOWN:\n",
    "            if event.key == K_LEFT:\n",
    "                bear_loc = bear_loc.move([-10, 0])\n",
    "            if event.key == K_RIGHT:\n",
    "                bear_loc = bear_loc.move([10, 0])\n",
    "            if event.key == K_UP:\n",
    "                bear_loc = bear_loc.move([0, -10])\n",
    "            if event.key == K_DOWN:\n",
    "                bear_loc = bear_loc.move([0, 10])\n",
    "\n",
    "    # add bear image to screen\n",
    "    screen.blit(bear_surf, bear_loc)\n",
    "\n",
    "    # update the display surface\n",
    "    pygame.display.update()\n",
    "\n",
    "    clock.tick(60)\n",
    "\n",
    "pygame.quit()"
   ]
  },
  {
   "attachments": {},
   "cell_type": "markdown",
   "metadata": {},
   "source": [
    "The result:\n",
    "\n",
    "<video width=\"400\" autoplay muted loop>\n",
    "    <source src=\"intro_to_pygame_images/Pygame-Repeating-Icon.mp4\" type=\"video/mp4\">\n",
    "</video>"
   ]
  },
  {
   "attachments": {},
   "cell_type": "markdown",
   "metadata": {},
   "source": [
    "There are three problems with the result:\n",
    "\n",
    "| Problem | Solution |\n",
    "| ------- | -------- |\n",
    "| 1. When the icon is moved around the screen, old images are still visible. | In the event loop, use `pygame.draw.rect()` to draw a background on the screen before the icon is added. For every iteration of the event loop, the background will cover all previous icons. Simply changing the colour of the display screen using `fill()` would not have this effect. |\n",
    "| 2. The icon only moves when a key is pressed, but not when keys are held down. | Use `pygame.key.get_pressed()` to retrieve the current state of all keys, so that the icon continues to move when arrow keys are held down. |\n",
    "| 3. The icon can move beyond the visible window. | Use `clamp_ip()` to confine the icon's Rect object (`bear_loc`) to the screen's Rect object. Note that `screen` is a Surface object, so we need to call `get_rect()` on it first. |"
   ]
  },
  {
   "cell_type": "code",
   "execution_count": 5,
   "metadata": {},
   "outputs": [],
   "source": [
    "import pygame\n",
    "from pygame.locals import *\n",
    "\n",
    "# initialize modules and window\n",
    "pygame.init()\n",
    "running = True\n",
    "clock = pygame.time.Clock()\n",
    "screen = pygame.display.set_mode((500,500))\n",
    "\n",
    "# player's character - a bear icon\n",
    "bear_surf = pygame.image.load('intro_to_pygame_images/brown_bear.png').convert_alpha()\n",
    "bear_loc = bear_surf.get_rect()\n",
    "\n",
    "# event loop\n",
    "while running:\n",
    "    # event listeners\n",
    "    for event in pygame.event.get():\n",
    "\n",
    "        # user quitting game\n",
    "        if event.type == QUIT:\n",
    "            running = False\n",
    "\n",
    "    # movements for player icon\n",
    "    # if a key is held, the movement continues without stopping\n",
    "    keys = pygame.key.get_pressed()\n",
    "    if keys[pygame.K_LEFT]:\n",
    "        bear_loc = bear_loc.move([-10, 0])\n",
    "    if keys[pygame.K_RIGHT]:\n",
    "        bear_loc = bear_loc.move([10, 0])\n",
    "    if keys[pygame.K_UP]:\n",
    "        bear_loc = bear_loc.move([0, -10])\n",
    "    if keys[pygame.K_DOWN]:\n",
    "        bear_loc = bear_loc.move([0, 10])\n",
    "\n",
    "    # add background - using a rectangle instead of using screen.fill() ensures old images aren't left behind as an object moves\n",
    "    pygame.draw.rect(screen, (191,180,214), pygame.Rect(0,0,800,800))   # surface, colour, Rectangle(left coord, top coord, width, height)\n",
    "\n",
    "    # get rectangle of display screen\n",
    "    screen_rect = screen.get_rect()\n",
    "    \n",
    "    # confine the player's icon to the rectangle of the display screen\n",
    "    bear_loc.clamp_ip(screen_rect)\n",
    "\n",
    "    # add bear image to screen\n",
    "    screen.blit(bear_surf, bear_loc)\n",
    "\n",
    "    # update the display surface\n",
    "    pygame.display.update()\n",
    "\n",
    "    clock.tick(60)\n",
    "\n",
    "pygame.quit()"
   ]
  },
  {
   "attachments": {},
   "cell_type": "markdown",
   "metadata": {},
   "source": [
    "The result:\n",
    "\n",
    "<video width=\"400\" autoplay muted loop>\n",
    "    <source src=\"intro_to_pygame_images/Pygame-Fixed-Motions.mp4\" type=\"video/mp4\">\n",
    "</video>"
   ]
  },
  {
   "attachments": {},
   "cell_type": "markdown",
   "metadata": {},
   "source": [
    "## Obstacles\n",
    "\n",
    "Let's make some obstacles that the player cannot cross, such as a wall. Do this using a `pygame.Rect` object. Collisions will be handled using the sides of the player rectangle and the wall rectangle.\n",
    "\n",
    "In the event loop, use event listeners to check if a movement will cause a collision. If not, allow the movement to occur.\n",
    "\n",
    "<img src=\"intro_to_pygame_images/Pygame-Rect-Objects.png\" alt=\"Pygame.Rect Objects\" width=\"400\"/>"
   ]
  },
  {
   "attachments": {},
   "cell_type": "markdown",
   "metadata": {},
   "source": [
    "Create player's character and wall:"
   ]
  },
  {
   "cell_type": "code",
   "execution_count": null,
   "metadata": {},
   "outputs": [],
   "source": [
    "# player's character - bear icon\n",
    "bear_surf = pygame.image.load('intro_to_pygame_images/brown_bear.png').convert_alpha()\n",
    "bear_loc = bear_surf.get_rect()\n",
    "\n",
    "# obstacle - wall\n",
    "wall = pygame.Rect((200,200),(10,100))"
   ]
  },
  {
   "attachments": {},
   "cell_type": "markdown",
   "metadata": {},
   "source": [
    "In the event loop, check that movements are allowed:"
   ]
  },
  {
   "cell_type": "code",
   "execution_count": null,
   "metadata": {},
   "outputs": [],
   "source": [
    "keys = pygame.key.get_pressed()\n",
    "\n",
    "if keys[pygame.K_LEFT]:\n",
    "\n",
    "    # Left movement occurs UNLESS...\n",
    "    # player is within y-range of wall...........................and player is left of wall.....and player will collide with wall\n",
    "    if bear_loc.bottom > wall.top and bear_loc.top < wall.bottom and bear_loc.left >= wall.right and bear_loc.left - 10 < wall.right: pass\n",
    "    # otherwise, move left\n",
    "    else: bear_loc = bear_loc.move([-10, 0])\n",
    "\n",
    "if keys[pygame.K_RIGHT]:\n",
    "    \n",
    "    # Right movement occurs UNLESS...\n",
    "    # player is within y-range of wall...........................and player is right of wall.....and player will collide with wall\n",
    "    if bear_loc.bottom > wall.top and bear_loc.top < wall.bottom and bear_loc.right <= wall.left and bear_loc.right + 10 > wall.left: pass\n",
    "    # otherwise, move right\n",
    "    else: bear_loc = bear_loc.move([10, 0])\n",
    "\n",
    "if keys[pygame.K_UP]:\n",
    "\n",
    "    # Upward movement occurs UNLESS...\n",
    "    # player is within x-range of wall...........................and player is below wall........and player will collide with wall\n",
    "    if bear_loc.right > wall.left and bear_loc.left < wall.right and bear_loc.top >= wall.bottom and bear_loc.top - 10 < wall.bottom: pass\n",
    "    # otherwise, move up\n",
    "    else: bear_loc = bear_loc.move([0, -10])\n",
    "\n",
    "if keys[pygame.K_DOWN]:\n",
    "\n",
    "    # Downward movement occurs UNLESS...\n",
    "    # player is within x-range of wall...........................and player is above wall........and player will collide with wall\n",
    "    if bear_loc.right > wall.left and bear_loc.left < wall.right and bear_loc.bottom <= wall.top and bear_loc.bottom + 10 > wall.top: pass\n",
    "    # otherwise, move down\n",
    "    else: bear_loc = bear_loc.move([0, 10])"
   ]
  },
  {
   "attachments": {},
   "cell_type": "markdown",
   "metadata": {},
   "source": [
    "After the event listeners, the wall must also be drawn:"
   ]
  },
  {
   "cell_type": "code",
   "execution_count": null,
   "metadata": {},
   "outputs": [],
   "source": [
    "# draw wall\n",
    "pygame.draw.rect(screen, (154, 146, 173), wall)"
   ]
  },
  {
   "attachments": {},
   "cell_type": "markdown",
   "metadata": {},
   "source": [
    "## Interactive Objects\n",
    "\n",
    "Let's make an object that writes some text when the player collides with it."
   ]
  },
  {
   "attachments": {},
   "cell_type": "markdown",
   "metadata": {},
   "source": [
    "Create an object to interact with (a tree):"
   ]
  },
  {
   "cell_type": "code",
   "execution_count": null,
   "metadata": {},
   "outputs": [],
   "source": [
    "# surface and rectangle for interactive object\n",
    "tree_surf = pygame.image.load('intro_to_pygame_images/tree.png').convert_alpha()\n",
    "tree_loc = tree_surf.get_rect(center = (400,400))"
   ]
  },
  {
   "attachments": {},
   "cell_type": "markdown",
   "metadata": {},
   "source": [
    "Create flags (boolean variables) that check the status of the interaction. This will prevent repetition of text later on:"
   ]
  },
  {
   "cell_type": "code",
   "execution_count": null,
   "metadata": {},
   "outputs": [],
   "source": [
    "# flag for whether the tree has been interacted with - If True, the text will appear when the player collides with the tree\n",
    "play_collision_text = True\n",
    "\n",
    "# flag for whether the user has responded yet - If True, the user has not responded yet\n",
    "accept_response = True"
   ]
  },
  {
   "attachments": {},
   "cell_type": "markdown",
   "metadata": {},
   "source": [
    "In the event loop, create a flag that is True when the player collides with the tree:"
   ]
  },
  {
   "cell_type": "code",
   "execution_count": null,
   "metadata": {},
   "outputs": [],
   "source": [
    "# flag for collision with tree - True if a collision is occurring\n",
    "collide_tree = pygame.Rect.colliderect(bear_loc, tree_loc)"
   ]
  },
  {
   "attachments": {},
   "cell_type": "markdown",
   "metadata": {},
   "source": [
    "Print some text when the player collides with the tree. Set `play_collision_text` to `False` so that the message will only print once:"
   ]
  },
  {
   "cell_type": "code",
   "execution_count": null,
   "metadata": {},
   "outputs": [],
   "source": [
    "# collision with tree\n",
    "if collide_tree and play_collision_text:\n",
    "    # prevent text from repeating\n",
    "    play_collision_text = False\n",
    "    print(\"There is a tall tree... with something at the top!\")\n",
    "    print(\"Climb tree? Yes [y] or No [n]: \")"
   ]
  },
  {
   "attachments": {},
   "cell_type": "markdown",
   "metadata": {},
   "source": [
    "Use an event listener to accept the player's responses.\n",
    "\n",
    "The player has the option to climb the tree (\"y\" key) or not (\"n\" key). If the player chooses not to climb the tree, they should be able to change their decision later. Therefore, we should accept the player's responses until the \"Yes\" option has been fulfilled. When this happens, `accept_reponse` will be set to `False`.\n",
    "\n",
    "The event listener should only work if:\n",
    "- the tree has been interacted with: `play_collision_text = False`\n",
    "- the player has not yet climbed the tree (clicked the \"y\" key): `accept_response = True`"
   ]
  },
  {
   "cell_type": "code",
   "execution_count": null,
   "metadata": {},
   "outputs": [],
   "source": [
    "# once the tree has been interacted with, accept responses and prevent interaction from repeating\n",
    "if event.type == KEYDOWN and not play_collision_text and accept_response:\n",
    "    if event.key == K_y:\n",
    "        print(\"y\")\n",
    "        print(\"You climb to the top and find a KEY.\")\n",
    "        accept_response = False\n",
    "    elif event.key == K_n:\n",
    "        print(\"n\")\n",
    "        print(\"It looks too tall to climb anyway.\")"
   ]
  },
  {
   "attachments": {},
   "cell_type": "markdown",
   "metadata": {},
   "source": [
    "At the end of the event loop, the tree should be added to the screen:"
   ]
  },
  {
   "cell_type": "code",
   "execution_count": null,
   "metadata": {},
   "outputs": [],
   "source": [
    "# add tree image to screen\n",
    "screen.blit(tree_surf, tree_loc)"
   ]
  },
  {
   "attachments": {},
   "cell_type": "markdown",
   "metadata": {},
   "source": [
    "## Text Handling\n",
    "\n",
    "Let's make text appear on the screen instead of printing it to the terminal. This is done by rendering a string into text using a `Font` object and `Font.render()`."
   ]
  },
  {
   "cell_type": "code",
   "execution_count": 4,
   "metadata": {},
   "outputs": [
    {
     "name": "stdout",
     "output_type": "stream",
     "text": [
      "arial\n",
      "arialblack\n",
      "bahnschrift\n",
      "calibri\n",
      "cambria\n",
      "cambriamath\n",
      "candara\n",
      "comicsansms\n",
      "consolas\n",
      "constantia\n",
      "corbel\n",
      "couriernew\n",
      "ebrima\n",
      "franklingothicmedium\n",
      "gabriola\n",
      "gadugi\n",
      "georgia\n",
      "impact\n",
      "inkfree\n",
      "javanesetext\n",
      "leelawadeeui\n",
      "leelawadeeuisemilight\n",
      "lucidaconsole\n",
      "lucidasans\n",
      "malgungothic\n",
      "malgungothicsemilight\n",
      "microsofthimalaya\n",
      "microsoftjhenghei\n",
      "microsoftjhengheiui\n",
      "microsoftnewtailue\n",
      "microsoftphagspa\n",
      "microsoftsansserif\n",
      "microsofttaile\n",
      "microsoftyahei\n",
      "microsoftyaheiui\n",
      "microsoftyibaiti\n",
      "mingliuextb\n",
      "pmingliuextb\n",
      "mingliuhkscsextb\n",
      "mongolianbaiti\n",
      "msgothic\n",
      "msuigothic\n",
      "mspgothic\n",
      "mvboli\n",
      "myanmartext\n",
      "nirmalaui\n",
      "nirmalauisemilight\n",
      "palatinolinotype\n",
      "sansserifcollection\n",
      "segoefluenticons\n",
      "segoemdl2assets\n",
      "segoeprint\n",
      "segoescript\n",
      "segoeui\n",
      "segoeuiblack\n",
      "segoeuiemoji\n",
      "segoeuihistoric\n",
      "segoeuisemibold\n",
      "segoeuisemilight\n",
      "segoeuisymbol\n",
      "segoeuivariable\n",
      "simsun\n",
      "nsimsun\n",
      "simsunextb\n",
      "sitkatext\n",
      "sylfaen\n",
      "symbol\n",
      "tahoma\n",
      "timesnewroman\n",
      "trebuchetms\n",
      "verdana\n",
      "webdings\n",
      "wingdings\n",
      "yugothic\n",
      "yugothicuisemibold\n",
      "yugothicui\n",
      "yugothicmedium\n",
      "yugothicuiregular\n",
      "yugothicregular\n",
      "yugothicuisemilight\n",
      "holomdl2assets\n",
      "agencyfb\n",
      "algerian\n",
      "bookantiqua\n",
      "arialrounded\n",
      "baskervilleoldface\n",
      "bauhaus93\n",
      "bell\n",
      "bernardcondensed\n",
      "bodoni\n",
      "bodoniblack\n",
      "bodonicondensed\n",
      "bodonipostercompressed\n",
      "bookmanoldstyle\n",
      "bradleyhanditc\n",
      "britannic\n",
      "berlinsansfb\n",
      "berlinsansfbdemi\n",
      "broadway\n",
      "brushscript\n",
      "bookshelfsymbol7\n",
      "californianfb\n",
      "calisto\n",
      "castellar\n",
      "centuryschoolbook\n",
      "centaur\n",
      "century\n",
      "chiller\n",
      "colonna\n",
      "cooperblack\n",
      "copperplategothic\n",
      "curlz\n",
      "dubai\n",
      "dubaimedium\n",
      "dubairegular\n",
      "elephant\n",
      "engravers\n",
      "erasitc\n",
      "erasdemiitc\n",
      "erasmediumitc\n",
      "felixtitling\n",
      "forte\n",
      "franklingothicbook\n",
      "franklingothicdemi\n",
      "franklingothicdemicond\n",
      "franklingothicheavy\n",
      "franklingothicmediumcond\n",
      "freestylescript\n",
      "frenchscript\n",
      "footlight\n",
      "garamond\n",
      "gigi\n",
      "gillsans\n",
      "gillsanscondensed\n",
      "gillsansultracondensed\n",
      "gillsansultra\n",
      "gloucesterextracondensed\n",
      "gillsansextcondensed\n",
      "centurygothic\n",
      "goudyoldstyle\n",
      "goudystout\n",
      "harlowsolid\n",
      "harrington\n",
      "haettenschweiler\n",
      "hightowertext\n",
      "imprintshadow\n",
      "informalroman\n",
      "blackadderitc\n",
      "edwardianscriptitc\n",
      "kristenitc\n",
      "jokerman\n",
      "juiceitc\n",
      "kunstlerscript\n",
      "widelatin\n",
      "lucidabright\n",
      "lucidacalligraphy\n",
      "lucidafaxregular\n",
      "lucidafax\n",
      "lucidahandwriting\n",
      "lucidasansregular\n",
      "lucidasansroman\n",
      "lucidasanstypewriterregular\n",
      "lucidasanstypewriter\n",
      "lucidasanstypewriteroblique\n",
      "magneto\n",
      "maiandragd\n",
      "maturascriptcapitals\n",
      "mistral\n",
      "modernno20\n",
      "monotypecorsiva\n",
      "extra\n",
      "niagaraengraved\n",
      "niagarasolid\n",
      "ocraextended\n",
      "oldenglishtext\n",
      "onyx\n",
      "msoutlook\n",
      "palacescript\n",
      "papyrus\n",
      "parchment\n",
      "perpetua\n",
      "perpetuatitling\n",
      "playbill\n",
      "poorrichard\n",
      "pristina\n",
      "rage\n",
      "ravie\n",
      "msreferencesansserif\n",
      "msreferencespecialty\n",
      "rockwellcondensed\n",
      "rockwell\n",
      "rockwellextra\n",
      "script\n",
      "showcardgothic\n",
      "snapitc\n",
      "stencil\n",
      "twcen\n",
      "twcencondensed\n",
      "twcencondensedextra\n",
      "tempussansitc\n",
      "vinerhanditc\n",
      "vivaldi\n",
      "vladimirscript\n",
      "wingdings2\n",
      "wingdings3\n",
      "hpsimplified\n",
      "hpsimplifiedbdit\n",
      "hpsimplifiedit\n",
      "hpsimplifiedlt\n",
      "hpsimplifiedltit\n",
      "hpsimplifiedrg\n",
      "hpsimplifiedjpanlight\n",
      "hpsimplifiedjpanregular\n",
      "hpsimplifiedhanslight\n",
      "hpsimplifiedhansregular\n",
      "artifaktelementtruetype\n",
      "artifaktelementregulartruetype\n",
      "bankgothic\n",
      "bankgothicmedium\n",
      "cityblueprint\n",
      "commercialpi\n",
      "commercialscript\n",
      "countryblueprint\n",
      "dutch801roman\n",
      "dutch801\n",
      "dutch801extra\n",
      "euroromanoblique\n",
      "euroroman\n",
      "isocpeur\n",
      "isocteur\n",
      "monospace821\n",
      "panroman\n",
      "romantic\n",
      "romans\n",
      "sansserifboldoblique\n",
      "sansserif\n",
      "sansserifoblique\n",
      "stylus\n",
      "superfrench\n",
      "swiss721\n",
      "swiss721outline\n",
      "swiss721condensed\n",
      "swiss721condensedoutline\n",
      "swiss721blackcondensed\n",
      "swiss721extended\n",
      "swiss721blackextended\n",
      "swiss721black\n",
      "swiss721blackoutline\n",
      "technicbold\n",
      "techniclite\n",
      "technic\n",
      "universalmath1\n",
      "vineta\n",
      "acaderef\n",
      "aigdt\n",
      "amdtsymbols\n",
      "amgdt\n",
      "geniso\n",
      "complex\n",
      "gdt\n",
      "gothice\n",
      "gothicg\n",
      "gothici\n",
      "greekc\n",
      "greeks\n",
      "isocp2\n",
      "isocp3\n",
      "isocp\n",
      "isoct2\n",
      "isoct3\n",
      "isoct\n",
      "italicc\n",
      "italict\n",
      "\n",
      "monotxt\n",
      "proxy1\n",
      "proxy2\n",
      "proxy3\n",
      "proxy4\n",
      "proxy5\n",
      "proxy6\n",
      "proxy7\n",
      "proxy8\n",
      "proxy9\n",
      "romanc\n",
      "romand\n",
      "romant\n",
      "scriptc\n",
      "scripts\n",
      "simplex\n",
      "syastro\n",
      "symap\n",
      "symath\n",
      "symeteo\n",
      "symusic\n",
      "txt\n",
      "cmb10\n",
      "cmex10\n",
      "cmmi10\n",
      "cmr10\n",
      "cmss10\n",
      "cmsy10\n",
      "cmtt10\n",
      "dejavusans\n",
      "dejavusansoblique\n",
      "dejavusansdisplay\n",
      "dejavusansmono\n",
      "dejavusansmonooblique\n",
      "dejavuserif\n",
      "dejavuserifdisplay\n",
      "stixgeneralregular\n",
      "stixgeneralbold\n",
      "stixgeneralbolditalic\n",
      "stixgeneralitalic\n",
      "stixnonunicoderegular\n",
      "stixnonunicodebold\n",
      "stixnonunicodebolditalic\n",
      "stixnonunicodeitalic\n",
      "stixsizefivesymregular\n",
      "stixsizefoursymbold\n",
      "stixsizefoursymregular\n",
      "stixsizeonesymbold\n",
      "stixsizeonesymregular\n",
      "stixsizethreesymbold\n",
      "stixsizethreesymregular\n",
      "stixsizetwosymbold\n",
      "stixsizetwosymregular\n"
     ]
    }
   ],
   "source": [
    "#collapse-output\n",
    "# get list of available system fonts\n",
    "fonts = pygame.font.get_fonts()\n",
    "for f in fonts:\n",
    "   print(f)"
   ]
  },
  {
   "attachments": {},
   "cell_type": "markdown",
   "metadata": {},
   "source": [
    "Create a `Font` object with a font and size:"
   ]
  },
  {
   "cell_type": "code",
   "execution_count": null,
   "metadata": {},
   "outputs": [],
   "source": [
    "# font = \"lucidaconsole\", size = 14-point\n",
    "font = pygame.font.SysFont(\"lucidaconsole\", 14)"
   ]
  },
  {
   "attachments": {},
   "cell_type": "markdown",
   "metadata": {},
   "source": [
    "Inside the event loop, draw the text onto a new Surface using `Font.render(text, antialias, color, background)`. The `antialias` argument smoothes out the letters if `True`, so if a pixelated font is desired, set `antialias=False`. Note that this function can only render one line of text at a time."
   ]
  },
  {
   "cell_type": "code",
   "execution_count": null,
   "metadata": {},
   "outputs": [],
   "source": [
    "# apply the text to a surface; make the text smooth and in red on a while background\n",
    "text = \"Have a nice day\"\n",
    "text_surf = font.render(text, True, \"red\", \"white\")"
   ]
  },
  {
   "attachments": {},
   "cell_type": "markdown",
   "metadata": {},
   "source": [
    "In the same way an image can be added to the screen, use `Surface.blit()` to make the text appear in the game window:"
   ]
  },
  {
   "cell_type": "code",
   "execution_count": null,
   "metadata": {},
   "outputs": [],
   "source": [
    "# make the text appear on the screen with the top left corner located at x=100, y=200\n",
    "screen.blit(text_surf, (100,200))"
   ]
  },
  {
   "attachments": {},
   "cell_type": "markdown",
   "metadata": {},
   "source": [
    "### Improving Efficiency\n",
    "\n",
    "There is no built-in way to handle multiple lines of on-screen text in pygame. If multiple lines are needed, use a function like the one below:"
   ]
  },
  {
   "cell_type": "code",
   "execution_count": null,
   "metadata": {},
   "outputs": [],
   "source": [
    "def write_lines(display_surface: pygame.Surface, lines: list[str], x: int, y: int, increment: int, colour: str=\"black\"):\n",
    "    \"\"\"\n",
    "    Draws lines of text on the display surface. The top left corner of the first line of text\n",
    "    begins at position (x,y) and the y-value increases by the increment for each line.\n",
    "    \n",
    "    Parameters:\n",
    "    - display_surface (pygame.Surface): surface to display text on\n",
    "    - lines (list[str]): text to add to screen\n",
    "    - x (int): x-value of the top left corner of the first line of text\n",
    "    - y (int): y-value of the top left corner of the first line of text\n",
    "    - increment (int): number of pixels the y-value will increase by for each consecutive line\n",
    "    - colour (str): colour of text\n",
    "\n",
    "    Returns: None\n",
    "    \"\"\"\n",
    "\n",
    "    for line in lines:\n",
    "        text_surf = font.render(line, True, colour)\n",
    "        display_surface.blit(text_surf, (x,y))\n",
    "        y += increment"
   ]
  },
  {
   "attachments": {},
   "cell_type": "markdown",
   "metadata": {},
   "source": [
    "Note that the increment should always be larger than the height of the font to prevent lines of text from overlapping."
   ]
  },
  {
   "attachments": {},
   "cell_type": "markdown",
   "metadata": {},
   "source": [
    "## Going Forward\n",
    "\n",
    "Feeling confident in your pygame skills? Why not add characters into the game that can talk to the player through the power of AI! Check out the **Pygame with AI** tutorial [here](Pygame_with_AI.ipynb)."
   ]
  },
  {
   "attachments": {},
   "cell_type": "markdown",
   "metadata": {},
   "source": [
    "## References and Companion Files\n",
    "\n",
    "**References:**\n",
    "- The Pygame Getting Started Wiki: https://www.pygame.org/wiki/GettingStarted\n",
    "- Education at Bat: Seven Principles for Educators: https://www.gse.harvard.edu/news/uk/09/01/education-bat-seven-principles-educators\n",
    "- Create a Simple Video Game with Pygame - Step by Step Tutorial for Python Beginners! by Python Simplified on YouTube: https://www.youtube.com/watch?v=W-QOtdD3qx4\n",
    "\n",
    "**Companion Files:**\n",
    "- A simple pygame example: [simple_pygame.py](simple_pygame.py)\n",
    "- Pygame with AI tutorial: [Pygame_with_AI.ipynb](Pygame_with_AI.ipynb)"
   ]
  }
 ],
 "metadata": {
  "kernelspec": {
   "display_name": "Python 3",
   "language": "python",
   "name": "python3"
  },
  "language_info": {
   "codemirror_mode": {
    "name": "ipython",
    "version": 3
   },
   "file_extension": ".py",
   "mimetype": "text/x-python",
   "name": "python",
   "nbconvert_exporter": "python",
   "pygments_lexer": "ipython3",
   "version": "3.9.13"
  },
  "orig_nbformat": 4
 },
 "nbformat": 4,
 "nbformat_minor": 2
}
