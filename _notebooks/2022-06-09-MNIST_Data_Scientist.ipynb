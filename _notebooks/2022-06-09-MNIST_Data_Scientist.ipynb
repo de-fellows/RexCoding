{
 "cells": [
  {
   "cell_type": "markdown",
   "id": "6cd34bff",
   "metadata": {},
   "source": [
    "# Federated Learning (Data Scientist)\n"
   ]
  },
  {
   "cell_type": "markdown",
   "id": "92ba3010",
   "metadata": {},
   "source": [
    "*Published by* <a href = \"https://www.leow.ca\"> by Leo Wei </a>"
   ]
  },
  {
   "cell_type": "markdown",
   "id": "38b946f1",
   "metadata": {},
   "source": [
    "Before reading the rest of this blog, make sure you have the <a href = \"https://de-fellows.github.io/RexCoding/2022/06/09/MNIST_Data_Owner.html\"> Federated Learning (Data Owner)</a> open side by side."
   ]
  },
  {
   "cell_type": "markdown",
   "id": "7fdde69b",
   "metadata": {},
   "source": [
    "## Table of Contents:\n",
    "* [What is federated learning?](#intro)\n",
    "    * [Tools that made federated learning possible](#tools)\n",
    "* [Installation](#installation)\n",
    "* [Pysyft Duet (Data scientist)](#duet)\n",
    "    * [Duet Basics](#basics)\n",
    "    * [MNIST with Duet](#mnist)\n",
    "        * [Part 1: Connect to Remote Duet Server](#part1)\n",
    "        * [Part 2: Setting up Model and Data](#part2)\n",
    "        * [Part 3: Training](#part3)\n",
    "        * [Part 4: Inference](#part4)\n",
    "* [Where to next](#next)"
   ]
  },
  {
   "cell_type": "markdown",
   "id": "1ac39a4b",
   "metadata": {},
   "source": [
    "## What is federated learning? <a class =\"anchor\" id =\"intro\"/>\n",
    "In the world of evergrowing data in every industry, data is becoming more scarce due to security and privacy reasons. This makes our jobs as data scientists harder as companies and institutions are holding onto their data for security and competitive reasons. Nowadays, a lot of important data are sensitive personal information, things like health, and happiness, etc. Our ability to solve problems is limited because we can't access the existing data. \n",
    "\n",
    "<br/>\n",
    "Federated learning is a machine learning setting where multiple clients(data owners) can come together and solve a machine learning problem, under the coordination of a central server(data scientist). Each data owner's data is stored  locally, and will not be access without direct permission. Instead of traditionally training on one machine locally, the network is sent to all clients and trained on multiple clients simultaneously. After training, the machine learning model would aggregate the model updates from the trained model from the clients."
   ]
  },
  {
   "cell_type": "markdown",
   "id": "875f7459",
   "metadata": {},
   "source": [
    "There are many situations in which federated learning can be used to solve problems. One use case of this is in the  healthcare industry: <br/>\n",
    "Breast cancer is a something that is faced by 1 in 8 woman. It is actually very treatable if it is detected early enough in a mammogram. However, this is where the problem lies. In detection, there is a 1 in 4 chance that the radiologist will give false positive or false negative, and with AI, the detection accuracy is even worse with the accuracy being 1 in 3 false positive or false negative. This is most likely due to our models not having enough training data, the amount of training data we have is less than <0.1% of the world's mammography images. These data we need are stored across thousands of organizations, and acquiring data from each organization is extremely difficult as some organizations will protect patients' privacy not mentioning the bureaucracy involved in signing contracts and risk management with thousands of different companies and organizations. <br/>\n",
    "\n",
    "Federated learning could tackle this problem by having a massive federated data network, each data center(hospital, research center, etc) would act as a client. We, the data scientist is able to send our machine learning model to each client, and have the client train the model locally, and finally update the global model by exchanging the weighted average of the weights. (FedAvg Algorithm)\n",
    "\n",
    "![source: Nividia](https://blogs.nvidia.com/wp-content/uploads/2019/10/federated_learning_animation_still_white.png)"
   ]
  },
  {
   "cell_type": "markdown",
   "id": "e72042f5",
   "metadata": {},
   "source": [
    "### Advantages of federated learning\n",
    "- Data never leaves the owner's device, privacy of sensitive data is stored. \n",
    "- Federated learning allows devices like cell phones to train collectively, thus saving computation and memory on the server, data scientist's side.\n",
    "- Data owners are more comfortable with sharing their data, and leading to better machine learning models.\n",
    "\n",
    "### Limitations of federated learning\n",
    "- Communication, latency is often the bottleneck for federated learning. \n",
    "- Variability in client hardware, it is often the case that after each round of training, the server will have to wait for the slower devices to report back with their trained weights. These stragglers often slow down the network, often times, the network just drop the stragglers, but is that a good approach? Does that mean the model will cater more towards people with faster phones?"
   ]
  },
  {
   "cell_type": "markdown",
   "id": "7fbc9423",
   "metadata": {},
   "source": [
    "## Tools that made federated learning possible <a class = \"anchor\" id= \"tools\"/>\n",
    "\n",
    "### 1. Remote execution\n",
    "Remote execution is a core tool used in federated learning. Instead of downloading the data from the clients and then performing machine learning on it, remote execution allows you to use the client's data without their data leaving their devices.\n",
    "\n",
    "### 2. Search and example data \n",
    "If we are executing functions remotely, how can we do data science without seeing the data? <br/>\n",
    "With tools such as sample data, we can feature engineer the data without actually seeing the full data. We can request from the data owners to allow us to see a small sub sample of the data in order for us to get a better understanding of the data. \n",
    "\n",
    "### 3. Differential privacy \n",
    "How do we query again a database without revealing too much information about its privacy data? <br/>\n",
    "Our goal is to achieve perfect privacy, meaning that the output of our query is the same between this database and any identical database with one row removed or replaced. However, achieving this is incredibly difficult and the way in which we attempt to achieve this is by adding a certain level of noise to the data.\n",
    "\n",
    "### 4. Secure multi-party computation\n",
    "The idea of secure multi-party computation is that multiple people can combine their private inputs to compute a function, without revealing their inputs to each other."
   ]
  },
  {
   "cell_type": "markdown",
   "id": "53b1149d",
   "metadata": {},
   "source": [
    "In the following example, we will look at one of the most popular library for federated learning Pysyft. Developed by openmined, pysyft was developed with the goal of secure and private machine learning. The Pysyft library is meant for you to write code that is capable of computing on data not owned on your local machine. In the following demo, we will be exploring the tool of remote execution. "
   ]
  },
  {
   "cell_type": "markdown",
   "id": "262488d2",
   "metadata": {},
   "source": [
    "## Installation <a class=\"anchor\" id=\"installation\" />\n",
    "\n",
    "Before we dive into federated learning, let's install the necessary packages."
   ]
  },
  {
   "cell_type": "markdown",
   "id": "e892e573",
   "metadata": {},
   "source": [
    "#### 1. Install Conda environment\n",
    "`conda create --name duet python=3.8`\n",
    "Don't forget to activate your environment\n",
    "`conda activate duet`\n",
    "\n",
    "#### 2. Install necessary packages\n",
    "Inside your folder, create a txt file named 'requirements.txt' <br/>\n",
    "Then copy and past the following inside the txt file\n",
    "`\n",
    "numpy\n",
    "aiortc\n",
    "cryptography\n",
    "dataclasses\n",
    "dpcontracts\n",
    "flask\n",
    "forbiddenfruit>=0.1.3\n",
    "loguru\n",
    "matplotlib\n",
    "nest_asyncio\n",
    "packaging\n",
    "pandas\n",
    "protobuf\n",
    "pydagogy\n",
    "PyNaCl\n",
    "requests\n",
    "scikit-learn\n",
    "seaborn\n",
    "sqlitedict\n",
    "statsmodels\n",
    "typeguard\n",
    "typing-extensions # backport to older python 3\n",
    "websockets\n",
    "jupyter\n",
    "Jinja2<3.0\n",
    "`\n",
    "<br/>\n",
    "Afterwards, we can install the requirements by running the following command\n",
    "\n",
    "`pip install -r requirements.txt`\n",
    "\n",
    "#### 3. Install Pysyft\n",
    "`pip install syft==0.5.0`\n",
    "\n",
    "#### If you have errors\n",
    "- `ImportError: cannot import name 'soft_unicode' from 'markupsafe'`\n",
    "Resolve this by\n",
    "`python -m pip install markupsafe==2.0.1`\n",
    "- If you have the warning of CrytographyDeprecationWarning, you can ignore it for now."
   ]
  },
  {
   "cell_type": "markdown",
   "id": "7ca00360",
   "metadata": {},
   "source": [
    "# Pysyft Duet (Data Scientist) <a class = \"anchor\" id = \"duet\" />"
   ]
  },
  {
   "cell_type": "markdown",
   "id": "e6b0a057",
   "metadata": {},
   "source": [
    "A peer-to-peer tool developed on top of the PySyft. It allows the data owner to expose their data to the data scientist, and the data scientist can manipulate the data through a zero-knowledge access mechanism. As data owners, you have the right to decide whether to allow the manipulation of data, you can deny or approve requests from the data scientists. As data scientists, you can develop new insights and train your model using the data owned by the data owners. "
   ]
  },
  {
   "cell_type": "markdown",
   "id": "f16992f5",
   "metadata": {},
   "source": [
    "Duet was used to demonstrate federated learning with PySyft without being deployed in the PyGrid ecosystem."
   ]
  },
  {
   "cell_type": "markdown",
   "id": "b60ef7ff",
   "metadata": {},
   "source": [
    "1. To start, both the data owner and the data scientist will have to talk to one of the open grid network nodes hosted on AWS by OpenMined. The node will introduce the service to each other behind a firewall and help them connect peer to peer.\n",
    "\n",
    "2. The data owner need to first connect initiate and launch the duet server.\n",
    "\n",
    "3. With the server ID, the data scientist can join the duet session. This will give the data scientist a duet client id.\n",
    "\n",
    "4. The data owner will then need to enter the client id to complete the setup process.\n",
    "\n",
    "5. If all goes well, the data scientist and the data owner should be connected now."
   ]
  },
  {
   "cell_type": "markdown",
   "id": "1828c3a2",
   "metadata": {},
   "source": [
    "## Duet Basics <a class = \"anchor\" id = \"basics\"/>"
   ]
  },
  {
   "cell_type": "markdown",
   "id": "9228852e",
   "metadata": {},
   "source": [
    "As the Data Scientist, you want to perform data science on data that is sitting in the Data Owner's Duet server in their Notebook.\n",
    "\n",
    "In order to do this, we must run the code that the Data Owner sends us, which importantly includes their Duet Session ID. The code will look like this, importantly with their real Server ID.\n",
    "\n",
    "import syft as sy\n",
    "duet = sy.duet('xxxxxxxxxxxxxxxxxxxxxxxxxxxxxxxx')\n",
    "This will create a direct connection from my notebook to the remote Duet server. Once the connection is established all traffic is sent directly between the two nodes.\n",
    "\n",
    "Copy and paste the code or Server ID that the Data Owner gives you and run it in the cell below. It will return your Client ID which you must send to the Data Owner to enter into Duet so it can pair your notebooks.\n",
    "\n",
    "Make sure that the network_url you use is chosen from\n",
    "https://raw.githubusercontent.com/OpenMined/OpenGridNodes/master/network_address"
   ]
  },
  {
   "cell_type": "markdown",
   "id": "624c1801",
   "metadata": {},
   "source": [
    "### Step 2. Establish Connection with Data Owner"
   ]
  },
  {
   "cell_type": "code",
   "execution_count": 1,
   "id": "39444e60",
   "metadata": {
    "scrolled": true
   },
   "outputs": [
    {
     "name": "stdout",
     "output_type": "stream",
     "text": [
      "🎤  🎸  ♪♪♪ Joining Duet ♫♫♫  🎻  🎹\n",
      "\n",
      "♫♫♫ >\u001b[93m DISCLAIMER\u001b[0m: \u001b[1mDuet is an experimental feature currently in beta.\n",
      "♫♫♫ > Use at your own risk.\n",
      "\u001b[0m\n",
      "\u001b[1m\n",
      "    > ❤️ \u001b[91mLove\u001b[0m \u001b[92mDuet\u001b[0m? \u001b[93mPlease\u001b[0m \u001b[94mconsider\u001b[0m \u001b[95msupporting\u001b[0m \u001b[91mour\u001b[0m \u001b[93mcommunity!\u001b[0m\n",
      "    > https://github.com/sponsors/OpenMined\u001b[1m\n",
      "\n",
      "♫♫♫ > Punching through firewall to OpenGrid Network Node at:\n",
      "♫♫♫ > http://ec2-18-218-7-180.us-east-2.compute.amazonaws.com:5000/\n",
      "♫♫♫ >\n",
      "♫♫♫ > ...waiting for response from OpenGrid Network... \n",
      "♫♫♫ > \u001b[92mDONE!\u001b[0m\n",
      "\n",
      "♫♫♫ > \u001b[95mSTEP 1:\u001b[0m Send the following Duet Client ID to your duet partner!\n",
      "♫♫♫ > Duet Client ID: \u001b[1m3406364123dfde0c6e7394b2167a9ef9\u001b[0m\n",
      "\n",
      "♫♫♫ > ...waiting for partner to connect...\n"
     ]
    },
    {
     "name": "stderr",
     "output_type": "stream",
     "text": [
      "/opt/anaconda3/envs/duet/lib/python3.9/site-packages/aiortc/rtcdtlstransport.py:211: CryptographyDeprecationWarning: This version of cryptography contains a temporary pyOpenSSL fallback path. Upgrade pyOpenSSL now.\n",
      "  _openssl_assert(lib.SSL_CTX_use_certificate(ctx, self._cert._x509) == 1)  # type: ignore\n",
      "/opt/anaconda3/envs/duet/lib/python3.9/site-packages/aiortc/rtcdtlstransport.py:186: CryptographyDeprecationWarning: This version of cryptography contains a temporary pyOpenSSL fallback path. Upgrade pyOpenSSL now.\n",
      "  value=certificate_digest(self._cert._x509),  # type: ignore\n"
     ]
    },
    {
     "name": "stdout",
     "output_type": "stream",
     "text": [
      "\n",
      "♫♫♫ > \u001b[92mCONNECTED!\u001b[0m\n"
     ]
    }
   ],
   "source": [
    "import syft as sy\n",
    "duet = sy.join_duet(\"00eec93acc58f144d78a365705d42223\", network_url=\"http://ec2-18-218-7-180.us-east-2.compute.amazonaws.com:5000/\")"
   ]
  },
  {
   "cell_type": "markdown",
   "id": "50d1c9bc",
   "metadata": {},
   "source": [
    "The `duet` variable is your reference to remote operations including supported libraries like torch."
   ]
  },
  {
   "cell_type": "markdown",
   "id": "119052d6",
   "metadata": {},
   "source": [
    "<Strong>Step 3. Go to Data Owner Notebook <Strong/>"
   ]
  },
  {
   "cell_type": "markdown",
   "id": "d260473b",
   "metadata": {},
   "source": [
    "### Step 4. Let's Search and Create Pointer to Data"
   ]
  },
  {
   "cell_type": "markdown",
   "id": "fa696701",
   "metadata": {},
   "source": [
    "We can search for available data with their meta data(tags, decription and object type) with the following:"
   ]
  },
  {
   "cell_type": "code",
   "execution_count": 2,
   "id": "355b39df",
   "metadata": {},
   "outputs": [
    {
     "data": {
      "text/html": [
       "<div>\n",
       "<style scoped>\n",
       "    .dataframe tbody tr th:only-of-type {\n",
       "        vertical-align: middle;\n",
       "    }\n",
       "\n",
       "    .dataframe tbody tr th {\n",
       "        vertical-align: top;\n",
       "    }\n",
       "\n",
       "    .dataframe thead th {\n",
       "        text-align: right;\n",
       "    }\n",
       "</style>\n",
       "<table border=\"1\" class=\"dataframe\">\n",
       "  <thead>\n",
       "    <tr style=\"text-align: right;\">\n",
       "      <th></th>\n",
       "      <th>ID</th>\n",
       "      <th>Tags</th>\n",
       "      <th>Description</th>\n",
       "      <th>object_type</th>\n",
       "    </tr>\n",
       "  </thead>\n",
       "  <tbody>\n",
       "    <tr>\n",
       "      <th>0</th>\n",
       "      <td>&lt;UID: 2550b41ead684a24ac87a5dced4c5c6d&gt;</td>\n",
       "      <td>[grades]</td>\n",
       "      <td>This is a list of the grades of 6 people</td>\n",
       "      <td>&lt;class 'torch.Tensor'&gt;</td>\n",
       "    </tr>\n",
       "  </tbody>\n",
       "</table>\n",
       "</div>"
      ],
      "text/plain": [
       "                                        ID      Tags  \\\n",
       "0  <UID: 2550b41ead684a24ac87a5dced4c5c6d>  [grades]   \n",
       "\n",
       "                                Description             object_type  \n",
       "0  This is a list of the grades of 6 people  <class 'torch.Tensor'>  "
      ]
     },
     "execution_count": 2,
     "metadata": {},
     "output_type": "execute_result"
    }
   ],
   "source": [
    "duet.store.pandas"
   ]
  },
  {
   "cell_type": "markdown",
   "id": "acd60646",
   "metadata": {},
   "source": [
    "We can create a pointer to the data in the duet store. Note that this is the reference to the data, not the actual data.\n"
   ]
  },
  {
   "cell_type": "code",
   "execution_count": 3,
   "id": "4de2548a",
   "metadata": {},
   "outputs": [],
   "source": [
    "data_ptr = duet.store[0]"
   ]
  },
  {
   "cell_type": "markdown",
   "id": "c333f797",
   "metadata": {},
   "source": [
    "Now, let's do some computation remotely"
   ]
  },
  {
   "cell_type": "code",
   "execution_count": 4,
   "id": "9ac6739a",
   "metadata": {},
   "outputs": [],
   "source": [
    "average_grade = data_ptr.float().mean()"
   ]
  },
  {
   "cell_type": "markdown",
   "id": "bac42c6f",
   "metadata": {},
   "source": [
    "After we have done the computation, let's try and get the result from the data owner's server."
   ]
  },
  {
   "cell_type": "code",
   "execution_count": 5,
   "id": "a9b2926e",
   "metadata": {
    "scrolled": true
   },
   "outputs": [
    {
     "name": "stderr",
     "output_type": "stream",
     "text": [
      "[2022-06-19T16:37:24.260967-0600][CRITICAL][logger]][15013] You do not have permission to .get() Object with ID: <UID: 0e6d0efcb06441db9d958e2006f5cbc8>Please submit a request.\n"
     ]
    },
    {
     "name": "stdout",
     "output_type": "stream",
     "text": [
      "<class 'Exception'>\n"
     ]
    }
   ],
   "source": [
    "try:\n",
    "    average_grade.get()\n",
    "except Exception:\n",
    "    print(Exception)"
   ]
  },
  {
   "cell_type": "markdown",
   "id": "91621810",
   "metadata": {},
   "source": [
    "Looks like we need to request for permission from the data owner. We can do this by using the .request with your reasoning inside."
   ]
  },
  {
   "cell_type": "code",
   "execution_count": 6,
   "id": "7463fb8f",
   "metadata": {},
   "outputs": [],
   "source": [
    "average_grade.request(reason = \"please, I need it\")"
   ]
  },
  {
   "cell_type": "markdown",
   "id": "42605aaa",
   "metadata": {},
   "source": [
    "<Strong>Step 5. Go to Data Owner Notebook <Strong/>"
   ]
  },
  {
   "cell_type": "markdown",
   "id": "fd3048bc",
   "metadata": {},
   "source": [
    "### Step 6. Let's try to get data from Data Owner"
   ]
  },
  {
   "cell_type": "code",
   "execution_count": 7,
   "id": "916d174a",
   "metadata": {},
   "outputs": [
    {
     "name": "stderr",
     "output_type": "stream",
     "text": [
      "[2022-06-19T16:37:35.877293-0600][CRITICAL][logger]][15013] You do not have permission to .get() Object with ID: <UID: 0e6d0efcb06441db9d958e2006f5cbc8>Please submit a request.\n"
     ]
    },
    {
     "name": "stdout",
     "output_type": "stream",
     "text": [
      "<class 'Exception'>\n"
     ]
    }
   ],
   "source": [
    "try:\n",
    "    average_grade.get()\n",
    "except Exception:\n",
    "    print(Exception)"
   ]
  },
  {
   "cell_type": "markdown",
   "id": "0ada22b6",
   "metadata": {},
   "source": [
    "Looks like our request didn't go through, let's create a new request with a better reasoning."
   ]
  },
  {
   "cell_type": "code",
   "execution_count": 8,
   "id": "653119c5",
   "metadata": {},
   "outputs": [],
   "source": [
    "average_grade.request(\n",
    "    reason = \"I am a data scientist and I need to know the average of the students' grades for my analysis\"\n",
    ")"
   ]
  },
  {
   "cell_type": "markdown",
   "id": "31ddde4a",
   "metadata": {},
   "source": [
    "<Strong>Step 7. Go to Data Owner Notebook <Strong/>"
   ]
  },
  {
   "cell_type": "markdown",
   "id": "0f06df08",
   "metadata": {},
   "source": [
    "### Step 8. Get Result Data"
   ]
  },
  {
   "cell_type": "markdown",
   "id": "8acdc6ad",
   "metadata": {},
   "source": [
    "We can check if there are still outstanding requests by running the following block"
   ]
  },
  {
   "cell_type": "code",
   "execution_count": 9,
   "id": "26edb372",
   "metadata": {},
   "outputs": [
    {
     "data": {
      "text/html": [
       "<div>\n",
       "<style scoped>\n",
       "    .dataframe tbody tr th:only-of-type {\n",
       "        vertical-align: middle;\n",
       "    }\n",
       "\n",
       "    .dataframe tbody tr th {\n",
       "        vertical-align: top;\n",
       "    }\n",
       "\n",
       "    .dataframe thead th {\n",
       "        text-align: right;\n",
       "    }\n",
       "</style>\n",
       "<table border=\"1\" class=\"dataframe\">\n",
       "  <thead>\n",
       "    <tr style=\"text-align: right;\">\n",
       "      <th></th>\n",
       "    </tr>\n",
       "  </thead>\n",
       "  <tbody>\n",
       "  </tbody>\n",
       "</table>\n",
       "</div>"
      ],
      "text/plain": [
       "Empty DataFrame\n",
       "Columns: []\n",
       "Index: []"
      ]
     },
     "execution_count": 9,
     "metadata": {},
     "output_type": "execute_result"
    }
   ],
   "source": [
    "duet.requests.pandas"
   ]
  },
  {
   "cell_type": "markdown",
   "id": "6af6ec36",
   "metadata": {},
   "source": [
    "Looks like our request went through, now let's get the data"
   ]
  },
  {
   "cell_type": "code",
   "execution_count": 10,
   "id": "b7d12183",
   "metadata": {},
   "outputs": [
    {
     "name": "stdout",
     "output_type": "stream",
     "text": [
      "tensor(81.1667)\n"
     ]
    }
   ],
   "source": [
    "avg = average_grade.get()\n",
    "print(avg)"
   ]
  },
  {
   "cell_type": "markdown",
   "id": "9d67fd88",
   "metadata": {},
   "source": [
    "<Strong>Step 9. Go to Data Owner Notebook <Strong/>"
   ]
  },
  {
   "cell_type": "markdown",
   "id": "1a982c8c",
   "metadata": {},
   "source": [
    "### Step 10. Machine Learning with Duet MNIST"
   ]
  },
  {
   "cell_type": "markdown",
   "id": "1eb17b69",
   "metadata": {},
   "source": [
    "# MNIST with Duet <a class = \"anchor\" id = \"mnist\" />"
   ]
  },
  {
   "cell_type": "markdown",
   "id": "de566c4b",
   "metadata": {},
   "source": [
    "## Part 1: Connect to Remote Duet Server (Done above) <a class = \"anchor\" id = \"part1\" />"
   ]
  },
  {
   "cell_type": "markdown",
   "id": "2fc3fc40",
   "metadata": {},
   "source": [
    "## Part 2: Setting up Model and Data <a class = \"anchor\" id = \"part2\"/>"
   ]
  },
  {
   "cell_type": "code",
   "execution_count": 11,
   "id": "3233e440",
   "metadata": {},
   "outputs": [],
   "source": [
    "import torch\n",
    "import torchvision"
   ]
  },
  {
   "cell_type": "markdown",
   "id": "11023020",
   "metadata": {},
   "source": [
    "Note that here, instead of traditionally inheriting from the nn.Module, we inherit from sy.Module, and we also need to pass in a variable called torch_ref when we constuct this network, the torch_ref will be used internally for any calls that would normally be to torch."
   ]
  },
  {
   "cell_type": "code",
   "execution_count": 12,
   "id": "5a81ea27",
   "metadata": {},
   "outputs": [],
   "source": [
    "class SyNet(sy.Module):\n",
    "    def __init__(self, torch_ref):\n",
    "        super(SyNet, self).__init__(torch_ref=torch_ref)\n",
    "        self.conv1 = self.torch_ref.nn.Conv2d(1, 32, 3, 1)\n",
    "        self.conv2 = self.torch_ref.nn.Conv2d(32, 64, 3, 1) \n",
    "        self.dropout1 = self.torch_ref.nn.Dropout2d(0.25)\n",
    "        self.dropout2 = self.torch_ref.nn.Dropout2d(0.5)\n",
    "        self.fc1 = self.torch_ref.nn.Linear(9216, 128)\n",
    "        self.fc2 = self.torch_ref.nn.Linear(128, 10)\n",
    "\n",
    "    def forward(self, x):\n",
    "        x = self.conv1(x)\n",
    "        x = self.torch_ref.nn.functional.relu(x)\n",
    "        x = self.conv2(x)\n",
    "        x = self.torch_ref.nn.functional.relu(x)\n",
    "        x = self.torch_ref.nn.functional.max_pool2d(x, 2)\n",
    "        x = self.dropout1(x)\n",
    "        x = self.torch_ref.flatten(x, 1)\n",
    "        x = self.fc1(x)\n",
    "        x = self.torch_ref.nn.functional.relu(x)\n",
    "        x = self.dropout2(x)\n",
    "        x = self.fc2(x)\n",
    "        output = self.torch_ref.nn.functional.log_softmax(x, dim=1)\n",
    "        return output"
   ]
  },
  {
   "cell_type": "code",
   "execution_count": 13,
   "id": "5e29a3cd",
   "metadata": {},
   "outputs": [],
   "source": [
    "# We can create the model and pass in our local copy of torch\n",
    "local_model = SyNet(torch)"
   ]
  },
  {
   "cell_type": "code",
   "execution_count": 14,
   "id": "c363708c",
   "metadata": {},
   "outputs": [],
   "source": [
    "# Lets define a few settings which are from the original MNIST example command-line args\n",
    "args = {\n",
    "    \"batch_size\": 64,\n",
    "    \"test_batch_size\": 1000,\n",
    "    \"epochs\": 3,\n",
    "    \"lr\": 0.01,\n",
    "    \"gamma\": 0.7,\n",
    "    \"no_cuda\": False,\n",
    "    \"dry_run\": False,\n",
    "    \"seed\": 42, \n",
    "    \"log_interval\": 10,\n",
    "    \"save_model\": True,\n",
    "}"
   ]
  },
  {
   "cell_type": "markdown",
   "id": "7b113f88",
   "metadata": {},
   "source": [
    "Now we can send our local model to our partner's Duet server"
   ]
  },
  {
   "cell_type": "code",
   "execution_count": 15,
   "id": "949f4e86",
   "metadata": {},
   "outputs": [],
   "source": [
    "model = local_model.send(duet)"
   ]
  },
  {
   "cell_type": "markdown",
   "id": "9e4754a4",
   "metadata": {},
   "source": [
    "We can create an alias for our partner's torch called `remote_torch`, we do this so we can refer to the local torch as `torch` and any operations we want to do remotely as `remote_torch`. Remeber that the return values from `remote_torch` are Pointers, not the actual objects themselves. Keep in mind that you cannot mix the pointers with local torch objects."
   ]
  },
  {
   "cell_type": "code",
   "execution_count": 16,
   "id": "449f8936",
   "metadata": {},
   "outputs": [],
   "source": [
    "remote_torch = duet.torch"
   ]
  },
  {
   "cell_type": "code",
   "execution_count": 17,
   "id": "de6d2dc4",
   "metadata": {},
   "outputs": [
    {
     "name": "stdout",
     "output_type": "stream",
     "text": [
      "False\n",
      "Data Owner device is cpu\n"
     ]
    }
   ],
   "source": [
    "# We can ask to see if the data owner has CUDA\n",
    "has_cuda = False\n",
    "has_cuda_ptr = remote_torch.cuda.is_available()\n",
    "has_cuda = bool(has_cuda_ptr.get(\n",
    "    request_block=True,\n",
    "    reason=\"To run test and inference locally\",\n",
    "    timeout_secs=20,  # change to something slower\n",
    "))\n",
    "print(has_cuda)\n",
    "\n",
    "use_cuda = not args[\"no_cuda\"] and has_cuda\n",
    "# now we can set the seed\n",
    "remote_torch.manual_seed(args[\"seed\"])\n",
    "\n",
    "device = remote_torch.device(\"cuda\" if use_cuda else \"cpu\")\n",
    "print(f\"Data Owner device is {device.type.get()}\")"
   ]
  },
  {
   "cell_type": "code",
   "execution_count": 18,
   "id": "ef496461",
   "metadata": {},
   "outputs": [],
   "source": [
    "# if we have CUDA lets send our model to the GPU\n",
    "if has_cuda:\n",
    "    model.cuda(device)\n",
    "else:\n",
    "    model.cpu()"
   ]
  },
  {
   "cell_type": "markdown",
   "id": "399792f4",
   "metadata": {},
   "source": [
    "Get parameters, setup an optimizer and scheduler just like you would do in Pytorch"
   ]
  },
  {
   "cell_type": "code",
   "execution_count": 19,
   "id": "62ae0724",
   "metadata": {},
   "outputs": [],
   "source": [
    "params = model.parameters()"
   ]
  },
  {
   "cell_type": "code",
   "execution_count": 20,
   "id": "4b6f39f6",
   "metadata": {},
   "outputs": [],
   "source": [
    "optimizer = remote_torch.optim.Adadelta(params, lr=args[\"lr\"])"
   ]
  },
  {
   "cell_type": "code",
   "execution_count": 21,
   "id": "b90f76b0",
   "metadata": {},
   "outputs": [],
   "source": [
    "scheduler = remote_torch.optim.lr_scheduler.StepLR(optimizer, step_size=1, gamma=args[\"gamma\"])"
   ]
  },
  {
   "cell_type": "markdown",
   "id": "f7e0daa2",
   "metadata": {},
   "source": [
    "Next we need a training loop so we can improve our remote model. Since we want to train on remote data we should first check if the model is remote since we will be using remote_torch in this function. To check if a model is local or remote simply use the `.is_local` attribute."
   ]
  },
  {
   "cell_type": "code",
   "execution_count": 22,
   "id": "af9d6561",
   "metadata": {},
   "outputs": [],
   "source": [
    "def train(model, torch_ref, train_loader, optimizer, epoch, args, train_data_length):\n",
    "    # + 0.5 lets us math.ceil without the import\n",
    "    train_batches = round((train_data_length / args[\"batch_size\"]) + 0.5)\n",
    "    print(f\"> Running train in {train_batches} batches\")\n",
    "    if model.is_local:\n",
    "        print(\"Training requires remote model\")\n",
    "        return\n",
    "\n",
    "    model.train()\n",
    "\n",
    "    for batch_idx, data in enumerate(train_loader):\n",
    "        data_ptr, target_ptr = data[0], data[1]\n",
    "        optimizer.zero_grad()\n",
    "        output = model(data_ptr)\n",
    "        loss = torch_ref.nn.functional.nll_loss(output, target_ptr)\n",
    "        loss.backward()\n",
    "        optimizer.step()\n",
    "        loss_item = loss.item()\n",
    "        train_loss = duet.python.Float(0)  # create a remote Float we can use for summation\n",
    "        train_loss += loss_item\n",
    "        if batch_idx % args[\"log_interval\"] == 0:\n",
    "            local_loss = None\n",
    "            local_loss = loss_item.get(\n",
    "                reason=\"To evaluate training progress\",\n",
    "                request_block=True,\n",
    "                timeout_secs=5\n",
    "            )\n",
    "            if local_loss is not None:\n",
    "                print(\"Train Epoch: {} {} Loss: {:.4}\".format(epoch, batch_idx, local_loss))\n",
    "            else:\n",
    "                print(\"Train Epoch: {} {} ?\".format(epoch, batch_idx))\n",
    "        if batch_idx >= train_batches - 1:\n",
    "            print(\"batch_idx >= train_batches, breaking\")\n",
    "            break\n",
    "        if args[\"dry_run\"]:\n",
    "            break"
   ]
  },
  {
   "cell_type": "code",
   "execution_count": 23,
   "id": "2e07bd10",
   "metadata": {},
   "outputs": [],
   "source": [
    "def test_local(model, torch_ref, test_loader, test_data_length):\n",
    "    # download remote model\n",
    "    if not model.is_local:\n",
    "        local_model = model.get(\n",
    "            request_block=True,\n",
    "            reason=\"test evaluation\",\n",
    "            timeout_secs=5\n",
    "        )\n",
    "    else:\n",
    "        local_model = model\n",
    "    # + 0.5 lets us math.ceil without the import\n",
    "    test_batches = round((test_data_length / args[\"test_batch_size\"]) + 0.5)\n",
    "    print(f\"> Running test_local in {test_batches} batches\")\n",
    "    local_model.eval()\n",
    "    test_loss = 0.0\n",
    "    correct = 0.0\n",
    "\n",
    "    with torch_ref.no_grad():\n",
    "        for batch_idx, (data, target) in enumerate(test_loader):\n",
    "            output = local_model(data)\n",
    "            iter_loss = torch_ref.nn.functional.nll_loss(output, target, reduction=\"sum\").item()\n",
    "            test_loss = test_loss + iter_loss\n",
    "            pred = output.argmax(dim=1)\n",
    "            total = pred.eq(target).sum().item()\n",
    "            correct += total\n",
    "            if args[\"dry_run\"]:\n",
    "                break\n",
    "                \n",
    "            if batch_idx >= test_batches - 1:\n",
    "                print(\"batch_idx >= test_batches, breaking\")\n",
    "                break\n",
    "\n",
    "    accuracy = correct / test_data_length\n",
    "    print(f\"Test Set Accuracy: {100 * accuracy}%\")"
   ]
  },
  {
   "cell_type": "code",
   "execution_count": 24,
   "id": "19fef361",
   "metadata": {},
   "outputs": [
    {
     "name": "stdout",
     "output_type": "stream",
     "text": [
      "10000\n"
     ]
    }
   ],
   "source": [
    "# we need some transforms for the MNIST data set\n",
    "local_transform_1 = torchvision.transforms.ToTensor()  # this converts PIL images to Tensors\n",
    "local_transform_2 = torchvision.transforms.Normalize(0.1307, 0.3081)  # this normalizes the dataset\n",
    "\n",
    "# compose our transforms\n",
    "local_transforms = torchvision.transforms.Compose([local_transform_1, local_transform_2])\n",
    "from syft.util import get_root_data_path\n",
    "# we will configure the test set here locally since we want to know if our Data Owner's\n",
    "# private training dataset will help us reach new SOTA results for our benchmark test set\n",
    "test_kwargs = {\n",
    "    \"batch_size\": args[\"test_batch_size\"],\n",
    "}\n",
    "\n",
    "test_data = torchvision.datasets.MNIST(str(get_root_data_path()), train=False, download=True, transform=local_transforms)\n",
    "test_loader = torch.utils.data.DataLoader(test_data,**test_kwargs)\n",
    "test_data_length = len(test_loader.dataset)\n",
    "print(test_data_length)\n"
   ]
  },
  {
   "cell_type": "code",
   "execution_count": 25,
   "id": "1c6e97c8",
   "metadata": {},
   "outputs": [],
   "source": [
    "# we need some transforms for the MNIST data set\n",
    "remote_torchvision = duet.torchvision\n",
    "\n",
    "transform_1 = remote_torchvision.transforms.ToTensor()  # this converts PIL images to Tensors\n",
    "transform_2 = remote_torchvision.transforms.Normalize(0.1307, 0.3081)  # this normalizes the dataset\n",
    "\n",
    "remote_list = duet.python.List()  # create a remote list to add the transforms to\n",
    "remote_list.append(transform_1)\n",
    "remote_list.append(transform_2)\n",
    "\n",
    "# compose our transforms\n",
    "transforms = remote_torchvision.transforms.Compose(remote_list)\n",
    "\n",
    "# The DO has kindly let us initialise a DataLoader for their training set\n",
    "train_kwargs = {\n",
    "    \"batch_size\": args[\"batch_size\"],\n",
    "}\n",
    "train_data_ptr = remote_torchvision.datasets.MNIST(str(get_root_data_path()), train=True, download=True, transform=transforms)\n",
    "train_loader_ptr = remote_torch.utils.data.DataLoader(train_data_ptr,**train_kwargs)"
   ]
  },
  {
   "cell_type": "code",
   "execution_count": 26,
   "id": "dd0a1b40",
   "metadata": {},
   "outputs": [
    {
     "name": "stdout",
     "output_type": "stream",
     "text": [
      "Training Dataset size is: 60000\n"
     ]
    }
   ],
   "source": [
    "# normally we would not necessarily know the length of a remote dataset so lets ask for it\n",
    "# so we can pass that to our training loop and know when to stop\n",
    "def get_train_length(train_data_ptr):\n",
    "    train_data_length = len(train_data_ptr)\n",
    "    return train_data_length\n",
    "\n",
    "try:\n",
    "    if train_data_length is None:\n",
    "        train_data_length = get_train_length(train_data_ptr)\n",
    "except NameError:\n",
    "        train_data_length = get_train_length(train_data_ptr)\n",
    "\n",
    "print(f\"Training Dataset size is: {train_data_length}\")"
   ]
  },
  {
   "cell_type": "markdown",
   "id": "73cb2603",
   "metadata": {},
   "source": [
    "## Part 3: Training\n"
   ]
  },
  {
   "cell_type": "code",
   "execution_count": null,
   "id": "e8cac2b3",
   "metadata": {
    "scrolled": false
   },
   "outputs": [],
   "source": [
    "import time\n",
    "\n",
    "#args[\"dry_run\"] = True  # comment to do a full train\n",
    "print(\"Starting Training\")\n",
    "for epoch in range(1, args[\"epochs\"] + 1):\n",
    "    epoch_start = time.time()\n",
    "    print(f\"Epoch: {epoch}\")\n",
    "    # remote training on model with remote_torch\n",
    "    train(model, remote_torch, train_loader_ptr, optimizer, epoch, args, train_data_length)\n",
    "    # local testing on model with local torch\n",
    "    test_local(model, torch, test_loader, test_data_length)\n",
    "    scheduler.step()\n",
    "    epoch_end = time.time()\n",
    "    print(f\"Epoch time: {int(epoch_end - epoch_start)} seconds\")\n",
    "    if args[\"dry_run\"]:\n",
    "        break\n",
    "print(\"Finished Training\")"
   ]
  },
  {
   "cell_type": "code",
   "execution_count": 28,
   "id": "b5676a0c",
   "metadata": {
    "scrolled": true
   },
   "outputs": [],
   "source": [
    "if args[\"save_model\"]:\n",
    "    model.get(\n",
    "        request_block=True,\n",
    "        reason=\"test evaluation\",\n",
    "        timeout_secs=5\n",
    "    ).save(\"./duet_mnist.pt\")"
   ]
  },
  {
   "cell_type": "markdown",
   "id": "1799ad08",
   "metadata": {},
   "source": [
    "## Part 4: Inference"
   ]
  },
  {
   "cell_type": "markdown",
   "id": "057bf847",
   "metadata": {},
   "source": [
    "Now we can use our model to do inference either remotely or locally."
   ]
  },
  {
   "cell_type": "code",
   "execution_count": 29,
   "id": "66102959",
   "metadata": {},
   "outputs": [],
   "source": [
    "import matplotlib.pyplot as plt\n",
    "def draw_image_and_label(image, label):\n",
    "    fig = plt.figure()\n",
    "    plt.tight_layout()\n",
    "    plt.imshow(image, cmap=\"gray\", interpolation=\"none\")\n",
    "    plt.title(\"Ground Truth: {}\".format(label))\n",
    "    \n",
    "def prep_for_inference(image):\n",
    "    image_batch = image.unsqueeze(0).unsqueeze(0)\n",
    "    image_batch = image_batch * 1.0\n",
    "    return image_batch"
   ]
  },
  {
   "cell_type": "code",
   "execution_count": 30,
   "id": "3de30da6",
   "metadata": {},
   "outputs": [],
   "source": [
    "def classify_local(image, model):\n",
    "    if not model.is_local:\n",
    "        print(\"model is remote try .get()\")\n",
    "        return -1, torch.Tensor([-1])\n",
    "    image_tensor = torch.Tensor(prep_for_inference(image))\n",
    "    output = model(image_tensor)\n",
    "    preds = torch.exp(output)\n",
    "    local_y = preds\n",
    "    local_y = local_y.squeeze()\n",
    "    pos = local_y == max(local_y)\n",
    "    index = torch.nonzero(pos, as_tuple=False)\n",
    "    class_num = index.squeeze()\n",
    "    return class_num, local_y"
   ]
  },
  {
   "cell_type": "code",
   "execution_count": 31,
   "id": "0a660212",
   "metadata": {},
   "outputs": [],
   "source": [
    "def classify_remote(image, model):\n",
    "    if model.is_local:\n",
    "        print(\"model is local try .send()\")\n",
    "        return -1, remote_torch.Tensor([-1])\n",
    "    image_tensor_ptr = remote_torch.Tensor(prep_for_inference(image))\n",
    "    output = model(image_tensor_ptr)\n",
    "    preds = remote_torch.exp(output)\n",
    "    preds_result = preds.get(\n",
    "        request_block=True,\n",
    "        reason=\"To see a real world example of inference\",\n",
    "        timeout_secs=10\n",
    "    )\n",
    "    if preds_result is None:\n",
    "        print(\"No permission to do inference, request again\")\n",
    "        return -1, torch.Tensor([-1])\n",
    "    else:\n",
    "        # now we have the local tensor we can use local torch\n",
    "        local_y = torch.Tensor(preds_result)\n",
    "        local_y = local_y.squeeze()\n",
    "        pos = local_y == max(local_y)\n",
    "        index = torch.nonzero(pos, as_tuple=False)\n",
    "        class_num = index.squeeze()\n",
    "        return class_num, local_y"
   ]
  },
  {
   "cell_type": "code",
   "execution_count": 32,
   "id": "e894181b",
   "metadata": {},
   "outputs": [
    {
     "name": "stdout",
     "output_type": "stream",
     "text": [
      "Random Test Image: 1192\n",
      "Displaying 1192 == 192 in Batch: 1/10\n"
     ]
    },
    {
     "data": {
      "image/png": "[encoded data removed]",
      "text/plain": [
       "<Figure size 432x288 with 1 Axes>"
      ]
     },
     "metadata": {
      "needs_background": "light"
     },
     "output_type": "display_data"
    }
   ],
   "source": [
    "# lets grab something from the test set\n",
    "import random\n",
    "total_images = test_data_length # 10000\n",
    "index = random.randint(0, total_images)\n",
    "print(\"Random Test Image:\", index)\n",
    "count = 0\n",
    "batch = index // test_kwargs[\"batch_size\"]\n",
    "batch_index = index % int(total_images / len(test_loader))\n",
    "for tensor_ptr in test_loader:\n",
    "    data, target = tensor_ptr[0], tensor_ptr[1]\n",
    "    if batch == count:\n",
    "        break\n",
    "    count += 1\n",
    "\n",
    "print(f\"Displaying {index} == {batch_index} in Batch: {batch}/{len(test_loader)}\")\n",
    "if batch_index > len(data):\n",
    "    batch_index = 0\n",
    "image_1 = data[batch_index].reshape((28, 28))\n",
    "label_1 = target[batch_index]\n",
    "draw_image_and_label(image_1, label_1)"
   ]
  },
  {
   "cell_type": "code",
   "execution_count": 33,
   "id": "95d1f8de",
   "metadata": {},
   "outputs": [
    {
     "name": "stdout",
     "output_type": "stream",
     "text": [
      "Prediction: 4 Ground Truth: 9\n",
      "tensor([1.3907e-04, 5.6652e-04, 2.7458e-04, 4.1249e-03, 7.1542e-01, 3.2733e-03,\n",
      "        2.5919e-03, 2.5418e-02, 2.2922e-02, 2.2527e-01],\n",
      "       grad_fn=<SqueezeBackward0>)\n"
     ]
    }
   ],
   "source": [
    "# classify remote\n",
    "class_num, preds = classify_remote(image_1, model)\n",
    "print(f\"Prediction: {class_num} Ground Truth: {label_1}\")\n",
    "print(preds)"
   ]
  },
  {
   "cell_type": "code",
   "execution_count": 34,
   "id": "46a6e09b",
   "metadata": {},
   "outputs": [],
   "source": [
    "# getting our model \n",
    "local_model = model.get(\n",
    "    request_block=True,\n",
    "    reason=\"To run test and inference locally\",\n",
    "    timeout_secs=5,\n",
    ")"
   ]
  },
  {
   "cell_type": "code",
   "execution_count": 35,
   "id": "274eeea4",
   "metadata": {},
   "outputs": [
    {
     "name": "stdout",
     "output_type": "stream",
     "text": [
      "Prediction: 4 Ground Truth: 9\n",
      "tensor([0.0020, 0.0041, 0.0078, 0.0385, 0.2883, 0.1381, 0.0244, 0.0568, 0.2300,\n",
      "        0.2100], grad_fn=<SqueezeBackward0>)\n"
     ]
    }
   ],
   "source": [
    "# classify local\n",
    "class_num, preds = classify_local(image_1, local_model)\n",
    "print(f\"Prediction: {class_num} Ground Truth: {label_1}\")\n",
    "# here we can see the actual output\n",
    "print(preds)"
   ]
  },
  {
   "cell_type": "code",
   "execution_count": 36,
   "id": "a2636e1a",
   "metadata": {},
   "outputs": [],
   "source": [
    "# We can also download an image from the web and run inference on that\n",
    "from PIL import Image, ImageEnhance\n",
    "import PIL.ImageOps    \n",
    "\n",
    "import os\n",
    "def classify_url_image(image_url):\n",
    "    filename = os.path.basename(image_url)\n",
    "    os.system(f'curl -O {image_url}')\n",
    "    im = Image.open(filename)\n",
    "    im = PIL.ImageOps.invert(im)\n",
    "#     im = im.resize((28,28), Image.ANTIALIAS)\n",
    "    im = im.convert('LA')\n",
    "    enhancer = ImageEnhance.Brightness(im)\n",
    "    im = enhancer.enhance(3)\n",
    "\n",
    "\n",
    "    print(im.size)\n",
    "    fig = plt.figure()\n",
    "    plt.tight_layout()\n",
    "    plt.imshow(im, cmap=\"gray\", interpolation=\"none\")\n",
    "    \n",
    "    # classify local\n",
    "    class_num, preds = classify_local(image_1, local_model)\n",
    "    print(f\"Prediction: {class_num}\")\n",
    "    print(preds)"
   ]
  },
  {
   "cell_type": "code",
   "execution_count": 37,
   "id": "904fd996",
   "metadata": {},
   "outputs": [
    {
     "name": "stderr",
     "output_type": "stream",
     "text": [
      "  % Total    % Received % Xferd  Average Speed   Time    Time     Time  Current\n",
      "                                 Dload  Upload   Total   Spent    Left  Speed\n",
      "  0     0    0     0    0     0      0      0 --:--:-- --:--:-- --:--:--     0"
     ]
    },
    {
     "name": "stdout",
     "output_type": "stream",
     "text": [
      "(89, 93)\n",
      "Prediction: 4\n",
      "tensor([0.0007, 0.0016, 0.0049, 0.0291, 0.4118, 0.0332, 0.0071, 0.0289, 0.0928,\n",
      "        0.3899], grad_fn=<SqueezeBackward0>)\n"
     ]
    },
    {
     "name": "stderr",
     "output_type": "stream",
     "text": [
      "\r",
      "100  4655  100  4655    0     0   3819      0  0:00:01  0:00:01 --:--:--  3840\r",
      "100  4655  100  4655    0     0   3819      0  0:00:01  0:00:01 --:--:--  3840\n"
     ]
    },
    {
     "data": {
      "image/png": "[encoded data removed]",
      "text/plain": [
       "<Figure size 432x288 with 1 Axes>"
      ]
     },
     "metadata": {
      "needs_background": "light"
     },
     "output_type": "display_data"
    }
   ],
   "source": [
    "image_url = \"https://raw.githubusercontent.com/kensanata/numbers/master/0018_CHXX/0/number-100.png\"\n",
    "classify_url_image(image_url)"
   ]
  },
  {
   "cell_type": "markdown",
   "id": "9b6c3839",
   "metadata": {},
   "source": [
    "## Where to go next? <a class = \"anchor\" id = \"next\" />\n"
   ]
  },
  {
   "cell_type": "markdown",
   "id": "590d8a60",
   "metadata": {},
   "source": [
    "* https://courses.openmined.org/\n",
    "    OpenMined(PySyft).\n",
    "    This is where I learned most of the federated learning material, and they have a great series on private AI technologies. Highly recommend.\n",
    "<hr/>\n",
    "* https://flower.dev/\n",
    "    Flower\n",
    "    Another federated learning framework.\n",
    "<hr/>\n",
    "* https://www.tensorflow.org/federated\n",
    "    Tensorflow Federated. Integrates very nicely with Tensorflow.\n",
    "<br/> <br/>"
   ]
  },
  {
   "cell_type": "markdown",
   "id": "892b7a76",
   "metadata": {},
   "source": [
    "## Acknowledgement\n",
    "I would like to use this last section by thanking the support of my professor Yves Pauchard, and the DE Followship group. As well as the OpenMined Organization for innovating and building technology for the future, their work has inspired me to pursue more research and learning in the field of federated learning and I am extremely thankful. \n",
    "<br/> <br/>\n",
    "![MVPUrl](https://media.giphy.com/media/GVMhZwYv8U5NK/giphy.gif \"MVP\")\n"
   ]
  },
  {
   "cell_type": "code",
   "execution_count": null,
   "id": "ea6fd89d",
   "metadata": {},
   "outputs": [],
   "source": []
  }
 ],
 "metadata": {
  "kernelspec": {
   "display_name": "Python 3 (ipykernel)",
   "language": "python",
   "name": "python3"
  },
  "language_info": {
   "codemirror_mode": {
    "name": "ipython",
    "version": 3
   },
   "file_extension": ".py",
   "mimetype": "text/x-python",
   "name": "python",
   "nbconvert_exporter": "python",
   "pygments_lexer": "ipython3",
   "version": "3.9.12"
  }
 },
 "nbformat": 4,
 "nbformat_minor": 5
}
