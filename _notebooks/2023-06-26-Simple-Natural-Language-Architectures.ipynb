{
 "cells": [
  {
   "cell_type": "markdown",
   "metadata": {
    "id": "9HNrz-ebYKR-"
   },
   "source": [
    "# \"From Tokenization To ChatGPT - Early Language Models\"\n",
    "- toc: true\n",
    "- branch: master\n",
    "- badges: true\n",
    "- comments: true\n",
    "- author: Tyler Carmichael\n",
    "- categories: [Python, Pytorch, deep learning, NLP]"
   ]
  },
  {
   "cell_type": "markdown",
   "metadata": {},
   "source": [
    "Last modified: June 26, 2023\n",
    "\n",
    "Before reading this blog, it is recommended to be familiar with natural language processing concepts in week 11 of ENDG 411 and week 12 of ENDG 410. This blog focuses on advanced topics with PyTorch modelling, embedding and tokenization. This will help greatly in understanding this blog post.\n",
    "\n",
    "More information using fastai is covered in *Chapter 10: NLP Deep Dive: RNNs Introduction to (and including) Chapter 10: Text Preprocessing Pages 329 - 338.* N-Gram models are covered in Chapter 7 Working with text data - 7.7 Bag of Words with more than one word Pages 329-350."
   ]
  },
  {
   "cell_type": "markdown",
   "metadata": {
    "id": "iPCml92qDdWq"
   },
   "source": [
    "## Blog Goal\n",
    "\n",
    "This blog will focus on natural language processing based on the concepts covered in the Digital Engineering 411 course. This blog moves the goalpost of the program from a sentiment analysis and basic tokenization up to natural language technology up to June, 2023. The outcome of the blog is to:\n",
    "\n",
    "1. Become more familiarized with natural language processing principles.\n",
    "1. Explore and create several different language model architectures using PyTorch and Tensorflow.\n",
    "\n",
    "During this blog, Google Colab is used to create, train, and run models. Google Colab can be found at https://colab.research.google.com/."
   ]
  },
  {
   "cell_type": "markdown",
   "metadata": {
    "id": "HKg7tQfTYKSA"
   },
   "source": [
    "## What Is Natural Language Processing and ChatGPT\n",
    "\n",
    "Natural language processing (NLP) is an interdisciplinary field of linguistics, computer science, and artificial intelligence, which focuses on the ability for a computer to interact with human language. Since languages have structure, computers can learn to interpret the structure and accurately recreate that structure. The structure is useful in sentimental analysis, speech recognition, language translations, or even predicting test (in other words, the creation of a chat bot). Chat bots have existed since 1940s and today the most advanced form is ChatGPT.\n",
    "\n",
    "# Evolution Of NLP\n",
    "\n",
    "### Before Statistic Based NLP\n",
    "The field of natural language processing (NLP), began in the 1940s through language translators. By 1958, researchers found issues with identifying grammar. Between 1957-1970, two divisions of research were created for NLP: symbolic and stochastic. Symbolic research focused on formal language and creating syntax. The other, stochastic research focused on statistical and probabilistic methods.\n",
    "\n",
    "After 1970, NLP research split further. There were logic-based encoding and language mathematical models (a programming language known as \"Prolog\"). Another type of research \"Natural language understanding\", developed by Professor Terry Winograd, placed a computer \"in a world of blocks\", enabling the computer to manipulate and answer questions about the blocks according to language instructions otherwise known as SHDRLU. This was one of the first noted machine learning models for NLP. The first recurrent neural networks (RNNs) were also trained during this time period with the first adaptive RNN architecture developed by Shun'ichi Amari in 1972.\n",
    "\n",
    "From 1983 to 1993 onward, research favored probabilistic and deterministic models. One of the famous systems was MYCLIN, which was for diagnosing blood infections. This favor toward statistical models was further reinforced by extracting data from information across the Internet (which began in the 1960s).\n",
    "\n",
    "#  Fundamental Language Models\n",
    "The term \"language model\" describes probabilistic and deterministic statistical model which focus on creating structured language. The main principle of language models is the reliance on Markov chains, which started with n-gram models (\"n\", representing the number of words which comes before a word). The Markov process is useful, since recurrent neural networks (RNNs) and transformer models rely heavily on it.\n",
    "\n",
    "Language models can be described as an entropy statistical model. Entropy is a relative calculation which describes the order of a state, in the form of probabilities. The idea is that there is a calculable value in different words and sentences (i.e. the structure of language can be calculated). To accomplish this, a Markov chain calculation can be done.\n",
    "\n",
    "## n-gram\n",
    "\n",
    "An n-gram model is based on a formula that describes the probability of the next word that occurs based on the probability of previous word(s). This can be abstracted using a Markov process. The formula for this is:\n",
    "\n",
    "> $P(w_{1},...,w_{m})=\\prod_{i=1}^{m}P(w_{i}|w_{1},...,w_{i-1})\\approx\\prod_{i=2}^{m}P(w_{i-(n-1)}|w_{1},...,w_{i-1})$\n",
    "\n",
    "For example, for n = 2 and i = 2, then the result is:\n",
    "\n",
    "> $P(w_{2}|w_{1})$\n",
    "\n",
    "\n",
    "For a bigram model (\"bi\" refers to n=2), the probability for a sentence \"the quick brown fox\" is:\n",
    "\n",
    "> $P(the,quick,brown,fox)\\approx P(the|<sos>)P(quick|the)P(brown|quick)P(fox|brown)P(<eos>|fox)$\n",
    "\n",
    "Where:\n",
    "*    \\<sos\\> represents the start of a sentence.\n",
    "*    \\<eos\\> represents the end of a sentence.\n",
    "\n",
    "### Exponential Representation\n",
    "\n",
    "Statistical variations using n-gram models were made by the generalized function\n",
    "\n",
    "> $P(w{i}|w_{1},...,w_{i-1})= \\frac{1}{Z(w_{1},...,w_{i-1})} exp(a^{T}f(w_{1},...,w_{i}))$\n",
    "\n",
    "Where:\n",
    "\n",
    "*   $Z(w_{1},...,w_{i-1})$ represents a partition function used to normalize the probability.\n",
    "\n",
    "*   \"a\" is a parameter vector.\n",
    "*   $f(w_{1},...,w_{i})$ is a feature function.\n",
    "\n",
    "This is otherwise known as a log-bilinear model."
   ]
  },
  {
   "cell_type": "markdown",
   "metadata": {
    "id": "vdzL3Dp_ABt2"
   },
   "source": [
    "#  Language Model Building Blocks\n",
    "\n",
    "## Recurrent Neural Networks (RNN)\n",
    "\n",
    "RNNs are a class of neural networks that can be described as blocks that create a state that may be cycled many times. This means that the black box acts as its own model. Let's call the RNN a black box. When we put data into the black box, the black box saves its state (memory). When the next item in the input data is added to the black box, the saved state of the black box interacts with this item, and updates its state again. This means for every item added, the previous items have an impact on the state and output of subsequent items. This is a time dependent property of RNNs. This follows a Markov process if the block is used to produce the probability of a word based on previous words.\n",
    "\n",
    "> Unlike feedforward neural networks (FFNN) such as deep neural\n",
    "networks (DNNs), the architecture of recurrent neural networks\n",
    "(RNNs) have cycles feeding the activations from previous time steps\n",
    "as input to the network to make a decision for the current input.\n",
    "\n",
    "The most basic interpretation of an RNN can be depicted in the following diagram:\n",
    "\n",
    "![alt text](natural_language_processing/Recurrent_neural_network_unfold.png \"https://en.wikipedia.org/wiki/Recurrent_neural_network#/media/File:Recurrent_neural_network_unfold.svg\")\n",
    "\n",
    "Picture \"x\" as one item in a 1D array. \"h\" represents the RNN block. We have \"v\" which represents the \"saved\" state of the block, which is passed on to each item in \"x\" after \"U\" operation. The output \"o\" is are target vector after \"W\" operation inside the block.\n",
    "\n",
    "There's not \"one way\" to design an RNN block. The main takeaway is that the block produces memory states that can be repeated over the entire length of input data.\n",
    "\n",
    "### Long Short-Term Memory (LSTM)\n",
    "\n",
    "LSTMs were designed to avoid the vanishing gradient problem. The vanishing gradient problem is an issue in deep learning where weights in a neural network cannot be updated due to the gradient of the loss to the weight being too small (i.e. the change of the weight is almost 0 for any input).\n",
    "\n",
    "LSTMs were first developed in 1995, by Sepp Hochreiter and Jürgen Schmidhuber.\n",
    "\n",
    "The architecture is broken down in the following:\n",
    "\n",
    "![alt text](natural_language_processing/1920px-Long_Short-Term_Memory.PNG \"https://en.wikipedia.org/wiki/Recurrent_neural_network#/media/File:Long_Short-Term_Memory.svg\")\n",
    "\n",
    "1. \"F\" is a forget gate (a neural network using sigmoid)\n",
    "\n",
    "1. \"I\" is an input gate (a neural network using sigmoid)\n",
    "\n",
    "1. \"O\" is an output gate (a neural network using sigmoid)\n",
    "\n",
    "1. \"H\" is a hidden state vector\n",
    "\n",
    "1. \"C\" is a memory state vector\n",
    "\n",
    "The input to an LSTM is \"x\", \"C\" and \"H\". both the memory state and hidden state are created in the LSTM. When the LSTM starts its cycle, \"C\" and \"H\" are both vectors filled with zeros, which are updated when more items are added. The math can be broken down further (https://arxiv.org/pdf/1402.1128.pdf).\n",
    "\n",
    "PyTorch has a class for LSTMs:\n",
    "\n",
    "```\n",
    "torch.nn.LSTM(*args, **kwargs)\n",
    "```\n",
    "\n"
   ]
  },
  {
   "cell_type": "markdown",
   "metadata": {
    "id": "8nA2fIfU7-U7"
   },
   "source": [
    "## Tokenization And Embedding\n",
    "\n",
    "A few concepts need to be recalled before moving forward. Tokenization is a process to convert a string into a list of tokens. This list contains a combination of words, punctuation, capitalization, the start or ending of the sentence to represent the entire sentence structure. This is useful since we want a model that can stop after a certain number of words. This list of tokens, which gets converted into a list of numbers, is then used as an input in language models."
   ]
  },
  {
   "cell_type": "markdown",
   "metadata": {
    "id": "JFvr6BK28pCR"
   },
   "source": [
    "For example, we can use the following sentence:\n",
    "\n"
   ]
  },
  {
   "cell_type": "markdown",
   "metadata": {
    "id": "mMGTFsLVFd-1"
   },
   "source": [
    "> \"The US dollar \\$1 is \\$1.00.\""
   ]
  },
  {
   "cell_type": "markdown",
   "metadata": {
    "id": "txUzjOdbFeTr"
   },
   "source": [
    "Using the tokenizer function \"WordTokenizer()\" in torchtext.data.utils (PyTorch) creates the following array using the default spacy tokenizer:"
   ]
  },
  {
   "cell_type": "markdown",
   "metadata": {
    "id": "tRMgsr-g9gAq"
   },
   "source": [
    "> $['The',\\ 'U.S.',\\ 'dollar',\\ '\\$',\\ '1',\\ 'is',\\ '\\$',\\ '1.00',\\ '.']$"
   ]
  },
  {
   "cell_type": "markdown",
   "metadata": {
    "id": "zmHxjKEd9k1B"
   },
   "source": [
    "Based on the above, the function \"WordTokenizer()\" has organized the sentence into a format that can be converted into a token. Each token can be converted into a unique number saved in a dictionary of tokens. Likewise, the unique number can be converted back into a token. For a blank dictionary, adding each item in the list would look like:\n",
    "\n"
   ]
  },
  {
   "cell_type": "markdown",
   "metadata": {
    "id": "71uxllgi_G6K"
   },
   "source": [
    "> $[1,\\ 2,\\ 3,\\ 4,\\ 5,\\ 6,\\ 4,\\ 7,\\ 8]$"
   ]
  },
  {
   "cell_type": "markdown",
   "metadata": {
    "id": "wqjkQ4C4_VFi"
   },
   "source": [
    "When a language model receives this list, a function called embedding will map the list into a higher dimensional category vector. in PyTorch, the specific function is:\n",
    "```\n",
    "torch.nn.Embedding(vocab_size, embedding_dim)\n",
    "```\n",
    "Where \"vocab_size\" is our dictionary, and \"embedding_dim\" is the size of the mapping vector, which is a 1D array. In the example above, we have 8 items in our dictionary, which can be mapped to \"embedding_dim\". The output changes depending on whether we use a 2D or 1D array later on.\n",
    "\n",
    " This mapping can be generalized using the expression:"
   ]
  },
  {
   "cell_type": "markdown",
   "metadata": {
    "id": "jH3Bw02qAhMb"
   },
   "source": [
    "$f:X\\rightarrow Y$"
   ]
  },
  {
   "cell_type": "markdown",
   "metadata": {
    "id": "FVLExir5CXkq"
   },
   "source": [
    "Tokenization and embedding are used in all language models."
   ]
  },
  {
   "cell_type": "markdown",
   "metadata": {
    "id": "TyIh_tzeQqWU"
   },
   "source": [
    "# Architectures And Training\n",
    "\n",
    "There are a few language model architectures that will be created in this blog, starting from the simplest language model up to more complicated models that use transformers. These are the architectures:\n",
    "1. N-Gram\n",
    "1. LSTM (single RNN)\n",
    "1. Continuous Bag Of Words\n",
    "1. Skip-Gram\n",
    "\n",
    "Each architecture follows the format:\n",
    "1. A dataset class is created to manipulate data. This data is used as an input to each model.\n",
    "1. A model class is created.\n",
    "1. We run a process to train the model.\n",
    "1. Where applicable, each architecture is evaluated.\n",
    "\n",
    "Each model will use a Reddit joke dataset for training and evaluation. The data set can be found at https://github.com/amoudgl/short-jokes-dataset/blob/master/data/reddit-cleanjokes.csv.\n"
   ]
  },
  {
   "cell_type": "markdown",
   "metadata": {
    "id": "aGrwUPLpYKSC"
   },
   "source": [
    "## Libraries\n",
    "PyTorch, otherwise known as \"torch\" is the most supported deep learning library for Python. It was developed by Meta AI in September 2016. Google Colab is used to train models for this blog since Google Colab offers a cloud environment that runs Python, and resources to run PyTorch using Tesla K80 GPUs.\n"
   ]
  },
  {
   "cell_type": "code",
   "execution_count": 1,
   "metadata": {
    "colab": {
     "base_uri": "https://localhost:8080/"
    },
    "id": "EEZh2re7YKSC",
    "outputId": "bc694100-2da0-4118-a796-cfbfcf6fbbae"
   },
   "outputs": [
    {
     "name": "stdout",
     "output_type": "stream",
     "text": [
      "Drive already mounted at /content/drive/; to attempt to forcibly remount, call drive.mount(\"/content/drive/\", force_remount=True).\n"
     ]
    }
   ],
   "source": [
    "# Base Python libraries\n",
    "import pandas as pd\n",
    "from matplotlib import pyplot as plt\n",
    "from collections import Counter\n",
    "import random\n",
    "\n",
    "# PyTorch libraries\n",
    "import torch\n",
    "import torch.nn as nn\n",
    "import numpy as np\n",
    "from torch import nn, optim\n",
    "from torch.utils.data import DataLoader\n",
    "\n",
    "# Google Colab\n",
    "import gc\n",
    "from google.colab import drive\n",
    "drive.mount('/content/drive/')"
   ]
  },
  {
   "cell_type": "markdown",
   "metadata": {
    "id": "ymXxCAUUTgns"
   },
   "source": [
    "# Coding Early Language Model Architectures"
   ]
  },
  {
   "cell_type": "markdown",
   "metadata": {
    "id": "L9FlkMNxQ3kY"
   },
   "source": [
    "Model performance will be stored in the dictionary \"early_model_results\". We can see how each model performs at the end of the blog."
   ]
  },
  {
   "cell_type": "code",
   "execution_count": 2,
   "metadata": {
    "id": "kE6waInEQvZT"
   },
   "outputs": [],
   "source": [
    "early_model_results = {}"
   ]
  },
  {
   "cell_type": "markdown",
   "metadata": {
    "id": "sdyTWcMlYKSE"
   },
   "source": [
    "### Define Hyperparameters\n",
    "\n",
    "For this blog, we set the hyperparameters as follows. This allows us to compare different architectures on a like-to-like basis."
   ]
  },
  {
   "cell_type": "code",
   "execution_count": 3,
   "metadata": {
    "id": "TU5tvakatQ_r"
   },
   "outputs": [],
   "source": [
    "#utility for reporting loss results\n",
    "PRINT_LOSS_EVERY = 5"
   ]
  },
  {
   "cell_type": "code",
   "execution_count": 4,
   "metadata": {
    "colab": {
     "base_uri": "https://localhost:8080/"
    },
    "id": "QeC6QZYsYKSE",
    "outputId": "016db12c-2cfd-4a2f-e381-84f0773b1d75"
   },
   "outputs": [
    {
     "data": {
      "text/plain": [
       "<torch._C.Generator at 0x7fcafc831d70>"
      ]
     },
     "execution_count": 4,
     "metadata": {},
     "output_type": "execute_result"
    }
   ],
   "source": [
    "batch_size = 64 # how many independent sequences will we process in parallel\n",
    "block_size = 256 # what is the maximum context length for predictions\n",
    "MAX_EPOCHS = 81\n",
    "\n",
    "learning_rate = 1e-4\n",
    "n_embd = 384\n",
    "hidden_layer_size = 128\n",
    "lstm_size = 128\n",
    "\n",
    "torch.manual_seed(1337)"
   ]
  },
  {
   "cell_type": "code",
   "execution_count": 5,
   "metadata": {
    "id": "qBbADnuBVEV-"
   },
   "outputs": [],
   "source": [
    "device = 'cuda' if torch.cuda.is_available() else 'cpu'"
   ]
  },
  {
   "cell_type": "markdown",
   "metadata": {
    "id": "2yq7XXPkYKSE"
   },
   "source": [
    "### Training And Test Data\n",
    "\n",
    "Conversation from Reddit data was used for this lab, following Learning To Summarize From Human Feedback (https://arxiv.org/pdf/2009.01325.pdf). Data was split 90% training, and 10% validation."
   ]
  },
  {
   "cell_type": "markdown",
   "metadata": {
    "id": "FrfQpbyaaU_u"
   },
   "source": [
    "First, we need to get out data."
   ]
  },
  {
   "cell_type": "code",
   "execution_count": 6,
   "metadata": {
    "colab": {
     "base_uri": "https://localhost:8080/"
    },
    "id": "5dbCXNLObK2V",
    "outputId": "81a7632b-33ef-459a-9390-d8112e3a7b6f"
   },
   "outputs": [
    {
     "name": "stdout",
     "output_type": "stream",
     "text": [
      "/content/drive/My Drive/ENDG411/Natural Language Processing\n"
     ]
    }
   ],
   "source": [
    "%cd /content/drive/My Drive/ENDG411/Natural Language Processing"
   ]
  },
  {
   "cell_type": "code",
   "execution_count": 7,
   "metadata": {
    "id": "qE7Sx_-0aT_-"
   },
   "outputs": [],
   "source": [
    "joke_filepath = 'reddit-cleanjokes.csv'"
   ]
  },
  {
   "cell_type": "markdown",
   "metadata": {
    "id": "wrN2mweeakam"
   },
   "source": [
    "Let's import the data and see what the head of the data looks like."
   ]
  },
  {
   "cell_type": "code",
   "execution_count": 8,
   "metadata": {
    "colab": {
     "base_uri": "https://localhost:8080/",
     "height": 206
    },
    "id": "o-0OCr6TYKSF",
    "outputId": "d335d626-9d20-4ee2-cc4c-198d9fb7d727"
   },
   "outputs": [
    {
     "data": {
      "text/html": [
       "\n",
       "  <div id=\"df-a9cf6f40-4b6d-4615-9cb4-8acfb66cab48\">\n",
       "    <div class=\"colab-df-container\">\n",
       "      <div>\n",
       "<style scoped>\n",
       "    .dataframe tbody tr th:only-of-type {\n",
       "        vertical-align: middle;\n",
       "    }\n",
       "\n",
       "    .dataframe tbody tr th {\n",
       "        vertical-align: top;\n",
       "    }\n",
       "\n",
       "    .dataframe thead th {\n",
       "        text-align: right;\n",
       "    }\n",
       "</style>\n",
       "<table border=\"1\" class=\"dataframe\">\n",
       "  <thead>\n",
       "    <tr style=\"text-align: right;\">\n",
       "      <th></th>\n",
       "      <th>ID</th>\n",
       "      <th>Joke</th>\n",
       "    </tr>\n",
       "  </thead>\n",
       "  <tbody>\n",
       "    <tr>\n",
       "      <th>0</th>\n",
       "      <td>1</td>\n",
       "      <td>What did the bartender say to the jumper cable...</td>\n",
       "    </tr>\n",
       "    <tr>\n",
       "      <th>1</th>\n",
       "      <td>2</td>\n",
       "      <td>Don't you hate jokes about German sausage? The...</td>\n",
       "    </tr>\n",
       "    <tr>\n",
       "      <th>2</th>\n",
       "      <td>3</td>\n",
       "      <td>Two artists had an art contest... It ended in ...</td>\n",
       "    </tr>\n",
       "    <tr>\n",
       "      <th>3</th>\n",
       "      <td>4</td>\n",
       "      <td>Why did the chicken cross the playground? To g...</td>\n",
       "    </tr>\n",
       "    <tr>\n",
       "      <th>4</th>\n",
       "      <td>5</td>\n",
       "      <td>What gun do you use to hunt a moose? A moosecut!</td>\n",
       "    </tr>\n",
       "  </tbody>\n",
       "</table>\n",
       "</div>\n",
       "      <button class=\"colab-df-convert\" onclick=\"convertToInteractive('df-a9cf6f40-4b6d-4615-9cb4-8acfb66cab48')\"\n",
       "              title=\"Convert this dataframe to an interactive table.\"\n",
       "              style=\"display:none;\">\n",
       "        \n",
       "  <svg xmlns=\"http://www.w3.org/2000/svg\" height=\"24px\"viewBox=\"0 0 24 24\"\n",
       "       width=\"24px\">\n",
       "    <path d=\"M0 0h24v24H0V0z\" fill=\"none\"/>\n",
       "    <path d=\"M18.56 5.44l.94 2.06.94-2.06 2.06-.94-2.06-.94-.94-2.06-.94 2.06-2.06.94zm-11 1L8.5 8.5l.94-2.06 2.06-.94-2.06-.94L8.5 2.5l-.94 2.06-2.06.94zm10 10l.94 2.06.94-2.06 2.06-.94-2.06-.94-.94-2.06-.94 2.06-2.06.94z\"/><path d=\"M17.41 7.96l-1.37-1.37c-.4-.4-.92-.59-1.43-.59-.52 0-1.04.2-1.43.59L10.3 9.45l-7.72 7.72c-.78.78-.78 2.05 0 2.83L4 21.41c.39.39.9.59 1.41.59.51 0 1.02-.2 1.41-.59l7.78-7.78 2.81-2.81c.8-.78.8-2.07 0-2.86zM5.41 20L4 18.59l7.72-7.72 1.47 1.35L5.41 20z\"/>\n",
       "  </svg>\n",
       "      </button>\n",
       "      \n",
       "  <style>\n",
       "    .colab-df-container {\n",
       "      display:flex;\n",
       "      flex-wrap:wrap;\n",
       "      gap: 12px;\n",
       "    }\n",
       "\n",
       "    .colab-df-convert {\n",
       "      background-color: #E8F0FE;\n",
       "      border: none;\n",
       "      border-radius: 50%;\n",
       "      cursor: pointer;\n",
       "      display: none;\n",
       "      fill: #1967D2;\n",
       "      height: 32px;\n",
       "      padding: 0 0 0 0;\n",
       "      width: 32px;\n",
       "    }\n",
       "\n",
       "    .colab-df-convert:hover {\n",
       "      background-color: #E2EBFA;\n",
       "      box-shadow: 0px 1px 2px rgba(60, 64, 67, 0.3), 0px 1px 3px 1px rgba(60, 64, 67, 0.15);\n",
       "      fill: #174EA6;\n",
       "    }\n",
       "\n",
       "    [theme=dark] .colab-df-convert {\n",
       "      background-color: #3B4455;\n",
       "      fill: #D2E3FC;\n",
       "    }\n",
       "\n",
       "    [theme=dark] .colab-df-convert:hover {\n",
       "      background-color: #434B5C;\n",
       "      box-shadow: 0px 1px 3px 1px rgba(0, 0, 0, 0.15);\n",
       "      filter: drop-shadow(0px 1px 2px rgba(0, 0, 0, 0.3));\n",
       "      fill: #FFFFFF;\n",
       "    }\n",
       "  </style>\n",
       "\n",
       "      <script>\n",
       "        const buttonEl =\n",
       "          document.querySelector('#df-a9cf6f40-4b6d-4615-9cb4-8acfb66cab48 button.colab-df-convert');\n",
       "        buttonEl.style.display =\n",
       "          google.colab.kernel.accessAllowed ? 'block' : 'none';\n",
       "\n",
       "        async function convertToInteractive(key) {\n",
       "          const element = document.querySelector('#df-a9cf6f40-4b6d-4615-9cb4-8acfb66cab48');\n",
       "          const dataTable =\n",
       "            await google.colab.kernel.invokeFunction('convertToInteractive',\n",
       "                                                     [key], {});\n",
       "          if (!dataTable) return;\n",
       "\n",
       "          const docLinkHtml = 'Like what you see? Visit the ' +\n",
       "            '<a target=\"_blank\" href=https://colab.research.google.com/notebooks/data_table.ipynb>data table notebook</a>'\n",
       "            + ' to learn more about interactive tables.';\n",
       "          element.innerHTML = '';\n",
       "          dataTable['output_type'] = 'display_data';\n",
       "          await google.colab.output.renderOutput(dataTable, element);\n",
       "          const docLink = document.createElement('div');\n",
       "          docLink.innerHTML = docLinkHtml;\n",
       "          element.appendChild(docLink);\n",
       "        }\n",
       "      </script>\n",
       "    </div>\n",
       "  </div>\n",
       "  "
      ],
      "text/plain": [
       "   ID                                               Joke\n",
       "0   1  What did the bartender say to the jumper cable...\n",
       "1   2  Don't you hate jokes about German sausage? The...\n",
       "2   3  Two artists had an art contest... It ended in ...\n",
       "3   4  Why did the chicken cross the playground? To g...\n",
       "4   5   What gun do you use to hunt a moose? A moosecut!"
      ]
     },
     "execution_count": 8,
     "metadata": {},
     "output_type": "execute_result"
    }
   ],
   "source": [
    "joke_data = pd.read_csv(joke_filepath)\n",
    "joke_data.head()"
   ]
  },
  {
   "cell_type": "markdown",
   "metadata": {
    "id": "eVW5jzo0xY5f"
   },
   "source": [
    "In this case, all we really need is the list of words."
   ]
  },
  {
   "cell_type": "code",
   "execution_count": 9,
   "metadata": {
    "id": "bBja33QniPbq"
   },
   "outputs": [],
   "source": [
    "jokes = joke_data['Joke'].str.cat(sep=' ').split(' ')"
   ]
  },
  {
   "cell_type": "code",
   "execution_count": 10,
   "metadata": {
    "colab": {
     "base_uri": "https://localhost:8080/"
    },
    "id": "l2SWAI4kag7n",
    "outputId": "d96af2c2-64ac-4a5d-b44f-20b16af9b566"
   },
   "outputs": [
    {
     "name": "stdout",
     "output_type": "stream",
     "text": [
      "23914\n",
      "['What', 'did', 'the', 'bartender', 'say']\n"
     ]
    }
   ],
   "source": [
    "print(len(jokes))\n",
    "print(jokes[:5])"
   ]
  },
  {
   "cell_type": "markdown",
   "metadata": {
    "id": "k9GZDMMK5vOS"
   },
   "source": [
    "Normally in natural language processing, words are tokenized. This means that words are placed in a dictionary."
   ]
  },
  {
   "cell_type": "code",
   "execution_count": 11,
   "metadata": {
    "id": "5mWK4fEN2cXS"
   },
   "outputs": [],
   "source": [
    "uniq_words = Counter(jokes)"
   ]
  },
  {
   "cell_type": "code",
   "execution_count": 12,
   "metadata": {
    "colab": {
     "base_uri": "https://localhost:8080/"
    },
    "id": "EQjtGpC16HFJ",
    "outputId": "0a6680fd-585a-4681-de8e-b999e9a68959"
   },
   "outputs": [
    {
     "name": "stdout",
     "output_type": "stream",
     "text": [
      "[('What', 530), ('did', 279), ('the', 1057), ('bartender', 9), ('say', 124)]\n"
     ]
    }
   ],
   "source": [
    "print(list(uniq_words.items())[:5])"
   ]
  },
  {
   "cell_type": "markdown",
   "metadata": {
    "id": "N8xXl6AF8G5q"
   },
   "source": [
    "Now we create our data set."
   ]
  },
  {
   "cell_type": "code",
   "execution_count": 13,
   "metadata": {
    "id": "PxmgH2Ke7_1Y"
   },
   "outputs": [],
   "source": [
    "index_to_word = {index: word for index, word in enumerate(uniq_words)}\n",
    "word_to_index = {word: index for index, word in enumerate(uniq_words)}\n",
    "words_indexes = [word_to_index[w] for w in jokes]"
   ]
  },
  {
   "cell_type": "markdown",
   "metadata": {
    "id": "rU3zexP7HzDF"
   },
   "source": [
    "Since we have our words tokenized, we will now split the data into a training and validation set."
   ]
  },
  {
   "cell_type": "markdown",
   "metadata": {
    "id": "VvRIbDmmYKSF"
   },
   "source": [
    "## N-Gram Model (1900s)\n",
    "\n",
    "The first architecture that will be explored is the N-Gram model. Normally, you would look at n-gram models for making \"next word suggestions\" on mobile devices. This model closely resembles the Markov process."
   ]
  },
  {
   "cell_type": "code",
   "execution_count": 14,
   "metadata": {
    "id": "ClvfDXJsIwp7"
   },
   "outputs": [],
   "source": [
    "n_grams = 2"
   ]
  },
  {
   "cell_type": "markdown",
   "metadata": {
    "id": "zQaZdXwtYKSF"
   },
   "source": [
    "### Data Loader\n",
    "\n",
    "torch.utils.data.Dataset in a class that can be used to create custom dataloaders. In this case, DatasetNGram() inherits the Dataset class to get batches of training and validation data for our n-gram model. This is useful in machine learning since we want to balance training speed and bias."
   ]
  },
  {
   "cell_type": "code",
   "execution_count": 15,
   "metadata": {
    "id": "GQ8QENDXYKSG"
   },
   "outputs": [],
   "source": [
    "class DatasetNGram(torch.utils.data.Dataset):\n",
    "    def __init__(self, words, main_dictionary, index_to_word, word_to_index,\n",
    "                 word_indexes, n_grams):\n",
    "        # This represents our set of data\n",
    "        self.words = words\n",
    "        self.uniq_words = main_dictionary\n",
    "        self.index_to_word = index_to_word\n",
    "        self.word_to_index = word_to_index\n",
    "        self.words_indexes = word_indexes\n",
    "        self.number_of_words = len(self.words_indexes)\n",
    "        self.n_grams = n_grams\n",
    "\n",
    "    def __len__(self):\n",
    "        return len(self.words_indexes) - self.n_grams\n",
    "\n",
    "    '''\n",
    "    The index in this case represents a randomly generated number in a batch.\n",
    "    We select a number of words, then the last word at index + self.n_grams + 1\n",
    "    is the target.\n",
    "    '''\n",
    "    def __getitem__(self, index):\n",
    "        # Indexing has an issue during training\n",
    "        if index + self.n_grams + 1 < self.number_of_words:\n",
    "            return (\n",
    "            torch.tensor(self.words_indexes[index:index + self.n_grams]),\n",
    "            torch.tensor(self.words_indexes[index + self.n_grams + 1])\n",
    "            )\n",
    "        features = [self.words_indexes[i % self.number_of_words]\n",
    "                    for i in range(index, index + self.n_grams)]\n",
    "        index_target = (index + self.n_grams + 1) % self.number_of_words\n",
    "        return (\n",
    "            torch.tensor(features),\n",
    "            torch.tensor(self.words_indexes[index_target]),\n",
    "            )"
   ]
  },
  {
   "cell_type": "markdown",
   "metadata": {
    "id": "nmW-IHnYYKSG"
   },
   "source": [
    "### Model\n",
    "\n",
    "There are two parts to this model. We need to initialize the model, and have a forward function."
   ]
  },
  {
   "cell_type": "code",
   "execution_count": 16,
   "metadata": {
    "id": "B6g4qLAeYKSG"
   },
   "outputs": [],
   "source": [
    "class NGramLanguageModel(nn.Module):\n",
    "    def __init__(self, vocab_size, embedding_dim, context_size, hidden_layer):\n",
    "        super(NGramLanguageModel, self).__init__()\n",
    "        self.context_size = context_size\n",
    "        self.embedding_dim = embedding_dim\n",
    "        self.embeddings = nn.Embedding(vocab_size, embedding_dim)\n",
    "        self.linear1 = nn.Linear(context_size * embedding_dim, hidden_layer)\n",
    "        self.linear2 = nn.Linear(hidden_layer, vocab_size)\n",
    "\n",
    "    def forward(self, inputs):\n",
    "        # Embedding layer\n",
    "        embeds = self.embeddings(inputs)\n",
    "\n",
    "        # Reshape the matrix from 3D to 2D\n",
    "        out = embeds.view((inputs.size(dim=0), self.context_size * self.embedding_dim))\n",
    "        out = nn.functional.relu(self.linear1(out))\n",
    "        out = self.linear2(out)\n",
    "        out = nn.functional.log_softmax(out, dim=1)\n",
    "        return out"
   ]
  },
  {
   "cell_type": "markdown",
   "metadata": {
    "id": "wQLyuF4iYKSG"
   },
   "source": [
    "### Training"
   ]
  },
  {
   "cell_type": "code",
   "execution_count": 17,
   "metadata": {
    "id": "8NpIhQTnMNwo"
   },
   "outputs": [],
   "source": [
    "# A dataset object contains all our data\n",
    "training_dataset = DatasetNGram(jokes, uniq_words, index_to_word,\n",
    "                      word_to_index, words_indexes, n_grams)"
   ]
  },
  {
   "cell_type": "code",
   "execution_count": 18,
   "metadata": {
    "id": "BcTkP1syORe2"
   },
   "outputs": [],
   "source": [
    "# A dataloader object is used to generate new batches\n",
    "training_dataloader = DataLoader(\n",
    "    training_dataset,\n",
    "    batch_size=batch_size,\n",
    ")"
   ]
  },
  {
   "cell_type": "code",
   "execution_count": 19,
   "metadata": {
    "colab": {
     "base_uri": "https://localhost:8080/"
    },
    "id": "unGAPzXfYKSH",
    "outputId": "e2ccb5d5-910f-46ef-f5ef-7aa00ed3a748"
   },
   "outputs": [
    {
     "name": "stdout",
     "output_type": "stream",
     "text": [
      "Epoch: 0. Training Loss: 8.061. Accuracy: 1.6%\n",
      "Epoch: 5. Training Loss: 5.636. Accuracy: 3.1%\n",
      "Epoch: 10. Training Loss: 4.294. Accuracy: 6.2%\n",
      "Epoch: 15. Training Loss: 3.069. Accuracy: 21.9%\n",
      "Epoch: 20. Training Loss: 2.323. Accuracy: 32.8%\n",
      "Epoch: 25. Training Loss: 1.936. Accuracy: 39.1%\n",
      "Epoch: 30. Training Loss: 1.673. Accuracy: 42.2%\n",
      "Epoch: 35. Training Loss: 1.472. Accuracy: 42.2%\n",
      "Epoch: 40. Training Loss: 1.311. Accuracy: 43.8%\n",
      "Epoch: 45. Training Loss: 1.185. Accuracy: 48.4%\n",
      "Epoch: 50. Training Loss: 1.092. Accuracy: 48.4%\n",
      "Epoch: 55. Training Loss: 1.028. Accuracy: 48.4%\n",
      "Epoch: 60. Training Loss: 0.983. Accuracy: 48.4%\n",
      "Epoch: 65. Training Loss: 0.945. Accuracy: 48.4%\n",
      "Epoch: 70. Training Loss: 0.920. Accuracy: 48.4%\n",
      "Epoch: 75. Training Loss: 0.909. Accuracy: 48.4%\n",
      "Epoch: 80. Training Loss: 0.896. Accuracy: 48.4%\n"
     ]
    }
   ],
   "source": [
    "# The model is defined here\n",
    "model = NGramLanguageModel(len(training_dataset.word_to_index), n_embd, n_grams,\n",
    "                           hidden_layer_size)\n",
    "\n",
    "# We set the model to train\n",
    "model.train()\n",
    "\n",
    "# Since this is a large classification problem, we want a cross entropy loss\n",
    "# criterion\n",
    "criterion = nn.CrossEntropyLoss()\n",
    "\n",
    "# The optimizer which updates our weights is defined here\n",
    "optimizer = optim.Adam(model.parameters(), lr=learning_rate)\n",
    "\n",
    "# We will store results here to compare later on\n",
    "local_results = ([], [], [])\n",
    "\n",
    "for epoch in range(MAX_EPOCHS):\n",
    "    loss = 0\n",
    "    # We can get a new batch of data in training_dataloader\n",
    "    for batch, (x, y) in enumerate(training_dataloader):\n",
    "        optimizer.zero_grad()\n",
    "        y_pred = model(x)\n",
    "        log_probs = nn.functional.log_softmax(y_pred, dim=1)\n",
    "        loss = criterion(log_probs, y)\n",
    "        loss.backward()\n",
    "        optimizer.step()\n",
    "\n",
    "    # Every 5 epochs, we want to see how well the model performs\n",
    "    if epoch % PRINT_LOSS_EVERY == 0:\n",
    "        correct = torch.sum((torch.argmax(log_probs, dim=1) == y).int())\n",
    "        accuracy = 100 * correct / batch_size\n",
    "        print(\"Epoch: {}. Training Loss: {:.3f}. Accuracy: {:.1f}%\"\n",
    "            .format(epoch, loss.item(), accuracy))\n",
    "        local_results[0].append(epoch)\n",
    "        local_results[1].append(loss.item())\n",
    "        local_results[2].append(accuracy)\n",
    "\n",
    "# Add results to results dictionary\n",
    "early_model_results['ngram-model'] = local_results"
   ]
  },
  {
   "cell_type": "markdown",
   "metadata": {
    "id": "JWeu1Vk-BLIB"
   },
   "source": [
    "If tokens cannot be found in our \"word_to_index\" string array, then an error will be created. Keep this in mind when designing a language model."
   ]
  },
  {
   "cell_type": "code",
   "execution_count": 20,
   "metadata": {
    "colab": {
     "base_uri": "https://localhost:8080/",
     "height": 287
    },
    "id": "0y_WWlzzBMyR",
    "outputId": "bd34d659-a01d-47ad-f2ed-662bf8adf1b3"
   },
   "outputs": [
    {
     "ename": "KeyError",
     "evalue": "ignored",
     "output_type": "error",
     "traceback": [
      "\u001b[0;31m---------------------------------------------------------------------------\u001b[0m",
      "\u001b[0;31mKeyError\u001b[0m                                  Traceback (most recent call last)",
      "\u001b[0;32m<ipython-input-20-304699861e23>\u001b[0m in \u001b[0;36m<cell line: 2>\u001b[0;34m()\u001b[0m\n\u001b[1;32m      1\u001b[0m \u001b[0mcontext\u001b[0m \u001b[0;34m=\u001b[0m \u001b[0;34m[\u001b[0m\u001b[0;34m\"it\"\u001b[0m\u001b[0;34m,\u001b[0m\u001b[0;34m\"feel'st\"\u001b[0m\u001b[0;34m]\u001b[0m\u001b[0;34m\u001b[0m\u001b[0;34m\u001b[0m\u001b[0m\n\u001b[0;32m----> 2\u001b[0;31m \u001b[0mwords\u001b[0m \u001b[0;34m=\u001b[0m \u001b[0mtorch\u001b[0m\u001b[0;34m.\u001b[0m\u001b[0mtensor\u001b[0m\u001b[0;34m(\u001b[0m\u001b[0;34m[\u001b[0m\u001b[0;34m[\u001b[0m\u001b[0mword_to_index\u001b[0m\u001b[0;34m[\u001b[0m\u001b[0mw\u001b[0m\u001b[0;34m]\u001b[0m \u001b[0;32mfor\u001b[0m \u001b[0mw\u001b[0m \u001b[0;32min\u001b[0m \u001b[0mcontext\u001b[0m\u001b[0;34m]\u001b[0m\u001b[0;34m]\u001b[0m\u001b[0;34m,\u001b[0m \u001b[0mdtype\u001b[0m\u001b[0;34m=\u001b[0m\u001b[0mtorch\u001b[0m\u001b[0;34m.\u001b[0m\u001b[0mlong\u001b[0m\u001b[0;34m)\u001b[0m\u001b[0;34m\u001b[0m\u001b[0;34m\u001b[0m\u001b[0m\n\u001b[0m\u001b[1;32m      3\u001b[0m \u001b[0moutput\u001b[0m \u001b[0;34m=\u001b[0m \u001b[0mmodel\u001b[0m\u001b[0;34m(\u001b[0m\u001b[0mwords\u001b[0m\u001b[0;34m)\u001b[0m\u001b[0;34m\u001b[0m\u001b[0;34m\u001b[0m\u001b[0m\n",
      "\u001b[0;32m<ipython-input-20-304699861e23>\u001b[0m in \u001b[0;36m<listcomp>\u001b[0;34m(.0)\u001b[0m\n\u001b[1;32m      1\u001b[0m \u001b[0mcontext\u001b[0m \u001b[0;34m=\u001b[0m \u001b[0;34m[\u001b[0m\u001b[0;34m\"it\"\u001b[0m\u001b[0;34m,\u001b[0m\u001b[0;34m\"feel'st\"\u001b[0m\u001b[0;34m]\u001b[0m\u001b[0;34m\u001b[0m\u001b[0;34m\u001b[0m\u001b[0m\n\u001b[0;32m----> 2\u001b[0;31m \u001b[0mwords\u001b[0m \u001b[0;34m=\u001b[0m \u001b[0mtorch\u001b[0m\u001b[0;34m.\u001b[0m\u001b[0mtensor\u001b[0m\u001b[0;34m(\u001b[0m\u001b[0;34m[\u001b[0m\u001b[0;34m[\u001b[0m\u001b[0mword_to_index\u001b[0m\u001b[0;34m[\u001b[0m\u001b[0mw\u001b[0m\u001b[0;34m]\u001b[0m \u001b[0;32mfor\u001b[0m \u001b[0mw\u001b[0m \u001b[0;32min\u001b[0m \u001b[0mcontext\u001b[0m\u001b[0;34m]\u001b[0m\u001b[0;34m]\u001b[0m\u001b[0;34m,\u001b[0m \u001b[0mdtype\u001b[0m\u001b[0;34m=\u001b[0m\u001b[0mtorch\u001b[0m\u001b[0;34m.\u001b[0m\u001b[0mlong\u001b[0m\u001b[0;34m)\u001b[0m\u001b[0;34m\u001b[0m\u001b[0;34m\u001b[0m\u001b[0m\n\u001b[0m\u001b[1;32m      3\u001b[0m \u001b[0moutput\u001b[0m \u001b[0;34m=\u001b[0m \u001b[0mmodel\u001b[0m\u001b[0;34m(\u001b[0m\u001b[0mwords\u001b[0m\u001b[0;34m)\u001b[0m\u001b[0;34m\u001b[0m\u001b[0;34m\u001b[0m\u001b[0m\n",
      "\u001b[0;31mKeyError\u001b[0m: \"feel'st\""
     ]
    }
   ],
   "source": [
    "context = [\"it\",\"feel'st\"]\n",
    "words = torch.tensor([[word_to_index[w] for w in context]], dtype=torch.long)\n",
    "output = model(words)"
   ]
  },
  {
   "cell_type": "markdown",
   "metadata": {
    "id": "fkXK72kWu5Aj"
   },
   "source": [
    "Since we have a model now, we can use the model to create an inference and predict the next word."
   ]
  },
  {
   "cell_type": "code",
   "execution_count": 21,
   "metadata": {
    "id": "2zhOe2VuAA1S"
   },
   "outputs": [],
   "source": [
    "context = [\"the\",\"Chicken\"]\n",
    "words = torch.tensor([[word_to_index[w] for w in context]], dtype=torch.long)"
   ]
  },
  {
   "cell_type": "code",
   "execution_count": 22,
   "metadata": {
    "colab": {
     "base_uri": "https://localhost:8080/"
    },
    "id": "-Y5QvYoGAHSQ",
    "outputId": "6dee2ffa-1d74-47dd-9d5d-50331788973b"
   },
   "outputs": [
    {
     "name": "stdout",
     "output_type": "stream",
     "text": [
      "tensor([[ -5.9376,  -9.1431,  -0.1406,  ..., -47.4895, -36.1212, -39.2082]],\n",
      "       grad_fn=<LogSoftmaxBackward0>)\n",
      "2\n",
      "{'the'}\n"
     ]
    }
   ],
   "source": [
    "output = model(words)\n",
    "print(model(words))\n",
    "print(torch.argmax(output, dim=1).item())\n",
    "\n",
    "next_word = {i for i in word_to_index if word_to_index[i]==torch.argmax(output, dim=1).item()}\n",
    "print(next_word)"
   ]
  },
  {
   "cell_type": "markdown",
   "metadata": {
    "id": "a3mM3ty1vFWg"
   },
   "source": [
    "An alternative way to see how the model performed is to check the top 10 words."
   ]
  },
  {
   "cell_type": "code",
   "execution_count": 23,
   "metadata": {
    "colab": {
     "base_uri": "https://localhost:8080/"
    },
    "id": "xOjX-X9yEBL5",
    "outputId": "92b4483a-470f-41ea-ce8f-e1a1172732e8"
   },
   "outputs": [
    {
     "name": "stdout",
     "output_type": "stream",
     "text": [
      "tensor([  2, 906,  70,   5, 163,   4,  32, 482, 101,  10])\n",
      "[{'the'}, {'says'}, {'it'}, {'to'}, {'for'}, {'say'}, {'a'}, {'name'}, {'was'}, {'not'}]\n"
     ]
    }
   ],
   "source": [
    "num_indexes = 10\n",
    "indices = torch.topk(output.flatten(), num_indexes).indices\n",
    "print(indices)\n",
    "next_words_top_10 = [{i for i in word_to_index if word_to_index[i]==indices[j]} for j in range(num_indexes)]\n",
    "print(next_words_top_10)"
   ]
  },
  {
   "cell_type": "markdown",
   "metadata": {
    "id": "etqFu2-CGd2V"
   },
   "source": [
    "The model is roughly 50% accurate by using two words."
   ]
  },
  {
   "cell_type": "markdown",
   "metadata": {
    "id": "EB0E41GvYKSH"
   },
   "source": [
    "## LSTM Model\n",
    "\n",
    "The design of the LSTM RNN was meant to solve two problems:\n",
    "- Vanishing Gradient\n",
    "- Exploding Gradient\n",
    "\n",
    "A vanishing or exploding gradient represent the same issue where a neural network fails to properly update its weights. Vanishing means that the training algorithm doesn't update the neural network's weights at all, while exploding means that the algorithm updates the neural network's weights too fast resulting in the neural network being too sensitive to small changes.\n",
    "\n",
    "An example was taken from https://www.kdnuggets.com/2020/07/pytorch-lstm-text-generation-tutorial.html."
   ]
  },
  {
   "cell_type": "markdown",
   "metadata": {
    "id": "TWO7d9fKYKSH"
   },
   "source": [
    "### Dataset"
   ]
  },
  {
   "cell_type": "code",
   "execution_count": 24,
   "metadata": {
    "id": "c7lkflxQYKSH"
   },
   "outputs": [],
   "source": [
    "class LSTMDataset(torch.utils.data.Dataset):\n",
    "    def __init__(self, words, main_dictionary, index_to_word, word_to_index,\n",
    "                word_indexes, sequence_length):\n",
    "        # Text data\n",
    "        self.words = words\n",
    "        self.uniq_words = main_dictionary\n",
    "        self.index_to_word = index_to_word\n",
    "        self.word_to_index = word_to_index\n",
    "        self.words_indexes = word_indexes\n",
    "        self.sequence_length = sequence_length\n",
    "\n",
    "    def __len__(self):\n",
    "        return len(self.words_indexes) - self.sequence_length\n",
    "\n",
    "    '''\n",
    "    This model is still relatively simple. We take a randomly generated number\n",
    "    in a batch. The LSTM model in this case is taking a sequence and uses the\n",
    "    sequence to select the next words.\n",
    "    '''\n",
    "    def __getitem__(self, index):\n",
    "        return (\n",
    "            torch.tensor(self.words_indexes[index:index+self.sequence_length]),\n",
    "            torch.tensor(self.words_indexes[index+1:index+self.sequence_length+1]),\n",
    "        )"
   ]
  },
  {
   "cell_type": "markdown",
   "metadata": {
    "id": "MMLWY3-sYKSI"
   },
   "source": [
    "### Model"
   ]
  },
  {
   "cell_type": "code",
   "execution_count": 25,
   "metadata": {
    "id": "pYFV0XHhYKSI"
   },
   "outputs": [],
   "source": [
    "class LSTMLanguageModel(nn.Module):\n",
    "    def __init__(self, n_vocab, embedding_dim, lstm_size, n_layer,\n",
    "                 sequence_length, hidden_layer):\n",
    "        super(LSTMLanguageModel, self).__init__()\n",
    "        self.lstm_size = lstm_size\n",
    "        self.num_layers = n_layer\n",
    "        self.embedding_dim = embedding_dim\n",
    "        self.sequence_length = sequence_length\n",
    "        self.n_vocab = n_vocab\n",
    "\n",
    "        self.embedding = nn.Embedding(\n",
    "            num_embeddings=n_vocab,\n",
    "            embedding_dim=self.embedding_dim,\n",
    "        )\n",
    "\n",
    "        # The main difference between this model and the previous n-gram model\n",
    "        # is the RNN\n",
    "        self.lstm = nn.LSTM(\n",
    "            input_size=self.embedding_dim,\n",
    "            hidden_size=self.lstm_size,\n",
    "            num_layers=self.num_layers,\n",
    "            dropout=0.2,\n",
    "        )\n",
    "\n",
    "        self.linear1 = nn.Linear(self.lstm_size, hidden_layer)\n",
    "        self.linear2 = nn.Linear(hidden_layer, n_vocab)\n",
    "\n",
    "    def forward(self, x, prev_state):\n",
    "        embed = self.embedding(x)\n",
    "\n",
    "        # In this case, we are saving both the output and state\n",
    "        output, state = self.lstm(embed, prev_state)\n",
    "        output = self.linear1(output)\n",
    "        logits = self.linear2(output)\n",
    "        return logits, state\n",
    "\n",
    "    def init_state(self):\n",
    "        return (torch.zeros(self.num_layers, self.sequence_length, self.lstm_size),\n",
    "                torch.zeros(self.num_layers, self.sequence_length, self.lstm_size))"
   ]
  },
  {
   "cell_type": "markdown",
   "metadata": {
    "id": "1lsM-S8RYKSI"
   },
   "source": [
    "### Training"
   ]
  },
  {
   "cell_type": "code",
   "execution_count": 26,
   "metadata": {
    "id": "MkKGXOm9FuNz"
   },
   "outputs": [],
   "source": [
    "# We defined how many words we will use in this model.\n",
    "sequence_length = 4\n",
    "\n",
    "# Think of this parameter as stacking RNNs, or adding more neurons to a\n",
    "# convolutional neural network.\n",
    "lstm_layers = 1"
   ]
  },
  {
   "cell_type": "code",
   "execution_count": 27,
   "metadata": {
    "id": "_HnqYp_dVUM6"
   },
   "outputs": [],
   "source": [
    "training_dataset = LSTMDataset(jokes, uniq_words, index_to_word,\n",
    "                               word_to_index, words_indexes, sequence_length)\n",
    "\n",
    "training_dataloader = DataLoader(\n",
    "    training_dataset,\n",
    "    batch_size=batch_size,\n",
    ")"
   ]
  },
  {
   "cell_type": "markdown",
   "metadata": {
    "id": "lxCz1rVVvwkg"
   },
   "source": [
    "We follow the same approach."
   ]
  },
  {
   "cell_type": "code",
   "execution_count": 28,
   "metadata": {
    "colab": {
     "base_uri": "https://localhost:8080/"
    },
    "id": "fQoOLrfxYKSI",
    "outputId": "f89a976d-457b-4470-8449-29b09519f512"
   },
   "outputs": [
    {
     "name": "stderr",
     "output_type": "stream",
     "text": [
      "/usr/local/lib/python3.10/dist-packages/torch/nn/modules/rnn.py:71: UserWarning: dropout option adds dropout after all but last recurrent layer, so non-zero dropout expects num_layers greater than 1, but got dropout=0.2 and num_layers=1\n",
      "  warnings.warn(\"dropout option adds dropout after all but last \"\n"
     ]
    },
    {
     "name": "stdout",
     "output_type": "stream",
     "text": [
      "Epoch: 0. Training Loss: 7.358. Accuracy: 4.7%\n",
      "Epoch: 5. Training Loss: 6.008. Accuracy: 7.8%\n",
      "Epoch: 10. Training Loss: 5.029. Accuracy: 12.5%\n",
      "Epoch: 15. Training Loss: 4.147. Accuracy: 15.6%\n",
      "Epoch: 20. Training Loss: 3.307. Accuracy: 17.6%\n",
      "Epoch: 25. Training Loss: 2.492. Accuracy: 27.3%\n",
      "Epoch: 30. Training Loss: 1.813. Accuracy: 42.6%\n",
      "Epoch: 35. Training Loss: 1.157. Accuracy: 50.0%\n",
      "Epoch: 40. Training Loss: 0.754. Accuracy: 53.1%\n",
      "Epoch: 45. Training Loss: 0.487. Accuracy: 57.8%\n",
      "Epoch: 50. Training Loss: 0.307. Accuracy: 57.8%\n",
      "Epoch: 55. Training Loss: 0.195. Accuracy: 59.4%\n",
      "Epoch: 60. Training Loss: 0.126. Accuracy: 59.4%\n",
      "Epoch: 65. Training Loss: 0.088. Accuracy: 59.4%\n",
      "Epoch: 70. Training Loss: 0.059. Accuracy: 59.4%\n",
      "Epoch: 75. Training Loss: 0.042. Accuracy: 59.4%\n",
      "Epoch: 80. Training Loss: 0.022. Accuracy: 59.4%\n"
     ]
    }
   ],
   "source": [
    "# The same procedure is taken to create the model and train the model\n",
    "model = LSTMLanguageModel(len(training_dataset.word_to_index), n_embd, lstm_size,\n",
    "                          lstm_layers, sequence_length, hidden_layer_size)\n",
    "\n",
    "criterion = nn.CrossEntropyLoss()\n",
    "optimizer = optim.Adam(model.parameters(), lr=learning_rate)\n",
    "local_results = ([], [], [])\n",
    "\n",
    "# The same algorithm is used for training\n",
    "for epoch in range(MAX_EPOCHS):\n",
    "    # Initializing the state is important every epoch. This clears any \"dead\"\n",
    "    # state from previous training data.\n",
    "    state_h, state_c = model.init_state()\n",
    "    for batch, (x, y) in enumerate(training_dataloader):\n",
    "        optimizer.zero_grad()\n",
    "        y_pred, (state_h, state_c) = model(x, (state_h, state_c))\n",
    "        loss = criterion(y_pred.transpose(1, 2), y)\n",
    "        state_h = state_h.detach()\n",
    "        state_c = state_c.detach()\n",
    "\n",
    "        loss.backward()\n",
    "        optimizer.step()\n",
    "\n",
    "    # Every 5 epochs, we want to see how well the model performs\n",
    "    if epoch % PRINT_LOSS_EVERY == 0:\n",
    "        y_acc = torch.argmax(torch.nn.functional.softmax(y_pred.transpose(1, 2), dim=1), dim=1)\n",
    "        correct = torch.sum(torch.eq(y_acc, y).int())\n",
    "        accuracy = 100 * correct / (batch_size * sequence_length)\n",
    "\n",
    "        print(\"Epoch: {}. Training Loss: {:.3f}. Accuracy: {:.1f}%\".format(\n",
    "            epoch, loss.item(), accuracy))\n",
    "        local_results[0].append(epoch)\n",
    "        local_results[1].append(loss.item())\n",
    "        local_results[2].append(accuracy)\n",
    "\n",
    "# Add results to results dictionary\n",
    "early_model_results['lstm-model'] = local_results"
   ]
  },
  {
   "cell_type": "markdown",
   "metadata": {
    "id": "qRUuxpIdRYl2"
   },
   "source": [
    "Since the LSTM model is larger in scope, more training is required."
   ]
  },
  {
   "cell_type": "code",
   "execution_count": 29,
   "metadata": {
    "id": "4Zfy-uQO3TEg"
   },
   "outputs": [],
   "source": [
    "def predict(dataset, model, text, next_words=100):\n",
    "\twords = text.split(' ')\n",
    "\tmodel.eval()\n",
    "\tstate_h, state_c = model.init_state()\n",
    "\tfor i in range(0, next_words):\n",
    "\t\tx = torch.tensor([[dataset.word_to_index[w] for w in words[i:]]])\n",
    "\t\ty_pred, (state_h, state_c) = model(x, (state_h, state_c))\n",
    "\t\tarcs = torch.argmax(torch.nn.functional.softmax(y_pred.transpose(1, 2), dim=1), dim=1)\n",
    "\t\tword = [training_dataset.index_to_word[w] for w in arcs[0].tolist()][-1]\n",
    "\t\twords = words + [word]\n",
    "\n",
    "\treturn words"
   ]
  },
  {
   "cell_type": "code",
   "execution_count": 30,
   "metadata": {
    "id": "Rk_QxfE2NDml"
   },
   "outputs": [],
   "source": [
    "words = \"Why did the chicken\""
   ]
  },
  {
   "cell_type": "markdown",
   "metadata": {
    "id": "74nU3uW9Ceqb"
   },
   "source": [
    "The results are a little more interesting."
   ]
  },
  {
   "cell_type": "code",
   "execution_count": 31,
   "metadata": {
    "colab": {
     "base_uri": "https://localhost:8080/"
    },
    "id": "vSOJpYxVQiFk",
    "outputId": "3eca048d-e088-4f1a-8cb4-81e9c448cecb"
   },
   "outputs": [
    {
     "name": "stdout",
     "output_type": "stream",
     "text": [
      "['Why', 'did', 'the', 'chicken', 'awareness.', 'of', 'alphabet', 'birds', 'disappointed;', 'legs?', 'Lean', 'Beef!', 'Why', 'did', 'the', 'school', 'math', 'book', 'sad?', 'away', 'on', 'his', 'chickens?', 'Did', 'you', 'hear', 'about', 'a', 'boomerang', 'earlier.', \"I'm\", 'their', 'jokes', 'if', 'it', 'had', 'to', 'choose,', 'realization...', 'Currently,', 'to', 'be', 'cheesy', \"They're\", 'once', 'had', 'a', 'bit', 'of', 'mildew-', '-but', 'all', 'the', 'ball', '&lt;p&gt;', 'My', 'favorite', 'joke', 'was', 'without', 'joke', 'why', 'was', 'odors.\"', 'why', 'is', 'trying', 'to', 'her', 'son', 'on', 'a', 'roof,', 'they', 'said', 'I', \"didn't\", 'have', 'her', 'about', 'so', 'much?', 'Where', 'did', 'the', 'mechanic', 'go', 'when', 'he', 'lost', 'his', 'tractor?', \"Where's\", 'my', 'tractor?', 'What', 'do', 'you', 'call', 'a', 'fish', 'with', 'no', 'eyes?']\n"
     ]
    }
   ],
   "source": [
    "print(predict(training_dataset, model, words))"
   ]
  },
  {
   "cell_type": "markdown",
   "metadata": {
    "id": "df4sKk_vWn_T"
   },
   "source": [
    "The accuracy of the LSTM model peaked at 60%. The training loss however continued to improve. We can see in the model that we have some coherent sentences."
   ]
  },
  {
   "cell_type": "code",
   "execution_count": 32,
   "metadata": {
    "colab": {
     "base_uri": "https://localhost:8080/"
    },
    "id": "Nffl8bhW_sSG",
    "outputId": "77b16385-8232-4616-cbfa-e27250dd29a3"
   },
   "outputs": [
    {
     "name": "stdout",
     "output_type": "stream",
     "text": [
      "['Why', 'did', 'the', 'chicken']\n"
     ]
    }
   ],
   "source": [
    "state_h, state_c = model.init_state()\n",
    "words_predict = words.split(' ')\n",
    "manual_words = words_predict\n",
    "print(manual_words)\n",
    "x = torch.tensor([[training_dataset.word_to_index[w] for w in words_predict]])\n",
    "y_pred, (state_h, state_c) = model(x, (state_h, state_c))\n",
    "last_word_logits = y_pred[0][-1]"
   ]
  },
  {
   "cell_type": "code",
   "execution_count": 38,
   "metadata": {
    "colab": {
     "base_uri": "https://localhost:8080/"
    },
    "id": "L7rpZ06IAEBj",
    "outputId": "5340a826-a39d-47d0-85d0-77dda6f1478b"
   },
   "outputs": [
    {
     "name": "stdout",
     "output_type": "stream",
     "text": [
      "['Why', 'did', 'the', 'chicken', 'awareness.', 'of', 'alphabet', 'birds', 'disappointed;']\n",
      "[1733, 2, 58, 1294]\n",
      "Word 2 ['the', 'the', 'getting', 'Lean']\n",
      "['Why', 'did', 'the', 'chicken', 'awareness.', 'of', 'alphabet', 'birds', 'disappointed;', 'legs?']\n"
     ]
    }
   ],
   "source": [
    "num_indexes = 10\n",
    "indices = torch.topk(y_pred, num_indexes).indices\n",
    "print(manual_words)\n",
    "\n",
    "arcs = torch.argmax(torch.nn.functional.softmax(y_pred.transpose(1, 2), dim=1), dim=1)\n",
    "print(arcs[0].tolist())\n",
    "\n",
    "word = [training_dataset.index_to_word[w] for w in arcs[0].tolist()][-1]\n",
    "words_predict = words_predict + [word]\n",
    "manual_words = manual_words + [word]\n",
    "\n",
    "words_predict = words_predict[1:]\n",
    "\n",
    "x = torch.tensor([[training_dataset.word_to_index[w] for w in words_predict]])\n",
    "y_pred, (state_h, state_c) = model(x, (state_h, state_c))\n",
    "\n",
    "arcs = torch.argmax(torch.nn.functional.softmax(y_pred.transpose(1, 2), dim=1), dim=1)\n",
    "print(\"Word 2\", [training_dataset.index_to_word[w] for w in arcs[0].tolist()])\n",
    "print(manual_words)"
   ]
  },
  {
   "cell_type": "markdown",
   "metadata": {
    "id": "rCAfGX5MYKSJ"
   },
   "source": [
    "## Continuous Bag Of Words And Skip Gram\n",
    "Another architecture called Word2Vec was published in 2013 by Google (https://arxiv.org/pdf/1301.3781.pdf). Two embedding architectures were created. Both models function similarly but opposite directions.\n",
    "- Continuous Bag Of Words (CBOW) models take a group of surrounding words, and tries to predict a missing or containing word. This is useful for finding missing contexts.\n",
    "- Skip-gram models are a little more interesting. This model takes a word, and tries to predict the surrounding content.\n",
    "\n",
    "Here's what the architecture looks like:\n",
    "\n",
    "![alt text](natural_language_processing/word2vec.PNG \"https://arxiv.org/pdf/1301.3781.pdf\")"
   ]
  },
  {
   "cell_type": "markdown",
   "metadata": {
    "id": "Y-331Gt4YKSJ"
   },
   "source": [
    "### Dataset"
   ]
  },
  {
   "cell_type": "code",
   "execution_count": 39,
   "metadata": {
    "id": "AusdHcQRYKSJ"
   },
   "outputs": [],
   "source": [
    "class CBOWDataset(torch.utils.data.Dataset):\n",
    "    def __init__(self, words, unqi_words, index_to_word, word_to_index,\n",
    "                 word_indexes, sequence_length):\n",
    "        self.words = words\n",
    "        self.uniq_words = unqi_words\n",
    "        self.index_to_word = index_to_word\n",
    "        self.word_to_index = word_to_index\n",
    "        self.words_indexes = word_indexes\n",
    "        self.number_of_words = sequence_length\n",
    "        self.context_distance = sequence_length // 2\n",
    "\n",
    "    def __len__(self):\n",
    "        return len(self.words_indexes) - self.number_of_words\n",
    "\n",
    "    '''\n",
    "    This dataset looks for a word in between two sets of words.\n",
    "    '''\n",
    "    def __getitem__(self, index):\n",
    "        words_left = []\n",
    "        words_right = []\n",
    "\n",
    "        for i in range(1, self.context_distance + 1):\n",
    "            words_left.append(self.words_indexes[index - i])\n",
    "            words_right.append(self.words_indexes[(index + i) %\n",
    "                                                  self.number_of_words])\n",
    "        #print(words_left + words_right)\n",
    "        return (\n",
    "            torch.tensor(words_left + words_right),\n",
    "            torch.tensor(self.words_indexes[index]),\n",
    "        )"
   ]
  },
  {
   "cell_type": "markdown",
   "metadata": {
    "id": "Pd_gk40LYKSJ"
   },
   "source": [
    "### Model"
   ]
  },
  {
   "cell_type": "code",
   "execution_count": 40,
   "metadata": {
    "id": "PZWx8156YKSJ"
   },
   "outputs": [],
   "source": [
    "class CBOWLanguageModel(torch.nn.Module):\n",
    "    def __init__(self, vocab_size, embedding_dim, sequence_length,\n",
    "                 hidden_layer_size):\n",
    "        super(CBOWLanguageModel, self).__init__()\n",
    "\n",
    "        #out: 1 x emdedding_dim\n",
    "        self.embedding_dim = embedding_dim\n",
    "        self.sequence_length = sequence_length\n",
    "        self.embeddings = nn.Embedding(vocab_size, embedding_dim)\n",
    "        self.linear1 = nn.Linear(self.sequence_length * embedding_dim,\n",
    "                                 hidden_layer_size)\n",
    "        self.activation_function1 = nn.ReLU()\n",
    "\n",
    "        #out: 1 x vocab_size\n",
    "        self.linear2 = nn.Linear(hidden_layer_size, vocab_size)\n",
    "        self.activation_function2 = nn.LogSoftmax(dim = -1)\n",
    "\n",
    "    def forward(self, inputs):\n",
    "        #embeds = sum(self.embeddings(inputs)).view(1,-1)\n",
    "        embeds = self.embeddings(inputs)\n",
    "        out = embeds.view((inputs.size(dim=0), self.sequence_length *\n",
    "                           self.embedding_dim))\n",
    "\n",
    "        out = self.linear1(out)\n",
    "        out = self.activation_function1(out)\n",
    "        out = self.linear2(out)\n",
    "        out = self.activation_function2(out)\n",
    "        return out"
   ]
  },
  {
   "cell_type": "markdown",
   "metadata": {
    "id": "mrhDN-feYKSL"
   },
   "source": [
    "### Training"
   ]
  },
  {
   "cell_type": "code",
   "execution_count": 41,
   "metadata": {
    "id": "Wwy7zOXrRyK_"
   },
   "outputs": [],
   "source": [
    "sequence_length = 4"
   ]
  },
  {
   "cell_type": "code",
   "execution_count": 42,
   "metadata": {
    "id": "gH3h5TNkYmdb"
   },
   "outputs": [],
   "source": [
    "training_dataset = CBOWDataset(jokes, uniq_words, index_to_word,\n",
    "                               word_to_index, words_indexes, sequence_length)"
   ]
  },
  {
   "cell_type": "code",
   "execution_count": 43,
   "metadata": {
    "id": "Cm_YmptyY7yt"
   },
   "outputs": [],
   "source": [
    "training_dataloader = DataLoader(\n",
    "    training_dataset,\n",
    "    batch_size=batch_size,\n",
    ")"
   ]
  },
  {
   "cell_type": "code",
   "execution_count": 44,
   "metadata": {
    "colab": {
     "base_uri": "https://localhost:8080/"
    },
    "id": "xaRDlKtJYKSL",
    "outputId": "73afab3b-d489-474c-a24d-8a74ed8bd5c7"
   },
   "outputs": [
    {
     "name": "stdout",
     "output_type": "stream",
     "text": [
      "Epoch: 0. Training Loss: 6.881. Accuracy: 4.7%\n",
      "Epoch: 5. Training Loss: 4.907. Accuracy: 7.8%\n",
      "Epoch: 10. Training Loss: 3.408. Accuracy: 21.9%\n",
      "Epoch: 15. Training Loss: 2.117. Accuracy: 34.4%\n",
      "Epoch: 20. Training Loss: 1.455. Accuracy: 40.6%\n",
      "Epoch: 25. Training Loss: 1.091. Accuracy: 45.3%\n",
      "Epoch: 30. Training Loss: 0.888. Accuracy: 45.3%\n",
      "Epoch: 35. Training Loss: 0.775. Accuracy: 46.9%\n",
      "Epoch: 40. Training Loss: 0.704. Accuracy: 46.9%\n",
      "Epoch: 45. Training Loss: 0.659. Accuracy: 48.4%\n",
      "Epoch: 50. Training Loss: 0.626. Accuracy: 48.4%\n",
      "Epoch: 55. Training Loss: 0.601. Accuracy: 48.4%\n",
      "Epoch: 60. Training Loss: 0.581. Accuracy: 48.4%\n",
      "Epoch: 65. Training Loss: 0.564. Accuracy: 48.4%\n",
      "Epoch: 70. Training Loss: 0.551. Accuracy: 46.9%\n",
      "Epoch: 75. Training Loss: 0.540. Accuracy: 46.9%\n",
      "Epoch: 80. Training Loss: 0.537. Accuracy: 46.9%\n"
     ]
    }
   ],
   "source": [
    "model = CBOWLanguageModel(len(training_dataset.word_to_index), n_embd,\n",
    "                          sequence_length, hidden_layer_size)\n",
    "model.train()\n",
    "\n",
    "criterion = nn.CrossEntropyLoss()\n",
    "\n",
    "optimizer = optim.Adam(model.parameters(), lr=learning_rate)\n",
    "\n",
    "local_results = ([],[],[])\n",
    "\n",
    "for epoch in range(MAX_EPOCHS):\n",
    "    for batch, (x, y) in enumerate(training_dataloader):\n",
    "        optimizer.zero_grad()\n",
    "        y_pred = model(x)\n",
    "        log_probs = nn.functional.log_softmax(y_pred, dim=1)\n",
    "        loss = criterion(log_probs, y)\n",
    "        loss.backward()\n",
    "        optimizer.step()\n",
    "\n",
    "    # Every 5 epochs, we want to see how well we train\n",
    "    if epoch % PRINT_LOSS_EVERY == 0:\n",
    "        correct = torch.sum((torch.argmax(log_probs, dim=1) == y).int())\n",
    "        accuracy = 100 * correct / batch_size\n",
    "        print(\"Epoch: {}. Training Loss: {:.3f}. Accuracy: {:.1f}%\".format(\n",
    "            epoch, loss.item(),accuracy))\n",
    "        local_results[0].append(epoch)\n",
    "        local_results[1].append(loss.item())\n",
    "        local_results[2].append(accuracy)\n",
    "\n",
    "# Add results to results dictionary\n",
    "early_model_results['cbow-model'] = local_results"
   ]
  },
  {
   "cell_type": "code",
   "execution_count": 45,
   "metadata": {
    "id": "-ibezMG1UU40"
   },
   "outputs": [],
   "source": [
    "context = [\"did\",\"the\",\"cross\", \"the\"]\n",
    "words = torch.tensor([[word_to_index[w] for w in context]], dtype=torch.long)"
   ]
  },
  {
   "cell_type": "code",
   "execution_count": 46,
   "metadata": {
    "colab": {
     "base_uri": "https://localhost:8080/"
    },
    "id": "QD76GZpXVVi6",
    "outputId": "bae56187-562f-40f2-a880-902131061e05"
   },
   "outputs": [
    {
     "name": "stdout",
     "output_type": "stream",
     "text": [
      "tensor([[ -9.8540, -11.6001,  -4.6046,  ..., -17.1337, -20.5839, -19.2433]],\n",
      "       grad_fn=<LogSoftmaxBackward0>)\n",
      "1485\n",
      "{'tomato'}\n"
     ]
    }
   ],
   "source": [
    "output = model(words)\n",
    "print(model(words))\n",
    "print(torch.argmax(output, dim=1).item())\n",
    "\n",
    "next_word = {i for i in word_to_index if word_to_index[i]==torch.argmax(output, dim=1).item()}\n",
    "print(next_word)"
   ]
  },
  {
   "cell_type": "code",
   "execution_count": 47,
   "metadata": {
    "colab": {
     "base_uri": "https://localhost:8080/"
    },
    "id": "2tmV75lH25XO",
    "outputId": "42a05a5c-35b9-465a-9e2a-0607bcf91705"
   },
   "outputs": [
    {
     "name": "stdout",
     "output_type": "stream",
     "text": [
      "tensor([1485, 3147, 1631,   36,  278,  482,  218,   60, 1898,    2])\n",
      "[{'tomato'}, {'side'}, {'happy'}, {'cross'}, {'is'}, {'name'}, {'eight?'}, {'one'}, {'afraid'}, {'the'}]\n"
     ]
    }
   ],
   "source": [
    "num_indexes = 10\n",
    "indices = torch.topk(output.flatten(), num_indexes).indices\n",
    "print(indices)\n",
    "next_words_top_10 = [{i for i in word_to_index if word_to_index[i]==indices[j]} for j in range(num_indexes)]\n",
    "print(next_words_top_10)"
   ]
  },
  {
   "cell_type": "markdown",
   "metadata": {
    "id": "ihaDF3oGYKSL"
   },
   "source": [
    "### Skip Gram Model"
   ]
  },
  {
   "cell_type": "code",
   "execution_count": 48,
   "metadata": {
    "id": "OTntD4lJSUol"
   },
   "outputs": [],
   "source": [
    "sequence_length = 4"
   ]
  },
  {
   "cell_type": "code",
   "execution_count": 49,
   "metadata": {
    "id": "p4qPUCSDKubQ"
   },
   "outputs": [],
   "source": [
    "class skipgramDataset(torch.utils.data.Dataset):\n",
    "    def __init__(self, words, unqi_words, index_to_word, word_to_index,\n",
    "                 word_indexes, sequence_length):\n",
    "        self.words = words\n",
    "        self.uniq_words = unqi_words\n",
    "        self.index_to_word = index_to_word\n",
    "        self.word_to_index = word_to_index\n",
    "        self.words_indexes = word_indexes\n",
    "        self.number_of_words = len(words)\n",
    "        self.context_distance = sequence_length\n",
    "\n",
    "    def __len__(self):\n",
    "        return len(self.words_indexes) - self.context_distance\n",
    "\n",
    "    '''\n",
    "    This dataset looks for a word in between two sets of words.\n",
    "    '''\n",
    "    def __getitem__(self, index):\n",
    "        words_left = []\n",
    "        for i in range(1, self.context_distance + 1):\n",
    "            words_left.append(self.words_indexes[index - i])\n",
    "\n",
    "        return (\n",
    "            torch.tensor(self.words_indexes[index]),\n",
    "            torch.tensor(self.words_indexes[index - 2]),\n",
    "            torch.tensor(self.words_indexes[index - 1]),\n",
    "            torch.tensor(self.words_indexes[(index + 1) % self.number_of_words]),\n",
    "            torch.tensor(self.words_indexes[(index + 2) % self.number_of_words]),\n",
    "        )"
   ]
  },
  {
   "cell_type": "code",
   "execution_count": 50,
   "metadata": {
    "id": "OqrqI18uYKSL"
   },
   "outputs": [],
   "source": [
    "class skipgramLanguageModel(nn.Module):\n",
    "    def __init__(self, vocab_size, embedding_dim, hidden_layer_size):\n",
    "        super(skipgramLanguageModel, self).__init__()\n",
    "        self.u_embeddings = nn.Embedding(vocab_size, embedding_dim)\n",
    "        #self.v_embeddings = nn.Embedding(vocab_size, embedding_dim, sparse=True)\n",
    "        self.embedding_dim = embedding_dim\n",
    "\n",
    "        self.linear1 = nn.Linear(embedding_dim, hidden_layer_size)\n",
    "        # Each word\n",
    "        self.linearminus2 = nn.Linear(hidden_layer_size, vocab_size)\n",
    "        self.linearminus1 = nn.Linear(hidden_layer_size, vocab_size)\n",
    "        self.linearplus1 = nn.Linear(hidden_layer_size, vocab_size)\n",
    "        self.linearplus2 = nn.Linear(hidden_layer_size, vocab_size)\n",
    "        self.init_emb()\n",
    "\n",
    "    def init_emb(self):\n",
    "        initrange = 1.0 / self.embedding_dim\n",
    "        self.u_embeddings.weight.data.uniform_(-initrange, initrange)\n",
    "\n",
    "    def forward(self, input):\n",
    "        embeds = self.u_embeddings(input)\n",
    "        out = embeds.view((input.size(dim=0), self.embedding_dim))\n",
    "        out = nn.functional.relu(self.linear1(out))\n",
    "\n",
    "        # Get each word\n",
    "        outminus2 = self.linearminus2(out)\n",
    "        outminus1 = self.linearminus1(out)\n",
    "        outplus1 = self.linearplus1(out)\n",
    "        outplus2 = self.linearplus2(out)\n",
    "\n",
    "        #Get the max value for each word\n",
    "        outminus2 = nn.functional.log_softmax(outminus2, dim=1)\n",
    "        outminus1 = nn.functional.log_softmax(outminus1, dim=1)\n",
    "        outplus1 = nn.functional.log_softmax(outplus1, dim=1)\n",
    "        outplus2 = nn.functional.log_softmax(outplus2, dim=1)\n",
    "\n",
    "        return (outminus2, outminus1, outplus1, outplus2)"
   ]
  },
  {
   "cell_type": "code",
   "execution_count": 51,
   "metadata": {
    "id": "gHTHVHxRSNA8"
   },
   "outputs": [],
   "source": [
    "training_dataset = skipgramDataset(jokes, uniq_words, index_to_word,\n",
    "                               word_to_index, words_indexes, sequence_length)"
   ]
  },
  {
   "cell_type": "code",
   "execution_count": 52,
   "metadata": {
    "id": "gSKW0ZsASQvh"
   },
   "outputs": [],
   "source": [
    "training_dataloader = DataLoader(\n",
    "    training_dataset,\n",
    "    batch_size=batch_size,\n",
    ")"
   ]
  },
  {
   "cell_type": "code",
   "execution_count": 53,
   "metadata": {
    "colab": {
     "base_uri": "https://localhost:8080/"
    },
    "id": "eMHyBl7XYKSL",
    "outputId": "95839dbf-0ddf-4d48-dd79-cc30de9d8999"
   },
   "outputs": [
    {
     "name": "stdout",
     "output_type": "stream",
     "text": [
      "Epoch: 0. Training Loss: 33.313. Accuracy: 2.0%\n",
      "Epoch: 5. Training Loss: 27.101. Accuracy: 3.1%\n",
      "Epoch: 10. Training Loss: 25.324. Accuracy: 5.5%\n",
      "Epoch: 15. Training Loss: 23.017. Accuracy: 7.0%\n",
      "Epoch: 20. Training Loss: 21.552. Accuracy: 8.2%\n",
      "Epoch: 25. Training Loss: 20.119. Accuracy: 9.8%\n",
      "Epoch: 30. Training Loss: 18.620. Accuracy: 10.5%\n",
      "Epoch: 35. Training Loss: 17.129. Accuracy: 10.9%\n",
      "Epoch: 40. Training Loss: 15.652. Accuracy: 12.5%\n",
      "Epoch: 45. Training Loss: 14.212. Accuracy: 15.2%\n",
      "Epoch: 50. Training Loss: 12.820. Accuracy: 19.5%\n",
      "Epoch: 55. Training Loss: 11.715. Accuracy: 22.3%\n",
      "Epoch: 60. Training Loss: 10.986. Accuracy: 24.2%\n",
      "Epoch: 65. Training Loss: 10.543. Accuracy: 25.4%\n",
      "Epoch: 70. Training Loss: 10.211. Accuracy: 25.8%\n",
      "Epoch: 75. Training Loss: 9.945. Accuracy: 27.0%\n",
      "Epoch: 80. Training Loss: 9.737. Accuracy: 27.7%\n"
     ]
    }
   ],
   "source": [
    "model = skipgramLanguageModel(len(word_to_index), n_embd, hidden_layer_size)\n",
    "\n",
    "if torch.cuda.is_available():\n",
    "      model.cuda()\n",
    "\n",
    "criterion = nn.CrossEntropyLoss()\n",
    "optimizer = optim.Adam(model.parameters(), lr=learning_rate)\n",
    "\n",
    "local_results = ([], [], [])\n",
    "\n",
    "for epoch in range(MAX_EPOCHS):\n",
    "    for batch, (x, y_minus2, y_minus1, y_plus1, y_plus2) in enumerate(training_dataloader):\n",
    "        optimizer.zero_grad()\n",
    "        (y_predminus2, y_predminus1, y_predplus1, y_predplus2) = model(x)\n",
    "\n",
    "        # Get the log probabilities for each word\n",
    "        log_probs = nn.functional.log_softmax(y_predminus2, dim=1)\n",
    "        loss = criterion(log_probs, y_minus2)\n",
    "\n",
    "        log_probs2 = nn.functional.log_softmax(y_predminus1, dim=1)\n",
    "        loss += criterion(log_probs2, y_minus1)\n",
    "\n",
    "        log_probs3 = nn.functional.log_softmax(y_predplus1, dim=1)\n",
    "        loss += criterion(log_probs3, y_plus1)\n",
    "\n",
    "        log_probs4 = nn.functional.log_softmax(y_predplus2, dim=1)\n",
    "        loss += criterion(log_probs4, y_plus2)\n",
    "\n",
    "        # We run our loss function here\n",
    "        loss.backward()\n",
    "        optimizer.step()\n",
    "\n",
    "    # Every 5 epochs, we want to see how well the model performs\n",
    "    if epoch % PRINT_LOSS_EVERY == 0:\n",
    "        correct = 0\n",
    "        correct += torch.sum((torch.argmax(log_probs, dim=1) == y_minus2).int())\n",
    "        correct += torch.sum((torch.argmax(log_probs2, dim=1) == y_minus1).int())\n",
    "        correct += torch.sum((torch.argmax(log_probs3, dim=1) == y_plus1).int())\n",
    "        correct += torch.sum((torch.argmax(log_probs4, dim=1) == y_plus2).int())\n",
    "\n",
    "        accuracy = 100 * correct / (batch_size * 4)\n",
    "        print(\"Epoch: {}. Training Loss: {:.3f}. Accuracy: {:.1f}%\".format(\n",
    "            epoch, loss.item(), accuracy))\n",
    "        local_results[0].append(epoch)\n",
    "        local_results[1].append(loss.item())\n",
    "        local_results[2].append(accuracy)\n",
    "\n",
    "early_model_results['skipgram-model'] = local_results"
   ]
  },
  {
   "cell_type": "markdown",
   "metadata": {
    "id": "OJfjVvGBOUFK"
   },
   "source": [
    "We will test this model by using the sentence \"why did the chicken cross the road\". In this case, we are looking for \"did the\" and \"cross the\" using the word \"chicken\"."
   ]
  },
  {
   "cell_type": "code",
   "execution_count": 54,
   "metadata": {
    "id": "UhfNpcob12kE"
   },
   "outputs": [],
   "source": [
    "context = [\"did\",\"the\",\"cross\", \"the\"]\n",
    "words = torch.tensor([[word_to_index[\"chicken\"]]], dtype=torch.long)"
   ]
  },
  {
   "cell_type": "code",
   "execution_count": 55,
   "metadata": {
    "colab": {
     "base_uri": "https://localhost:8080/"
    },
    "id": "hzKZevSP1_44",
    "outputId": "c46b997f-8e75-4704-f65f-d361e93841fe"
   },
   "outputs": [
    {
     "name": "stdout",
     "output_type": "stream",
     "text": [
      "1\n",
      "[{'did'}, {'the'}, {'cross'}, {'the'}]\n"
     ]
    }
   ],
   "source": [
    "y1, y2, y3, y4 = model(words)\n",
    "print(torch.argmax(y1, dim=1).item())\n",
    "\n",
    "word_minus2 = {i for i in word_to_index if word_to_index[i]==torch.argmax(y1, dim=1).item()}\n",
    "word_minus1 = {i for i in word_to_index if word_to_index[i]==torch.argmax(y2, dim=1).item()}\n",
    "word_plus1 = {i for i in word_to_index if word_to_index[i]==torch.argmax(y3, dim=1).item()}\n",
    "word_plus2 = {i for i in word_to_index if word_to_index[i]==torch.argmax(y4, dim=1).item()}\n",
    "print([word_minus2, word_minus1, word_plus1, word_plus2])"
   ]
  },
  {
   "cell_type": "markdown",
   "metadata": {
    "id": "wAwn7aV9GqLJ"
   },
   "source": [
    "This model is impressive."
   ]
  },
  {
   "cell_type": "markdown",
   "metadata": {
    "id": "q-dvAsP9aKHT"
   },
   "source": [
    "### Comparing Old Models\n",
    "\n",
    "Since we have data on the old models, we can roughly compare the results of each model on a plot."
   ]
  },
  {
   "cell_type": "code",
   "execution_count": 58,
   "metadata": {
    "colab": {
     "base_uri": "https://localhost:8080/",
     "height": 576
    },
    "id": "wiNFMjS8YKSh",
    "outputId": "91cdd192-5b6a-4c3b-f119-b1a3a2faea7e"
   },
   "outputs": [
    {
     "name": "stdout",
     "output_type": "stream",
     "text": [
      "The results for our early models:\n",
      "Model: ngram-model. Score: 0.8958367109298706.\n",
      "Model: lstm-model. Score: 0.022056899964809418.\n",
      "Model: cbow-model. Score: 0.537187397480011.\n",
      "Model: skipgram-model. Score: 9.736570358276367.\n",
      "\n"
     ]
    },
    {
     "data": {
      "image/png": "[encoded data removed]",
      "text/plain": [
       "<Figure size 640x480 with 1 Axes>"
      ]
     },
     "metadata": {},
     "output_type": "display_data"
    }
   ],
   "source": [
    "plt.figure(0)\n",
    "labels = list(early_model_results.keys())\n",
    "\n",
    "print(\"The results for our early models:\")\n",
    "for j, plot_data in enumerate(early_model_results.values()):\n",
    "  print(\"Model: {}. Score: {}.\".format(labels[j],plot_data[1][-1]))\n",
    "  max_num = max(plot_data[1])\n",
    "  if max(plot_data[1]) < 0.0001:\n",
    "      max_num = 1\n",
    "  output_data = [i/max_num for i in plot_data[1]]\n",
    "  plt.plot(plot_data[0], output_data, label = labels[j])\n",
    "\n",
    "print(\"\")\n",
    "plt.title(\"Loss Comparison Across Language Models\")\n",
    "plt.xlabel(\"Epochs\")\n",
    "plt.ylabel(\"Relative Loss\")\n",
    "plt.legend()\n",
    "plt.yscale('log')\n",
    "plt.grid()\n",
    "plt.show()"
   ]
  },
  {
   "cell_type": "markdown",
   "metadata": {
    "id": "zpahTjfIjggf"
   },
   "source": [
    "And now we compare the output accuracy for each model. The LSTM model did the best in terms of accuracy, and its loss. Suprisingly, it looks the model can continue to learn."
   ]
  },
  {
   "cell_type": "code",
   "execution_count": 57,
   "metadata": {
    "colab": {
     "base_uri": "https://localhost:8080/",
     "height": 576
    },
    "id": "2wMSSkamLMFk",
    "outputId": "81b4e0a8-1337-498b-8c46-2f77cf295935"
   },
   "outputs": [
    {
     "name": "stdout",
     "output_type": "stream",
     "text": [
      "Accuracy results for our early models:\n",
      "Model: ngram-model. Accuracy: 48.4375.\n",
      "Model: lstm-model. Accuracy: 59.375.\n",
      "Model: cbow-model. Accuracy: 46.875.\n",
      "Model: skipgram-model. Accuracy: 27.734375.\n",
      "\n"
     ]
    },
    {
     "data": {
      "image/png": "[encoded data removed]",
      "text/plain": [
       "<Figure size 640x480 with 1 Axes>"
      ]
     },
     "metadata": {},
     "output_type": "display_data"
    }
   ],
   "source": [
    "plt.figure(0)\n",
    "labels = list(early_model_results.keys())\n",
    "\n",
    "print(\"Accuracy results for our early models:\")\n",
    "for j, plot_data in enumerate(early_model_results.values()):\n",
    "  print(\"Model: {}. Accuracy: {}.\".format(labels[j],plot_data[2][-1]))\n",
    "  plt.plot(plot_data[0], plot_data[2], label = labels[j])\n",
    "\n",
    "print(\"\")\n",
    "plt.title(\"Accuracy Comparison Across Language Models\")\n",
    "plt.xlabel(\"Epochs\")\n",
    "plt.ylabel(\"Accuracy (%)\")\n",
    "plt.legend()\n",
    "plt.show()"
   ]
  },
  {
   "cell_type": "markdown",
   "metadata": {
    "id": "mku_YlG2YKSh"
   },
   "source": [
    "## Going Forward With Large Language Models\n",
    "The architectures explored in this blog are powerful tools for predicting words. Four different architectures were built and examined.Some improvements that could be made is adding cross-validation and an adjusted learning rate to further improve each model.\n",
    "\n",
    "Moving forward, creating a more complicated language model can be done by organizing RNNs together and creating a new RNN called a generative pre-trained transformer. This will be in part 2.\n",
    "\n",
    "#### Different Resources For Stating Paths\n",
    "- https://github.com/openai/gpt-2\n",
    "- https://en.wikipedia.org/wiki/Seq2seq\n",
    "- https://docs.chainer.org/en/stable/examples/seq2seq.html\n",
    "- https://github.com/karpathy/ng-video-lecture\n",
    "\n",
    "\n"
   ]
  },
  {
   "cell_type": "markdown",
   "metadata": {
    "id": "-jz3hwGyYKSi"
   },
   "source": [
    "# References\n",
    "1. *Chapter 10: NLP Deep Dive: RNNs Introduction to (and including) Chapter 10: Text Preprocessing Pages 329 - 338*\n",
    "\n",
    "1. Chapter 7. Working with text data - 7.7 Bag of Words with more than one word (p.329-350)\n",
    "\n",
    "1. \"Foundations of Statistical Natural Language Processing. By Christopher D. Manning, Hinrich Schiitze\"\n",
    "\n",
    "1. https://en.wikipedia.org/wiki/N-gram_language_model\n",
    "\n",
    "1. https://aclanthology.org/P06-1092.pdf\n",
    "\n",
    "1. https://cs.stanford.edu/people/eroberts/courses/soco/projects/2004-05/nlp/overview_history.html\n",
    "\n",
    "1. https://medium.com/nlplanet/a-brief-timeline-of-nlp-bc45b640f07d\n",
    "\n",
    "1. https://www.researchgate.net/publication/3191800_Cache-based_natural_language_model_for_speech_recognition\n",
    "\n",
    "1. https://www.analyticsvidhya.com/blog/2021/09/what-are-n-grams-and-how-to-implement-them-in-python/\n",
    "\n",
    "1. https://pytorch.org/tutorials/beginner/nlp/word_embeddings_tutorial.html\n",
    "\n",
    "1. \"Generating Sequences With Recurrent Neural Networks Alex Graves\"\n",
    "\n",
    "1. https://medium.datadriveninvestor.com/how-do-lstm-networks-solve-the-problem-of-vanishing-gradients-a6784971a577\n",
    "\n",
    "1. https://www.kdnuggets.com/2020/07/pytorch-lstm-text-generation-tutorial.html\n",
    "\n",
    "1. https://en.wikipedia.org/wiki/Word2vec#:~:text=Word2vec%20is%20a%20technique%20for,words%20for%20a%20partial%20sentence\n",
    "\n",
    "1. https://www.fit.vut.cz/study/phd-thesis-file/283/283.pdf\n",
    "\n",
    "1. https://medium.datadriveninvestor.com/how-do-lstm-networks-solve-the-problem-of-vanishing-gradients-a6784971a577"
   ]
  }
 ],
 "metadata": {
  "colab": {
   "gpuType": "T4",
   "provenance": []
  },
  "kernelspec": {
   "display_name": "Python 3 (ipykernel)",
   "language": "python",
   "name": "python3"
  },
  "language_info": {
   "codemirror_mode": {
    "name": "ipython",
    "version": 3
   },
   "file_extension": ".py",
   "mimetype": "text/x-python",
   "name": "python",
   "nbconvert_exporter": "python",
   "pygments_lexer": "ipython3",
   "version": "3.10.4"
  }
 },
 "nbformat": 4,
 "nbformat_minor": 4
}
